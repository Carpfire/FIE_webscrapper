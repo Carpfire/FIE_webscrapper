{
 "cells": [
  {
   "cell_type": "code",
   "execution_count": 1,
   "metadata": {},
   "outputs": [],
   "source": [
    "import sqlite3\n",
    "import uuid"
   ]
  },
  {
   "cell_type": "code",
   "execution_count": null,
   "metadata": {},
   "outputs": [],
   "source": []
  },
  {
   "cell_type": "code",
   "execution_count": 2,
   "metadata": {},
   "outputs": [],
   "source": [
    "connection = sqlite3.connect('fencing_test.db')\n",
    "with open('schema.sql') as f:\n",
    "    connection.executescript(f.read())\n",
    "cur = connection.cursor()\n",
    "bout_1_id = str(uuid.uuid4())\n",
    "bout_2_id = str(uuid.uuid4())\n",
    "cur.execute('INSERT INTO fencers (name) VALUES (?)', ('LIAM CARPENTER',))\n",
    "cur.execute('INSERT INTO fencers (name) VALUES (?)', ('CASEY BUSSONE',))\n",
    "cur.execute('INSERT INTO bouts (id, win_score, lose_score) VALUES (?,?, ?)', (bout_1_id, 15, 13))\n",
    "\n",
    "cur.execute('INSERT INTO winners(bout_id, fencer_id) VALUES (?, ?)', (bout_1_id, 1))\n",
    "cur.execute('INSERT INTO losers(bout_id, fencer_id) VALUES (?, ?)', (bout_1_id, 2))\n",
    "\n",
    "cur.execute('INSERT INTO fencers (name) VALUES (?)', ('JIM CARPENTER',))\n",
    "cur.execute('INSERT INTO bouts (id, win_score, lose_score) VALUES (?, ?, ?)', (bout_2_id, 15, 10))\n",
    "cur.execute('INSERT INTO winners(bout_id, fencer_id) VALUES (?, ?)', (bout_2_id, 1))\n",
    "cur.execute('INSERT INTO losers(bout_id, fencer_id) VALUES (?, ?)', (bout_2_id, 3))\n",
    "connection.commit()\n",
    "connection.close()\n",
    "\n"
   ]
  },
  {
   "cell_type": "code",
   "execution_count": null,
   "metadata": {},
   "outputs": [],
   "source": []
  },
  {
   "cell_type": "code",
   "execution_count": null,
   "metadata": {},
   "outputs": [],
   "source": []
  },
  {
   "cell_type": "code",
   "execution_count": 5,
   "metadata": {},
   "outputs": [],
   "source": [
    "def get_db_connection():\n",
    "    conn = sqlite3.connect('fencing_test.db')\n",
    "    conn.row_factory = sqlite3.Row\n",
    "    return conn"
   ]
  },
  {
   "cell_type": "code",
   "execution_count": 37,
   "metadata": {},
   "outputs": [],
   "source": [
    "conn = sqlite3.connect('fencing_test.db')"
   ]
  },
  {
   "cell_type": "code",
   "execution_count": 40,
   "metadata": {},
   "outputs": [],
   "source": [
    "cur = conn.cursor()\n",
    "cur.execute(\"INSERT INTO fencers (name) VALUES (?)\", (\"JIM CARPENTER\",))\n",
    "cur.execute(\"INSERT INTO bouts (win_score, lose_score, win_fencer_id, lose_fencer_id) VALUES (?,?,?,?)\", (15, 4, 2, 3))\n",
    "conn.commit()\n",
    "conn.close()"
   ]
  },
  {
   "cell_type": "code",
   "execution_count": 6,
   "metadata": {},
   "outputs": [],
   "source": [
    "conn = get_db_connection()"
   ]
  },
  {
   "cell_type": "code",
   "execution_count": 7,
   "metadata": {},
   "outputs": [
    {
     "data": {
      "text/plain": [
       "[<sqlite3.Row at 0x2c1e9e23d70>, <sqlite3.Row at 0x2c1e9f4c250>]"
      ]
     },
     "execution_count": 7,
     "metadata": {},
     "output_type": "execute_result"
    }
   ],
   "source": [
    "res = conn.execute('SELECT f.name FROM fencers f, bouts b, winners w WHERE w.fencer_id = f.id AND w.bout_id = ? UNION SELECT f.name FROM fencers f, bouts b, losers l WHERE l.fencer_id=f.id AND l.bout_id = ?', (bout_1_id, bout_1_id)).fetchall()\n",
    "res"
   ]
  },
  {
   "cell_type": "code",
   "execution_count": 9,
   "metadata": {},
   "outputs": [
    {
     "data": {
      "text/plain": [
       "('CASEY BUSSONE', 'LIAM CARPENTER')"
      ]
     },
     "execution_count": 9,
     "metadata": {},
     "output_type": "execute_result"
    }
   ],
   "source": [
    "res[0]['name'], res[1]['name']"
   ]
  },
  {
   "cell_type": "code",
   "execution_count": 142,
   "metadata": {},
   "outputs": [
    {
     "data": {
      "text/plain": [
       "[]"
      ]
     },
     "execution_count": 142,
     "metadata": {},
     "output_type": "execute_result"
    }
   ],
   "source": [
    "conn.execute('SELECT f.name FROM fencers f WHERE f.name = ?', ('WILSON',)).fetchall()"
   ]
  },
  {
   "cell_type": "code",
   "execution_count": null,
   "metadata": {},
   "outputs": [],
   "source": []
  },
  {
   "cell_type": "code",
   "execution_count": 135,
   "metadata": {},
   "outputs": [],
   "source": [
    "score = conn.execute('SELECT b.win_score, b.lose_score FROM bouts b WHERE b.id = ?', (2,)).fetchall()"
   ]
  },
  {
   "cell_type": "code",
   "execution_count": 139,
   "metadata": {},
   "outputs": [
    {
     "data": {
      "text/plain": [
       "(15, 10)"
      ]
     },
     "execution_count": 139,
     "metadata": {},
     "output_type": "execute_result"
    }
   ],
   "source": [
    "score[0]['win_score'], score[0]['lose_score']"
   ]
  },
  {
   "cell_type": "code",
   "execution_count": 126,
   "metadata": {},
   "outputs": [
    {
     "name": "stdout",
     "output_type": "stream",
     "text": [
      "JIM CARPENTER\n",
      "LIAM CARPENTER\n"
     ]
    }
   ],
   "source": [
    "for r in res:\n",
    "    print(r['name'])"
   ]
  },
  {
   "cell_type": "code",
   "execution_count": null,
   "metadata": {},
   "outputs": [],
   "source": []
  },
  {
   "cell_type": "code",
   "execution_count": 58,
   "metadata": {},
   "outputs": [
    {
     "name": "stdout",
     "output_type": "stream",
     "text": [
      "['win_score', 'lose_score', 'name']\n",
      "['win_score', 'lose_score', 'name']\n"
     ]
    }
   ],
   "source": [
    "for row in res:\n",
    "    print(row.keys())\n",
    "    #print(row['win_score'], row['lose_score'], row['name'])"
   ]
  },
  {
   "cell_type": "code",
   "execution_count": 15,
   "metadata": {},
   "outputs": [],
   "source": [
    "re = conn.execute('SELECT bout.w_fencer_id FROM bout').fetchone()\n"
   ]
  },
  {
   "cell_type": "code",
   "execution_count": 18,
   "metadata": {},
   "outputs": [],
   "source": [
    "re['w_fencer_id']"
   ]
  },
  {
   "cell_type": "code",
   "execution_count": 3,
   "metadata": {},
   "outputs": [
    {
     "data": {
      "text/plain": [
       "<sqlalchemy.orm.session.SessionTransaction at 0x26351660fd0>"
      ]
     },
     "execution_count": 3,
     "metadata": {},
     "output_type": "execute_result"
    }
   ],
   "source": [
    "session = SessionLocal\n",
    "session.begin()"
   ]
  },
  {
   "cell_type": "code",
   "execution_count": null,
   "metadata": {},
   "outputs": [],
   "source": [
    "select(fencer)"
   ]
  }
 ],
 "metadata": {
  "interpreter": {
   "hash": "574a1d83014fadc38c94898260f1dd3233f9289543523cc04b243a10d598bc78"
  },
  "kernelspec": {
   "display_name": "Python 3.9.11 ('fencing_v3')",
   "language": "python",
   "name": "python3"
  },
  "language_info": {
   "codemirror_mode": {
    "name": "ipython",
    "version": 3
   },
   "file_extension": ".py",
   "mimetype": "text/x-python",
   "name": "python",
   "nbconvert_exporter": "python",
   "pygments_lexer": "ipython3",
   "version": "3.9.11"
  },
  "orig_nbformat": 4
 },
 "nbformat": 4,
 "nbformat_minor": 2
}

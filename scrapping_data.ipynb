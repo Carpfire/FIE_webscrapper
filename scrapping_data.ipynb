{
 "cells": [
  {
   "cell_type": "code",
   "execution_count": 1,
   "metadata": {},
   "outputs": [],
   "source": [
    "%load_ext autoreload\n",
    "%autoreload 2"
   ]
  },
  {
   "cell_type": "code",
   "execution_count": 2,
   "metadata": {},
   "outputs": [],
   "source": [
    "from app.database import SessionLocal, engine, Base\n",
    "from app.models import Fencer, Tournament, Bout\n",
    "import datetime"
   ]
  },
  {
   "cell_type": "code",
   "execution_count": 3,
   "metadata": {},
   "outputs": [],
   "source": [
    "Base.metadata.drop_all(engine)"
   ]
  },
  {
   "cell_type": "code",
   "execution_count": 4,
   "metadata": {},
   "outputs": [],
   "source": [
    "Base.metadata.create_all(engine)"
   ]
  },
  {
   "cell_type": "code",
   "execution_count": 5,
   "metadata": {},
   "outputs": [],
   "source": [
    "from web_scrapping_helpers import FIEPage, parse_metadata, parse_pool, pool_to_db, tournament_to_db"
   ]
  },
  {
   "cell_type": "code",
   "execution_count": 6,
   "metadata": {},
   "outputs": [
    {
     "name": "stdout",
     "output_type": "stream",
     "text": [
      "\n"
     ]
    },
    {
     "name": "stderr",
     "output_type": "stream",
     "text": [
      "[WDM] - ====== WebDriver manager ======\n",
      "[WDM] - Current google-chrome version is 102.0.5005\n",
      "[WDM] - Get LATEST chromedriver version for 102.0.5005 google-chrome\n",
      "[WDM] - Driver [C:\\Users\\liamc\\.wdm\\drivers\\chromedriver\\win32\\102.0.5005.61\\chromedriver.exe] found in cache\n"
     ]
    }
   ],
   "source": [
    "Scraper = FIEPage('epee', 's', 'A', 2)"
   ]
  },
  {
   "cell_type": "code",
   "execution_count": 7,
   "metadata": {},
   "outputs": [
    {
     "data": {
      "text/plain": [
       "<web_scrapping_helpers.FIEPage at 0x1f69ff404f0>"
      ]
     },
     "execution_count": 7,
     "metadata": {},
     "output_type": "execute_result"
    }
   ],
   "source": [
    "Scraper.open_competions().previous().age_group('s').comp_category('A').select_weapon('epee').select_gender('m').select_event_type()"
   ]
  },
  {
   "cell_type": "code",
   "execution_count": 9,
   "metadata": {},
   "outputs": [],
   "source": [
    "metadata = Scraper.get_competitions()"
   ]
  },
  {
   "cell_type": "code",
   "execution_count": 10,
   "metadata": {},
   "outputs": [],
   "source": [
    "comp = metadata[0]"
   ]
  },
  {
   "cell_type": "code",
   "execution_count": 11,
   "metadata": {},
   "outputs": [],
   "source": [
    "with SessionLocal as session, session.begin():\n",
    "    tourn_meta, link = comp\n",
    "    tournament = tournament_to_db(tourn_meta, session)\n",
    "    main = Scraper.open_window(link)\n",
    "    pool_data = Scraper.to_results().to_pools().get_pools_data()\n",
    "    for pool in pool_data:\n",
    "        bouts = parse_pool(pool)\n",
    "        pool_to_db(bouts, tournament, session)\n",
    "\n",
    "\n",
    "\n"
   ]
  },
  {
   "cell_type": "code",
   "execution_count": null,
   "metadata": {},
   "outputs": [],
   "source": [
    "for fencer in test_cases:\n",
    "    first_names = []\n",
    "    last_names = []\n",
    "    for name in fencer:\n",
    "        if name.isupper():\n",
    "            name = ''.join([name[0], name[1:].lower()])\n",
    "            last_names.append(name)\n",
    "        else: first_names.append(name)\n",
    "    first_name = ' '.join(first_names)\n",
    "    last_name = ' '.join(last_names)\n",
    "    print(first_name, last_name)\n"
   ]
  },
  {
   "cell_type": "code",
   "execution_count": 15,
   "metadata": {},
   "outputs": [],
   "source": [
    "# session = SessionLocal\n",
    "# session.begin()\n",
    "fencer_test = session.query(Fencer).filter_by(first_name = 'SAMUEL').all()"
   ]
  },
  {
   "cell_type": "code",
   "execution_count": 19,
   "metadata": {},
   "outputs": [
    {
     "data": {
      "text/plain": [
       "[PAUL ALLEGRE 5 to SAMUEL LARSEN 3,\n",
       " ALEXIS BAYARD 5 to SAMUEL LARSEN 0,\n",
       " MYEONGKI KIM 5 to SAMUEL LARSEN 3,\n",
       " YOHITO MASUDA 4 to SAMUEL LARSEN 3,\n",
       " JAKOB STYMNE 5 to SAMUEL LARSEN 2]"
      ]
     },
     "execution_count": 19,
     "metadata": {},
     "output_type": "execute_result"
    }
   ],
   "source": [
    "fencer_test[1].bout_lose"
   ]
  },
  {
   "cell_type": "code",
   "execution_count": 16,
   "metadata": {},
   "outputs": [
    {
     "data": {
      "text/plain": [
       "2"
      ]
     },
     "execution_count": 16,
     "metadata": {},
     "output_type": "execute_result"
    }
   ],
   "source": [
    "dc = {'a':[], 'b':[]}\n",
    "len(dc)"
   ]
  },
  {
   "cell_type": "code",
   "execution_count": 15,
   "metadata": {},
   "outputs": [
    {
     "name": "stdout",
     "output_type": "stream",
     "text": [
      "0\n",
      "0\n",
      "0\n",
      "0\n"
     ]
    },
    {
     "name": "stderr",
     "output_type": "stream",
     "text": [
      "[autoreload of app.models failed: Traceback (most recent call last):\n",
      "  File \"c:\\Users\\liamc\\anaconda3\\envs\\fencing_elo\\lib\\site-packages\\IPython\\extensions\\autoreload.py\", line 257, in check\n",
      "    superreload(m, reload, self.old_objects)\n",
      "  File \"c:\\Users\\liamc\\anaconda3\\envs\\fencing_elo\\lib\\site-packages\\IPython\\extensions\\autoreload.py\", line 455, in superreload\n",
      "    module = reload(module)\n",
      "  File \"c:\\Users\\liamc\\anaconda3\\envs\\fencing_elo\\lib\\importlib\\__init__.py\", line 169, in reload\n",
      "    _bootstrap._exec(spec, module)\n",
      "  File \"<frozen importlib._bootstrap>\", line 613, in _exec\n",
      "  File \"<frozen importlib._bootstrap_external>\", line 850, in exec_module\n",
      "  File \"<frozen importlib._bootstrap>\", line 228, in _call_with_frames_removed\n",
      "  File \"c:\\Users\\liamc\\Desktop\\fencing_elo\\app\\models.py\", line 13, in <module>\n",
      "    tourn_fen = Table(\n",
      "  File \"<string>\", line 2, in __new__\n",
      "  File \"c:\\Users\\liamc\\anaconda3\\envs\\fencing_elo\\lib\\site-packages\\sqlalchemy\\util\\deprecations.py\", line 309, in warned\n",
      "    return fn(*args, **kwargs)\n",
      "  File \"c:\\Users\\liamc\\anaconda3\\envs\\fencing_elo\\lib\\site-packages\\sqlalchemy\\sql\\schema.py\", line 593, in __new__\n",
      "    raise exc.InvalidRequestError(\n",
      "sqlalchemy.exc.InvalidRequestError: Table 'fencers_tournament' is already defined for this MetaData instance.  Specify 'extend_existing=True' to redefine options and columns on an existing Table object.\n",
      "]\n"
     ]
    }
   ],
   "source": [
    "win_bouts = fencer_test.bout_win\n",
    "for bout in win_bouts:\n",
    "    print(0)"
   ]
  },
  {
   "cell_type": "code",
   "execution_count": 16,
   "metadata": {},
   "outputs": [
    {
     "name": "stderr",
     "output_type": "stream",
     "text": [
      "[autoreload of app.models failed: Traceback (most recent call last):\n",
      "  File \"c:\\Users\\liamc\\anaconda3\\envs\\fencing_elo\\lib\\site-packages\\IPython\\extensions\\autoreload.py\", line 257, in check\n",
      "    superreload(m, reload, self.old_objects)\n",
      "  File \"c:\\Users\\liamc\\anaconda3\\envs\\fencing_elo\\lib\\site-packages\\IPython\\extensions\\autoreload.py\", line 455, in superreload\n",
      "    module = reload(module)\n",
      "  File \"c:\\Users\\liamc\\anaconda3\\envs\\fencing_elo\\lib\\importlib\\__init__.py\", line 169, in reload\n",
      "    _bootstrap._exec(spec, module)\n",
      "  File \"<frozen importlib._bootstrap>\", line 613, in _exec\n",
      "  File \"<frozen importlib._bootstrap_external>\", line 850, in exec_module\n",
      "  File \"<frozen importlib._bootstrap>\", line 228, in _call_with_frames_removed\n",
      "  File \"c:\\Users\\liamc\\Desktop\\fencing_elo\\app\\models.py\", line 13, in <module>\n",
      "    tourn_fen = Table(\n",
      "  File \"<string>\", line 2, in __new__\n",
      "  File \"c:\\Users\\liamc\\anaconda3\\envs\\fencing_elo\\lib\\site-packages\\sqlalchemy\\util\\deprecations.py\", line 309, in warned\n",
      "    return fn(*args, **kwargs)\n",
      "  File \"c:\\Users\\liamc\\anaconda3\\envs\\fencing_elo\\lib\\site-packages\\sqlalchemy\\sql\\schema.py\", line 593, in __new__\n",
      "    raise exc.InvalidRequestError(\n",
      "sqlalchemy.exc.InvalidRequestError: Table 'fencers_tournament' is already defined for this MetaData instance.  Specify 'extend_existing=True' to redefine options and columns on an existing Table object.\n",
      "]\n"
     ]
    },
    {
     "ename": "NameError",
     "evalue": "name 'win_bouts' is not defined",
     "output_type": "error",
     "traceback": [
      "\u001b[1;31m---------------------------------------------------------------------------\u001b[0m",
      "\u001b[1;31mNameError\u001b[0m                                 Traceback (most recent call last)",
      "\u001b[1;32mc:\\Users\\liamc\\Desktop\\fencing_elo\\scrapping_data.ipynb Cell 14'\u001b[0m in \u001b[0;36m<cell line: 1>\u001b[1;34m()\u001b[0m\n\u001b[1;32m----> <a href='vscode-notebook-cell:/c%3A/Users/liamc/Desktop/fencing_elo/scrapping_data.ipynb#ch0000042?line=0'>1</a>\u001b[0m win_bouts\n",
      "\u001b[1;31mNameError\u001b[0m: name 'win_bouts' is not defined"
     ]
    }
   ],
   "source": [
    "win_bouts"
   ]
  },
  {
   "cell_type": "code",
   "execution_count": null,
   "metadata": {},
   "outputs": [],
   "source": []
  }
 ],
 "metadata": {
  "interpreter": {
   "hash": "60dc42484e32e8f4af39d85bc16282b11910212f2ebede321b1f974abcd1918b"
  },
  "kernelspec": {
   "display_name": "Python 3.9.12 ('fencing_elo')",
   "language": "python",
   "name": "python3"
  },
  "language_info": {
   "codemirror_mode": {
    "name": "ipython",
    "version": 3
   },
   "file_extension": ".py",
   "mimetype": "text/x-python",
   "name": "python",
   "nbconvert_exporter": "python",
   "pygments_lexer": "ipython3",
   "version": "3.9.12"
  },
  "orig_nbformat": 4
 },
 "nbformat": 4,
 "nbformat_minor": 2
}

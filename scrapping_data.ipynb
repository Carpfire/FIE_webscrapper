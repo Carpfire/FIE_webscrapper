{
 "cells": [
  {
   "cell_type": "code",
   "execution_count": 1,
   "metadata": {},
   "outputs": [],
   "source": [
    "%load_ext autoreload\n",
    "%autoreload 2"
   ]
  },
  {
   "cell_type": "code",
   "execution_count": 2,
   "metadata": {},
   "outputs": [],
   "source": [
    "from app.database import SessionLocal, engine, Base\n",
    "from app.models import Fencer, Tournament, Bout\n",
    "import datetime"
   ]
  },
  {
   "cell_type": "code",
   "execution_count": 3,
   "metadata": {},
   "outputs": [],
   "source": [
    "#Base.metadata.drop_all(engine)"
   ]
  },
  {
   "cell_type": "code",
   "execution_count": 4,
   "metadata": {},
   "outputs": [],
   "source": [
    "#Base.metadata.create_all(engine)"
   ]
  },
  {
   "cell_type": "code",
   "execution_count": 5,
   "metadata": {},
   "outputs": [],
   "source": [
    "from web_scrapping_helpers import FIEPage, parse_metadata, parse_pool, pool_to_db, tournament_to_db, parse_name"
   ]
  },
  {
   "cell_type": "code",
   "execution_count": null,
   "metadata": {},
   "outputs": [],
   "source": [
    "def parse_tournament(metadata):\n",
    "    Scraper"
   ]
  },
  {
   "cell_type": "code",
   "execution_count": 6,
   "metadata": {},
   "outputs": [
    {
     "name": "stdout",
     "output_type": "stream",
     "text": [
      "\n"
     ]
    },
    {
     "name": "stderr",
     "output_type": "stream",
     "text": [
      "[WDM] - ====== WebDriver manager ======\n",
      "[WDM] - Current google-chrome version is 102.0.5005\n",
      "[WDM] - Get LATEST chromedriver version for 102.0.5005 google-chrome\n",
      "[WDM] - Driver [C:\\Users\\liamc\\.wdm\\drivers\\chromedriver\\win32\\102.0.5005.61\\chromedriver.exe] found in cache\n"
     ]
    }
   ],
   "source": [
    "Scraper = FIEPage('epee', 's', 'A', 2)"
   ]
  },
  {
   "cell_type": "code",
   "execution_count": 7,
   "metadata": {},
   "outputs": [],
   "source": [
    "Scraper.open_competions().previous().age_group('s').comp_category('A').select_weapon('epee').select_gender('m').select_event_type().search()\n"
   ]
  },
  {
   "cell_type": "code",
   "execution_count": 10,
   "metadata": {},
   "outputs": [],
   "source": [
    "data = Scraper.get_de_data()"
   ]
  },
  {
   "cell_type": "code",
   "execution_count": 18,
   "metadata": {},
   "outputs": [
    {
     "data": {
      "text/plain": [
       "[['CANNONE Romain', 'FRA', '15', 'MASUDA Yohito', 'JPN', '13'],\n",
       " ['DI VEROLI Davide', 'ITA', '15', 'LANGE Henry', 'USA', '6'],\n",
       " ['SVICHKAR Roman', 'UKR', '11', 'GONELL Gerard', 'ESP', '9'],\n",
       " ['ALEKSANDROV Roman', 'UZB', '9', 'VISMARA Federico', 'ITA', '15'],\n",
       " ['REIZLIN Igor', 'UKR', '15', 'ROD Max', 'POR', '7'],\n",
       " ['KELLY Christopher', 'SWE', '10', 'MALCOTTI Lucas', 'SUI', '15'],\n",
       " ['ANTKIEWICZ Mateusz', 'POL', '15', 'KWEON Youngjun', 'KOR', '7'],\n",
       " ['HERZBERG Fabian', 'GER', '11', 'KURBANOV Ruslan', 'KAZ', '15'],\n",
       " ['ELKORD Houssam', 'MAR', '15', 'SCHMIDT Richard', 'GER', '4'],\n",
       " ['ALIMZHANOV Elmir', 'KAZ', '11', 'ALLEGRE Paul', 'FRA', '15'],\n",
       " ['VUORINEN Niko', 'FIN', '8', 'ANDRASFI Tibor', 'HUN', '15'],\n",
       " ['JANG Hyomin', 'KOR', '10', 'HEINZER Max', 'SUI', '15'],\n",
       " ['KOCH Mate Tamas', 'HUN', '15', 'ELSAYED Ahmed', 'EGY', '7'],\n",
       " ['SON Taejin', 'KOR', '13', 'WANG Zijie', 'CHN', '15'],\n",
       " ['KONGSTAD Conrad Seibaek', 'DEN', '11', 'ALEXANIN Dmitriy', 'KAZ', '15'],\n",
       " ['YU Siming', 'CHN', '8', 'LIMARDO GASCON Ruben', 'VEN', '12'],\n",
       " ['BOREL Yannick', 'FRA', '15', 'BROCHARD Theo', 'SUI', '10'],\n",
       " ['SERTAY Yerlik', 'KAZ', '15', 'ZAWROTNIAK Radoslaw', 'POL', '10'],\n",
       " ['LAN Minghao', 'CHN', '15', 'SCHUMACHER Cooper', 'USA', '4'],\n",
       " ['BAKYTBEK UULU Ilim', 'KGZ', '7', 'LOPEZ POURTIER Nelson', 'FRA', '15'],\n",
       " ['ELSAYED Mohamed', 'EGY', '15', 'HADDAD Justin', 'USA', '7'],\n",
       " ['FAVA Alex', 'FRA', '8', 'BAYARD Alexis', 'SUI', '15'],\n",
       " ['ITO Inochi', 'JPN', '15', 'GALLY Aymerick', 'FRA', '11'],\n",
       " ['HADZIC Alen', 'USA', '12', 'BARDENET Alexandre', 'FRA', '15'],\n",
       " ['YAMADA Masaru', 'JPN', '15', 'HO Wai Hang', 'HKG', '2'],\n",
       " ['YOO Justin', 'USA', '15', 'FABREGAT Angel', 'ESP', '8'],\n",
       " ['STANKEVYCH Volodymyr', 'UKR', '15', 'MINOBE Kazuyasu', 'JPN', '6'],\n",
       " ['YU Lefan', 'CHN', '15', 'PARK Sangyoung', 'KOR', '11'],\n",
       " ['KANO Koki', 'JPN', '13', 'LOYOLA Neisser', 'BEL', '12'],\n",
       " ['GROVER Elliott', 'GBR', '8', 'CIMINI Gabriele', 'ITA', '15'],\n",
       " ['MIDELTON Luidgi', 'FRA', '15', 'BESKIN Grigori', 'ISR', '13'],\n",
       " ['MULLER Leonard', 'SUI', '11', 'SIKLOSI Gergely', 'HUN', '15'],\n",
       " ['CANNONE Romain', 'FRA', '15', 'DI VEROLI Davide', 'ITA', '14'],\n",
       " ['SVICHKAR Roman', 'UKR', '9', 'VISMARA Federico', 'ITA', '15'],\n",
       " ['REIZLIN Igor', 'UKR', '11', 'MALCOTTI Lucas', 'SUI', '9'],\n",
       " ['ANTKIEWICZ Mateusz', 'POL', '8', 'KURBANOV Ruslan', 'KAZ', '15'],\n",
       " ['ELKORD Houssam', 'MAR', '5', 'ALLEGRE Paul', 'FRA', '15'],\n",
       " ['ANDRASFI Tibor', 'HUN', '15', 'HEINZER Max', 'SUI', '13'],\n",
       " ['KOCH Mate Tamas', 'HUN', '14', 'WANG Zijie', 'CHN', '7'],\n",
       " ['ALEXANIN Dmitriy', 'KAZ', '15', 'LIMARDO GASCON Ruben', 'VEN', '8'],\n",
       " ['BOREL Yannick', 'FRA', '15', 'SERTAY Yerlik', 'KAZ', '6'],\n",
       " ['LAN Minghao', 'CHN', '12', 'LOPEZ POURTIER Nelson', 'FRA', '15'],\n",
       " ['ELSAYED Mohamed', 'EGY', '14', 'BAYARD Alexis', 'SUI', '15'],\n",
       " ['ITO Inochi', 'JPN', '15', 'BARDENET Alexandre', 'FRA', '12'],\n",
       " ['YAMADA Masaru', 'JPN', '15', 'YOO Justin', 'USA', '6'],\n",
       " ['STANKEVYCH Volodymyr', 'UKR', '15', 'YU Lefan', 'CHN', '8'],\n",
       " ['KANO Koki', 'JPN', '15', 'CIMINI Gabriele', 'ITA', '7'],\n",
       " ['MIDELTON Luidgi', 'FRA', '15', 'SIKLOSI Gergely', 'HUN', '11']]"
      ]
     },
     "execution_count": 18,
     "metadata": {},
     "output_type": "execute_result"
    }
   ],
   "source": [
    "data"
   ]
  },
  {
   "cell_type": "code",
   "execution_count": 9,
   "metadata": {},
   "outputs": [],
   "source": [
    "with SessionLocal as session, session.begin():\n",
    "    tourn_meta, link = comp\n",
    "    tournament = tournament_to_db(tourn_meta, session)\n",
    "    main = Scraper.open_window(link)\n",
    "    pool_data = Scraper.to_results().to_pools().get_pools_data()\n",
    "    for pool in pool_data:\n",
    "        bouts = parse_pool(pool)\n",
    "        pool_to_db(bouts, tournament, session)\n",
    "\n",
    "\n",
    "\n"
   ]
  },
  {
   "cell_type": "code",
   "execution_count": null,
   "metadata": {},
   "outputs": [],
   "source": [
    "for fencer in test_cases:\n",
    "    first_names = []\n",
    "    last_names = []\n",
    "    for name in fencer:\n",
    "        if name.isupper():\n",
    "            name = ''.join([name[0], name[1:].lower()])\n",
    "            last_names.append(name)\n",
    "        else: first_names.append(name)\n",
    "    first_name = ' '.join(first_names)\n",
    "    last_name = ' '.join(last_names)\n",
    "    print(first_name, last_name)\n"
   ]
  },
  {
   "cell_type": "code",
   "execution_count": 20,
   "metadata": {},
   "outputs": [],
   "source": [
    "# session = SessionLocal\n",
    "# session.begin()\n",
    "fencer_test = session.query(Fencer).filter_by(first_name = 'SAMUEL').all()"
   ]
  },
  {
   "cell_type": "code",
   "execution_count": 22,
   "metadata": {},
   "outputs": [
    {
     "data": {
      "text/plain": [
       "SAMUEL UNTERHAUSER, GER"
      ]
     },
     "execution_count": 22,
     "metadata": {},
     "output_type": "execute_result"
    }
   ],
   "source": [
    "fencer_test[0]"
   ]
  },
  {
   "cell_type": "code",
   "execution_count": null,
   "metadata": {},
   "outputs": [],
   "source": []
  }
 ],
 "metadata": {
  "interpreter": {
   "hash": "60dc42484e32e8f4af39d85bc16282b11910212f2ebede321b1f974abcd1918b"
  },
  "kernelspec": {
   "display_name": "Python 3.9.12 ('fencing_elo')",
   "language": "python",
   "name": "python3"
  },
  "language_info": {
   "codemirror_mode": {
    "name": "ipython",
    "version": 3
   },
   "file_extension": ".py",
   "mimetype": "text/x-python",
   "name": "python",
   "nbconvert_exporter": "python",
   "pygments_lexer": "ipython3",
   "version": "3.9.12"
  },
  "orig_nbformat": 4
 },
 "nbformat": 4,
 "nbformat_minor": 2
}

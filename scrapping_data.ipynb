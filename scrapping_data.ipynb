<<<<<<< HEAD
{
 "cells": [
  {
   "cell_type": "code",
   "execution_count": 1,
   "metadata": {},
   "outputs": [],
   "source": [
    "from app.database import SessionLocal, engine, Base\n",
    "from app.models import Fencer, Tournament, Bout"
   ]
  },
  {
   "cell_type": "code",
   "execution_count": 2,
   "metadata": {},
   "outputs": [],
   "source": [
    "Base.metadata.drop_all(engine)"
   ]
  },
  {
   "cell_type": "code",
   "execution_count": 3,
   "metadata": {},
   "outputs": [],
   "source": [
    "Base.metadata.create_all(engine)"
   ]
  },
  {
   "cell_type": "code",
   "execution_count": 4,
   "metadata": {},
   "outputs": [],
   "source": [
    "from web_scrapping_helpers import WebScrapper"
   ]
  },
  {
   "cell_type": "code",
   "execution_count": 5,
   "metadata": {},
   "outputs": [
    {
     "name": "stderr",
     "output_type": "stream",
     "text": [
      "\n",
      "\n",
      "====== WebDriver manager ======\n",
      "Current google-chrome version is 99.0.4844\n",
      "Get LATEST chromedriver version for 99.0.4844 google-chrome\n",
      "Driver [C:\\Users\\liamc\\.wdm\\drivers\\chromedriver\\win32\\99.0.4844.51\\chromedriver.exe] found in cache\n"
     ]
    }
   ],
   "source": [
    "SeniorEpee = WebScrapper(1, 's', 'A', 2)"
   ]
  },
  {
   "cell_type": "code",
   "execution_count": 6,
   "metadata": {},
   "outputs": [],
   "source": [
    "SeniorEpee.open_competions()"
   ]
  },
  {
   "cell_type": "code",
   "execution_count": 7,
   "metadata": {},
   "outputs": [
    {
     "name": "stdout",
     "output_type": "stream",
     "text": [
      "Seunghyun Lee  \n",
      "Gabriele Cimini  \n",
      "Georgiy Bruev  \n",
      "Udaivir Singh  \n",
      "Alexandre Bardenet  \n",
      "Richard Schmidt  \n",
      "Davide Di Veroli  \n",
      "Yannick Borel  \n",
      "Romain Cannone  \n",
      "Artem Sarkisyan  \n",
      "Yan Sych  \n",
      "Max Heinzer  \n",
      "Ruslan Kurbanov  \n",
      "Curtis Mcdowald  \n",
      "Koki Kano  \n",
      "Vadim Anokhin  \n",
      "Sergey Bida  \n",
      "Zsombor Banyai  \n",
      "Daniel Berta  \n",
      "Daniel Jerent  \n",
      "Andras Redli  \n",
      "Volodymyr Stankevych  \n",
      "Daniil Rudykh  \n",
      "Andrea Santarelli  \n",
      "Tibor Andrasfi  \n",
      "John Edison Rodriguez  \n",
      "Dylan Nollner  \n",
      "Ruben Limardo Gascon  \n",
      "Enrico Garozzo  \n",
      "Igor Ganin  \n",
      "Alex Fava  \n",
      "Yeisser Ramirez  \n",
      "Anatolii Herey  \n",
      "Romain Cannone  \n",
      "Enrico Garozzo  \n",
      "Max Heinzer  \n",
      "Bas Verwijlen  \n",
      "Tristan Tulen  \n",
      "Benjamin Steffen  \n",
      "Sangyoung Park  \n",
      "Conrad Seibaek Kongstad  \n",
      "Satoru Uyama  \n",
      "Mohamed Elsayed  \n",
      "Bogdan Nikishin  \n",
      "Andras Redli  \n",
      "Eduardo Garcia  \n",
      "Roman Svichkar  \n",
      "Kazuyasu Minobe  \n",
      "Gergely Siklosi  \n",
      "Eugeni Gavalda  \n",
      "Alex Fava  \n",
      "Ruben Limardo Gascon  \n",
      "Gabriele Cimini  \n",
      "Patrick Jorgensen  \n",
      "Jonathan Bonnaire  \n",
      "Masaru Yamada  \n",
      "Alexandre Bardenet  \n",
      "Ronan Gustin  \n",
      "Daniel Jerent  \n",
      "Yannick Borel  \n",
      "Jae Ho Song  \n",
      "Mate Tamas Koch  \n",
      "Sten Priinits  \n",
      "Sergey Bida  \n",
      "Davide Di Veroli  \n",
      "Yeisser Ramirez  \n",
      "Houssam Elkord  \n",
      "Tristan Tulen  \n",
      "Vadim Anokhin  \n",
      "Lefan Yu  \n",
      "Nikita Glazkov  \n",
      "Gergely Siklosi  \n",
      "Lukas Bellmann  \n",
      "Jesus Andres Lugones Ruggeri  \n",
      "Tibor Andrasfi  \n",
      "Andras Peterdi  \n",
      "Ruben Limardo Gascon  \n",
      "Stephan Rein  \n",
      "Andrey Kurochkin  \n",
      "Roman Svichkar  \n",
      "Sergey Bida  \n",
      "Patrick Jorgensen  \n",
      "Alexandre Bardenet  \n",
      "Marco Fichera  \n",
      "Yulen Pereira  \n",
      "Ruslan Kurbanov  \n",
      "Ronan Gustin  \n",
      "Bogdan Nikishin  \n",
      "Yannick Borel  \n",
      "Anatolii Herey  \n",
      "Lorenzo Buzzi  \n",
      "Sangyoung Park  \n",
      "Max Heinzer  \n",
      "Romain Cannone  \n",
      "Igor Reizlin  \n",
      "Segeon Ma  \n",
      "Bogdan Nikishin  \n",
      "Paolo Pizzo  \n",
      "Niko Vuorinen  \n",
      "Jongkwan Na  \n",
      "Elliott Grover  \n",
      "Andras Redli  \n",
      "Jiri Beran  \n",
      "Yulen Pereira  \n",
      "Hippolyte Bouillot  \n",
      "Minghao Lan  \n",
      "Romain Cannone  \n",
      "Sung Ho An  \n",
      "Ronan Gustin  \n",
      "Tristan Tulen  \n",
      "Sergey Bida  \n",
      "Paul Allegre  \n",
      "Ruben Limardo Gascon  \n",
      "Vadim Anokhin  \n",
      "Luidgi Midelton  \n",
      "Gabriele Cimini  \n",
      "Chao Dong  \n",
      "Sergey Khodos  \n",
      "Alvaro Ibanez  \n",
      "Kazuyasu Minobe  \n",
      "Curtis Mcdowald  \n",
      "Josef Mahringer  \n",
      "Gaofeng Shi  \n",
      "Andrea Santarelli  \n",
      "Jesus Andres Lugones Ruggeri  \n",
      "Alexandre Bardenet  \n",
      "Richard Schmidt  \n",
      "Angel Fabregat  \n",
      "Mateusz Antkiewicz  \n",
      "Jakub Jurka  \n",
      "Paolo Pizzo  \n",
      "Gabriele Cimini  \n",
      "Marco Fichera  \n",
      "Masaru Yamada  \n",
      "Lukas Bellmann  \n",
      "Koki Kano  \n",
      "Igor Reizlin  \n",
      "Sergey Bida  \n",
      "Grigori Beskin  \n",
      "David Nagy  \n",
      "Jesus Andres Lugones Ruggeri  \n",
      "Davide Di Veroli  \n",
      "Ievgen Makiienko  \n",
      "Max Heinzer  \n",
      "John Edison Rodriguez  \n",
      "Yulen Pereira  \n",
      "Andras Redli  \n",
      "Jacob Hoyle  \n",
      "Gaofeng Shi  \n",
      "Alexandre Bardenet  \n",
      "Stephan Rein  \n",
      "Kazuyasu Minobe  \n",
      "Alex Fava  \n",
      "Tristan Tulen  \n",
      "Ido Harper  \n",
      "Roman Svichkar  \n",
      "Dmitriy Adaikin  \n",
      "Georgiy Bruev  \n",
      "Ronan Gustin  \n",
      "Bogdan Nikishin  \n",
      "Satoru Uyama  \n",
      "Vadim Anokhin  \n",
      "Peeter Turnau  \n",
      "Daniel Berta  \n",
      "Sergey Bida  \n",
      "Bas Verwijlen  \n",
      "Troels Christian Robl  \n",
      "Daniel Jerent  \n",
      "Byeungchan Jung  \n",
      "Davide Di Veroli  \n",
      "Maciej Bielec  \n",
      "Ruben Limardo Gascon  \n",
      "Koki Kano  \n",
      "Jakub Jurka  \n",
      "Gergely Siklosi  \n",
      "Nikolai Novosjolov  \n",
      "Max Heinzer  \n",
      "Manuel Bargues  \n",
      "Andrea Santarelli  \n",
      "Enrico Garozzo  \n",
      "Kyoungdoo Park  \n",
      "Juri Salm  \n",
      "Igor Reizlin  \n",
      "Jongkwan Na  \n",
      "Stephan Rein  \n",
      "Curtis Mcdowald  \n",
      "Alexandre Pittet  \n",
      "Sung Ho An  \n",
      "Daniel Lis  \n",
      "Francisco Limardo  \n",
      "Youngjun Kweon  \n",
      "Bogdan Nikishin  \n",
      "Yannick Borel  \n",
      "Jakub Jurka  \n",
      "Alan Fardzinov  \n",
      "Kazuyasu Minobe  \n",
      "Max Heinzer  \n",
      "Bas Verwijlen  \n",
      "Richard Schmidt  \n",
      "Sangyoung Park  \n",
      "Nikolai Novosjolov  \n",
      "Vadim Anokhin  \n",
      "Elmir Alimzhanov  \n",
      "Ruben Limardo Gascon  \n",
      "Enrico Garozzo  \n",
      "Dmitriy Alexanin  \n",
      "Yulen Pereira  \n",
      "Jongkwan Na  \n",
      "Marco Fichera  \n",
      "Igor Reizlin  \n",
      "Keisuke Sakamoto  \n",
      "Andrea Santarelli  \n",
      "Ruslan Kurbanov  \n",
      "Stephan Rein  \n",
      "Edoardo Munzone  \n",
      "Bogdan Nikishin  \n",
      "Daniel Jerent  \n",
      "Zsombor Banyai  \n",
      "Gabriele Cimini  \n",
      "Maksym Khvorost  \n",
      "Youngjun Kweon  \n",
      "Kanan Aliyev  \n",
      "Marco Brinkmann  \n",
      "Jinsun Jung  \n",
      "Paolo Pizzo  \n",
      "Ronan Gustin  \n",
      "Andras Peterdi  \n",
      "Andras Redli  \n",
      "Volodymyr Stankevych  \n",
      "Jongkwan Na  \n",
      "Peter Szenyi  \n",
      "Enrico Garozzo  \n",
      "Jinsun Jung  \n",
      "Matteo Tagliariol  \n",
      "Dennis Kraft  \n",
      "Sangyoung Park  \n",
      "Tibor Andrasfi  \n",
      "Yulen Pereira  \n",
      "Vadim Anokhin  \n",
      "Jan Wenglarczyk  \n",
      "Keisuke Sakamoto  \n",
      "Roman Svichkar  \n",
      "Zsombor Banyai  \n",
      "Ruslan Kurbanov  \n",
      "Kazuyasu Minobe  \n",
      "Yangdong Xue  \n",
      "Igor Reizlin  \n",
      "Grigori Beskin  \n",
      "Bogdan Nikishin  \n",
      "Lorenzo Buzzi  \n",
      "Jiri Beran  \n",
      "Max Heinzer  \n",
      "Andrea Santarelli  \n",
      "Sergey Bida  \n",
      "Sangmin Kim  \n",
      "Marco Fichera  \n",
      "Yannick Borel  \n",
      "Daniel Berta  \n",
      "Frederik Von Der Osten  \n",
      "Dmytro Karyuchenko  \n",
      "Patrick Jorgensen  \n",
      "Anatolii Herey  \n",
      "Sten Priinits  \n",
      "Alessandro Taccani  \n",
      "Max Heinzer  \n",
      "Peer Borsky  \n",
      "Andrea Santarelli  \n",
      "Vadim Anokhin  \n",
      "Marco Fichera  \n",
      "Dmitriy Gusev  \n",
      "Dmitriy Alexanin  \n",
      "Yangdong Xue  \n",
      "Kyoungdoo Park  \n",
      "Niko Vuorinen  \n",
      "Paolo Pizzo  \n",
      "Youngjun Kweon  \n",
      "Daniel Jerent  \n",
      "Karol Kostka  \n",
      "Anton Glebko  \n",
      "Bogdan Nikishin  \n",
      "Cooper Schumacher  \n",
      "Jiri Beran  \n",
      "Yunior Reytor Venet  \n",
      "Matteo Tagliariol  \n",
      "Satoru Uyama  \n",
      "Masaru Yamada  \n",
      "Nikita Glazkov  \n",
      "Minghao Lan  \n",
      "Yannick Borel  \n",
      "Fabian Herzberg  \n",
      "Martin Rubes  \n",
      "Cooper Schumacher  \n",
      "Daniel Jerent  \n",
      "Ruben Limardo Gascon  \n",
      "Nikita Glazkov  \n",
      "Max Heinzer  \n",
      "Kazuyasu Minobe  \n",
      "Virgile Marchal  \n",
      "Marco Fichera  \n",
      "Pavel Sukhov  \n",
      "Karol Kostka  \n",
      "Dmitriy Alexanin  \n",
      "Adam Rodney  \n",
      "Bogdan Nikishin  \n",
      "Enrico Garozzo  \n",
      "Frederik Von Der Osten  \n",
      "Sten Priinits  \n",
      "Jason Pryor  \n",
      "Jean-Michel Lucenay  \n",
      "Ruslan Kurbanov  \n",
      "Alan Fardzinov  \n",
      "Vadim Anokhin  \n",
      "Lorenzo Buzzi  \n",
      "Wonsik Jeong  \n",
      "Volodymyr Stankevych  \n",
      "Grigori Beskin  \n",
      "Francisco Limardo  \n",
      "Mathias Biabiany  \n",
      "Radoslaw Zawrotniak  \n",
      "Sangyoung Park  \n",
      "Gergely Siklosi  \n",
      "Marco Brinkmann  \n",
      "Akira Komata  \n",
      "Elmir Alimzhanov  \n",
      "Sergey Bida  \n",
      "Gabriel Bonferroni  \n",
      "Rafael Tulen  \n",
      "Andrea Santarelli  \n",
      "Sangyoung Park  \n",
      "Grabiel Lugo  \n",
      "Federico Vismara  \n",
      "Radoslaw Zawrotniak  \n",
      "Mohamed Elsayed  \n",
      "Pavel Sukhov  \n",
      "Yulen Pereira  \n",
      "Romain Cannone  \n",
      "Balint Bakos  \n",
      "Artem Sarkisyan  \n",
      "Egor Guzhiev  \n",
      "Valerio Cuomo  \n",
      "Max Heinzer  \n",
      "Yan Sych  \n",
      "Zsombor Banyai  \n",
      "Yannick Borel  \n",
      "Ruben Limardo Gascon  \n",
      "Alex Fava  \n",
      "Giacomo Paolini  \n",
      "Alexandre Bardenet  \n",
      "Nikita Glazkov  \n",
      "Arthur Philippe  \n",
      "Koki Kano  \n",
      "Igor Reizlin  \n"
     ]
    },
    {
     "ename": "KeyboardInterrupt",
     "evalue": "",
     "output_type": "error",
     "traceback": [
      "\u001b[1;31m---------------------------------------------------------------------------\u001b[0m",
      "\u001b[1;31mKeyboardInterrupt\u001b[0m                         Traceback (most recent call last)",
      "\u001b[1;32m~\\AppData\\Local\\Temp/ipykernel_29508/2987860387.py\u001b[0m in \u001b[0;36m<module>\u001b[1;34m\u001b[0m\n\u001b[1;32m----> 1\u001b[1;33m \u001b[0mSeniorEpee\u001b[0m\u001b[1;33m.\u001b[0m\u001b[0mscrape\u001b[0m\u001b[1;33m(\u001b[0m\u001b[1;33m)\u001b[0m\u001b[1;33m\u001b[0m\u001b[1;33m\u001b[0m\u001b[0m\n\u001b[0m",
      "\u001b[1;32mc:\\Users\\liamc\\Desktop\\fencing_elo\\web_scrapping_helpers.py\u001b[0m in \u001b[0;36mscrape\u001b[1;34m(self)\u001b[0m\n\u001b[0;32m    386\u001b[0m                 \u001b[1;32mif\u001b[0m \u001b[0msuccess\u001b[0m \u001b[1;33m==\u001b[0m \u001b[1;32mTrue\u001b[0m\u001b[1;33m:\u001b[0m\u001b[1;33m\u001b[0m\u001b[1;33m\u001b[0m\u001b[0m\n\u001b[0;32m    387\u001b[0m                     \u001b[0mconsecutive_fails\u001b[0m \u001b[1;33m=\u001b[0m \u001b[1;36m0\u001b[0m\u001b[1;33m\u001b[0m\u001b[1;33m\u001b[0m\u001b[0m\n\u001b[1;32m--> 388\u001b[1;33m                     \u001b[0mbouts\u001b[0m \u001b[1;33m=\u001b[0m \u001b[0mself\u001b[0m\u001b[1;33m.\u001b[0m\u001b[0mparse_tableue\u001b[0m\u001b[1;33m(\u001b[0m\u001b[1;33m)\u001b[0m\u001b[1;33m\u001b[0m\u001b[1;33m\u001b[0m\u001b[0m\n\u001b[0m\u001b[0;32m    389\u001b[0m                     \u001b[0mself\u001b[0m\u001b[1;33m.\u001b[0m\u001b[0mpopulate_db\u001b[0m\u001b[1;33m(\u001b[0m\u001b[0mbouts\u001b[0m\u001b[1;33m,\u001b[0m \u001b[1;33m*\u001b[0m\u001b[0mmeta\u001b[0m\u001b[1;33m)\u001b[0m\u001b[1;33m\u001b[0m\u001b[1;33m\u001b[0m\u001b[0m\n\u001b[0;32m    390\u001b[0m \u001b[1;33m\u001b[0m\u001b[0m\n",
      "\u001b[1;32mc:\\Users\\liamc\\Desktop\\fencing_elo\\web_scrapping_helpers.py\u001b[0m in \u001b[0;36mparse_tableue\u001b[1;34m(self)\u001b[0m\n\u001b[0;32m     68\u001b[0m             \u001b[1;32mif\u001b[0m \u001b[0mint\u001b[0m\u001b[1;33m(\u001b[0m\u001b[0mi\u001b[0m\u001b[1;33m)\u001b[0m \u001b[1;33m==\u001b[0m \u001b[1;36m0\u001b[0m\u001b[1;33m:\u001b[0m\u001b[1;33m\u001b[0m\u001b[1;33m\u001b[0m\u001b[0m\n\u001b[0;32m     69\u001b[0m                 \u001b[1;32mfor\u001b[0m \u001b[0mi\u001b[0m \u001b[1;32min\u001b[0m \u001b[0mrange\u001b[0m\u001b[1;33m(\u001b[0m\u001b[1;36m3\u001b[0m\u001b[1;33m)\u001b[0m\u001b[1;33m:\u001b[0m\u001b[1;33m\u001b[0m\u001b[1;33m\u001b[0m\u001b[0m\n\u001b[1;32m---> 70\u001b[1;33m                     \u001b[0mnext_button\u001b[0m \u001b[1;33m=\u001b[0m \u001b[0mself\u001b[0m\u001b[1;33m.\u001b[0m\u001b[0mdriver\u001b[0m\u001b[1;33m.\u001b[0m\u001b[0mfind_elements_by_xpath\u001b[0m\u001b[1;33m(\u001b[0m\u001b[1;34m\"//div[@class='Tableau-container']/div[@class='Tableau-directionSquare Tableau-directionSquare--next']/div[@class='Tableau-direction Tableau-direction--next Tableau-direction--square']\"\u001b[0m\u001b[1;33m)\u001b[0m\u001b[1;33m\u001b[0m\u001b[1;33m\u001b[0m\u001b[0m\n\u001b[0m\u001b[0;32m     71\u001b[0m                     \u001b[0mself\u001b[0m\u001b[1;33m.\u001b[0m\u001b[0mdriver\u001b[0m\u001b[1;33m.\u001b[0m\u001b[0mimplicitly_wait\u001b[0m\u001b[1;33m(\u001b[0m\u001b[1;36m10\u001b[0m\u001b[1;33m)\u001b[0m\u001b[1;33m\u001b[0m\u001b[1;33m\u001b[0m\u001b[0m\n\u001b[0;32m     72\u001b[0m                     \u001b[0mActionChains\u001b[0m\u001b[1;33m(\u001b[0m\u001b[0mself\u001b[0m\u001b[1;33m.\u001b[0m\u001b[0mdriver\u001b[0m\u001b[1;33m)\u001b[0m\u001b[1;33m.\u001b[0m\u001b[0mmove_to_element\u001b[0m\u001b[1;33m(\u001b[0m\u001b[0mnext_button\u001b[0m\u001b[1;33m[\u001b[0m\u001b[1;36m1\u001b[0m\u001b[1;33m]\u001b[0m\u001b[1;33m)\u001b[0m\u001b[1;33m.\u001b[0m\u001b[0mclick\u001b[0m\u001b[1;33m(\u001b[0m\u001b[0mnext_button\u001b[0m\u001b[1;33m[\u001b[0m\u001b[1;36m1\u001b[0m\u001b[1;33m]\u001b[0m\u001b[1;33m)\u001b[0m\u001b[1;33m.\u001b[0m\u001b[0mperform\u001b[0m\u001b[1;33m(\u001b[0m\u001b[1;33m)\u001b[0m\u001b[1;33m\u001b[0m\u001b[1;33m\u001b[0m\u001b[0m\n",
      "\u001b[1;32m~\\anaconda3\\envs\\fencing_viz\\lib\\site-packages\\selenium\\webdriver\\remote\\webdriver.py\u001b[0m in \u001b[0;36mfind_elements_by_xpath\u001b[1;34m(self, xpath)\u001b[0m\n\u001b[0;32m    541\u001b[0m             \u001b[0mstacklevel\u001b[0m\u001b[1;33m=\u001b[0m\u001b[1;36m2\u001b[0m\u001b[1;33m,\u001b[0m\u001b[1;33m\u001b[0m\u001b[1;33m\u001b[0m\u001b[0m\n\u001b[0;32m    542\u001b[0m         )\n\u001b[1;32m--> 543\u001b[1;33m         \u001b[1;32mreturn\u001b[0m \u001b[0mself\u001b[0m\u001b[1;33m.\u001b[0m\u001b[0mfind_elements\u001b[0m\u001b[1;33m(\u001b[0m\u001b[0mby\u001b[0m\u001b[1;33m=\u001b[0m\u001b[0mBy\u001b[0m\u001b[1;33m.\u001b[0m\u001b[0mXPATH\u001b[0m\u001b[1;33m,\u001b[0m \u001b[0mvalue\u001b[0m\u001b[1;33m=\u001b[0m\u001b[0mxpath\u001b[0m\u001b[1;33m)\u001b[0m\u001b[1;33m\u001b[0m\u001b[1;33m\u001b[0m\u001b[0m\n\u001b[0m\u001b[0;32m    544\u001b[0m \u001b[1;33m\u001b[0m\u001b[0m\n\u001b[0;32m    545\u001b[0m     \u001b[1;32mdef\u001b[0m \u001b[0mfind_element_by_link_text\u001b[0m\u001b[1;33m(\u001b[0m\u001b[0mself\u001b[0m\u001b[1;33m,\u001b[0m \u001b[0mlink_text\u001b[0m\u001b[1;33m)\u001b[0m \u001b[1;33m->\u001b[0m \u001b[0mWebElement\u001b[0m\u001b[1;33m:\u001b[0m\u001b[1;33m\u001b[0m\u001b[1;33m\u001b[0m\u001b[0m\n",
      "\u001b[1;32m~\\anaconda3\\envs\\fencing_viz\\lib\\site-packages\\selenium\\webdriver\\remote\\webdriver.py\u001b[0m in \u001b[0;36mfind_elements\u001b[1;34m(self, by, value)\u001b[0m\n\u001b[0;32m   1277\u001b[0m         \u001b[1;31m# Return empty list if driver returns null\u001b[0m\u001b[1;33m\u001b[0m\u001b[1;33m\u001b[0m\u001b[0m\n\u001b[0;32m   1278\u001b[0m         \u001b[1;31m# See https://github.com/SeleniumHQ/selenium/issues/4555\u001b[0m\u001b[1;33m\u001b[0m\u001b[1;33m\u001b[0m\u001b[0m\n\u001b[1;32m-> 1279\u001b[1;33m         return self.execute(Command.FIND_ELEMENTS, {\n\u001b[0m\u001b[0;32m   1280\u001b[0m             \u001b[1;34m'using'\u001b[0m\u001b[1;33m:\u001b[0m \u001b[0mby\u001b[0m\u001b[1;33m,\u001b[0m\u001b[1;33m\u001b[0m\u001b[1;33m\u001b[0m\u001b[0m\n\u001b[0;32m   1281\u001b[0m             'value': value})['value'] or []\n",
      "\u001b[1;32m~\\anaconda3\\envs\\fencing_viz\\lib\\site-packages\\selenium\\webdriver\\remote\\webdriver.py\u001b[0m in \u001b[0;36mexecute\u001b[1;34m(self, driver_command, params)\u001b[0m\n\u001b[0;32m    420\u001b[0m \u001b[1;33m\u001b[0m\u001b[0m\n\u001b[0;32m    421\u001b[0m         \u001b[0mparams\u001b[0m \u001b[1;33m=\u001b[0m \u001b[0mself\u001b[0m\u001b[1;33m.\u001b[0m\u001b[0m_wrap_value\u001b[0m\u001b[1;33m(\u001b[0m\u001b[0mparams\u001b[0m\u001b[1;33m)\u001b[0m\u001b[1;33m\u001b[0m\u001b[1;33m\u001b[0m\u001b[0m\n\u001b[1;32m--> 422\u001b[1;33m         \u001b[0mresponse\u001b[0m \u001b[1;33m=\u001b[0m \u001b[0mself\u001b[0m\u001b[1;33m.\u001b[0m\u001b[0mcommand_executor\u001b[0m\u001b[1;33m.\u001b[0m\u001b[0mexecute\u001b[0m\u001b[1;33m(\u001b[0m\u001b[0mdriver_command\u001b[0m\u001b[1;33m,\u001b[0m \u001b[0mparams\u001b[0m\u001b[1;33m)\u001b[0m\u001b[1;33m\u001b[0m\u001b[1;33m\u001b[0m\u001b[0m\n\u001b[0m\u001b[0;32m    423\u001b[0m         \u001b[1;32mif\u001b[0m \u001b[0mresponse\u001b[0m\u001b[1;33m:\u001b[0m\u001b[1;33m\u001b[0m\u001b[1;33m\u001b[0m\u001b[0m\n\u001b[0;32m    424\u001b[0m             \u001b[0mself\u001b[0m\u001b[1;33m.\u001b[0m\u001b[0merror_handler\u001b[0m\u001b[1;33m.\u001b[0m\u001b[0mcheck_response\u001b[0m\u001b[1;33m(\u001b[0m\u001b[0mresponse\u001b[0m\u001b[1;33m)\u001b[0m\u001b[1;33m\u001b[0m\u001b[1;33m\u001b[0m\u001b[0m\n",
      "\u001b[1;32m~\\anaconda3\\envs\\fencing_viz\\lib\\site-packages\\selenium\\webdriver\\remote\\remote_connection.py\u001b[0m in \u001b[0;36mexecute\u001b[1;34m(self, command, params)\u001b[0m\n\u001b[0;32m    419\u001b[0m         \u001b[0mdata\u001b[0m \u001b[1;33m=\u001b[0m \u001b[0mutils\u001b[0m\u001b[1;33m.\u001b[0m\u001b[0mdump_json\u001b[0m\u001b[1;33m(\u001b[0m\u001b[0mparams\u001b[0m\u001b[1;33m)\u001b[0m\u001b[1;33m\u001b[0m\u001b[1;33m\u001b[0m\u001b[0m\n\u001b[0;32m    420\u001b[0m         \u001b[0murl\u001b[0m \u001b[1;33m=\u001b[0m \u001b[1;34mf\"{self._url}{path}\"\u001b[0m\u001b[1;33m\u001b[0m\u001b[1;33m\u001b[0m\u001b[0m\n\u001b[1;32m--> 421\u001b[1;33m         \u001b[1;32mreturn\u001b[0m \u001b[0mself\u001b[0m\u001b[1;33m.\u001b[0m\u001b[0m_request\u001b[0m\u001b[1;33m(\u001b[0m\u001b[0mcommand_info\u001b[0m\u001b[1;33m[\u001b[0m\u001b[1;36m0\u001b[0m\u001b[1;33m]\u001b[0m\u001b[1;33m,\u001b[0m \u001b[0murl\u001b[0m\u001b[1;33m,\u001b[0m \u001b[0mbody\u001b[0m\u001b[1;33m=\u001b[0m\u001b[0mdata\u001b[0m\u001b[1;33m)\u001b[0m\u001b[1;33m\u001b[0m\u001b[1;33m\u001b[0m\u001b[0m\n\u001b[0m\u001b[0;32m    422\u001b[0m \u001b[1;33m\u001b[0m\u001b[0m\n\u001b[0;32m    423\u001b[0m     \u001b[1;32mdef\u001b[0m \u001b[0m_request\u001b[0m\u001b[1;33m(\u001b[0m\u001b[0mself\u001b[0m\u001b[1;33m,\u001b[0m \u001b[0mmethod\u001b[0m\u001b[1;33m,\u001b[0m \u001b[0murl\u001b[0m\u001b[1;33m,\u001b[0m \u001b[0mbody\u001b[0m\u001b[1;33m=\u001b[0m\u001b[1;32mNone\u001b[0m\u001b[1;33m)\u001b[0m\u001b[1;33m:\u001b[0m\u001b[1;33m\u001b[0m\u001b[1;33m\u001b[0m\u001b[0m\n",
      "\u001b[1;32m~\\anaconda3\\envs\\fencing_viz\\lib\\site-packages\\selenium\\webdriver\\remote\\remote_connection.py\u001b[0m in \u001b[0;36m_request\u001b[1;34m(self, method, url, body)\u001b[0m\n\u001b[0;32m    441\u001b[0m \u001b[1;33m\u001b[0m\u001b[0m\n\u001b[0;32m    442\u001b[0m         \u001b[1;32mif\u001b[0m \u001b[0mself\u001b[0m\u001b[1;33m.\u001b[0m\u001b[0mkeep_alive\u001b[0m\u001b[1;33m:\u001b[0m\u001b[1;33m\u001b[0m\u001b[1;33m\u001b[0m\u001b[0m\n\u001b[1;32m--> 443\u001b[1;33m             \u001b[0mresp\u001b[0m \u001b[1;33m=\u001b[0m \u001b[0mself\u001b[0m\u001b[1;33m.\u001b[0m\u001b[0m_conn\u001b[0m\u001b[1;33m.\u001b[0m\u001b[0mrequest\u001b[0m\u001b[1;33m(\u001b[0m\u001b[0mmethod\u001b[0m\u001b[1;33m,\u001b[0m \u001b[0murl\u001b[0m\u001b[1;33m,\u001b[0m \u001b[0mbody\u001b[0m\u001b[1;33m=\u001b[0m\u001b[0mbody\u001b[0m\u001b[1;33m,\u001b[0m \u001b[0mheaders\u001b[0m\u001b[1;33m=\u001b[0m\u001b[0mheaders\u001b[0m\u001b[1;33m)\u001b[0m\u001b[1;33m\u001b[0m\u001b[1;33m\u001b[0m\u001b[0m\n\u001b[0m\u001b[0;32m    444\u001b[0m             \u001b[0mstatuscode\u001b[0m \u001b[1;33m=\u001b[0m \u001b[0mresp\u001b[0m\u001b[1;33m.\u001b[0m\u001b[0mstatus\u001b[0m\u001b[1;33m\u001b[0m\u001b[1;33m\u001b[0m\u001b[0m\n\u001b[0;32m    445\u001b[0m         \u001b[1;32melse\u001b[0m\u001b[1;33m:\u001b[0m\u001b[1;33m\u001b[0m\u001b[1;33m\u001b[0m\u001b[0m\n",
      "\u001b[1;32m~\\anaconda3\\envs\\fencing_viz\\lib\\site-packages\\urllib3\\request.py\u001b[0m in \u001b[0;36mrequest\u001b[1;34m(self, method, url, fields, headers, **urlopen_kw)\u001b[0m\n\u001b[0;32m     76\u001b[0m             )\n\u001b[0;32m     77\u001b[0m         \u001b[1;32melse\u001b[0m\u001b[1;33m:\u001b[0m\u001b[1;33m\u001b[0m\u001b[1;33m\u001b[0m\u001b[0m\n\u001b[1;32m---> 78\u001b[1;33m             return self.request_encode_body(\n\u001b[0m\u001b[0;32m     79\u001b[0m                 \u001b[0mmethod\u001b[0m\u001b[1;33m,\u001b[0m \u001b[0murl\u001b[0m\u001b[1;33m,\u001b[0m \u001b[0mfields\u001b[0m\u001b[1;33m=\u001b[0m\u001b[0mfields\u001b[0m\u001b[1;33m,\u001b[0m \u001b[0mheaders\u001b[0m\u001b[1;33m=\u001b[0m\u001b[0mheaders\u001b[0m\u001b[1;33m,\u001b[0m \u001b[1;33m**\u001b[0m\u001b[0murlopen_kw\u001b[0m\u001b[1;33m\u001b[0m\u001b[1;33m\u001b[0m\u001b[0m\n\u001b[0;32m     80\u001b[0m             )\n",
      "\u001b[1;32m~\\anaconda3\\envs\\fencing_viz\\lib\\site-packages\\urllib3\\request.py\u001b[0m in \u001b[0;36mrequest_encode_body\u001b[1;34m(self, method, url, fields, headers, encode_multipart, multipart_boundary, **urlopen_kw)\u001b[0m\n\u001b[0;32m    168\u001b[0m         \u001b[0mextra_kw\u001b[0m\u001b[1;33m.\u001b[0m\u001b[0mupdate\u001b[0m\u001b[1;33m(\u001b[0m\u001b[0murlopen_kw\u001b[0m\u001b[1;33m)\u001b[0m\u001b[1;33m\u001b[0m\u001b[1;33m\u001b[0m\u001b[0m\n\u001b[0;32m    169\u001b[0m \u001b[1;33m\u001b[0m\u001b[0m\n\u001b[1;32m--> 170\u001b[1;33m         \u001b[1;32mreturn\u001b[0m \u001b[0mself\u001b[0m\u001b[1;33m.\u001b[0m\u001b[0murlopen\u001b[0m\u001b[1;33m(\u001b[0m\u001b[0mmethod\u001b[0m\u001b[1;33m,\u001b[0m \u001b[0murl\u001b[0m\u001b[1;33m,\u001b[0m \u001b[1;33m**\u001b[0m\u001b[0mextra_kw\u001b[0m\u001b[1;33m)\u001b[0m\u001b[1;33m\u001b[0m\u001b[1;33m\u001b[0m\u001b[0m\n\u001b[0m",
      "\u001b[1;32m~\\anaconda3\\envs\\fencing_viz\\lib\\site-packages\\urllib3\\poolmanager.py\u001b[0m in \u001b[0;36murlopen\u001b[1;34m(self, method, url, redirect, **kw)\u001b[0m\n\u001b[0;32m    373\u001b[0m             \u001b[0mresponse\u001b[0m \u001b[1;33m=\u001b[0m \u001b[0mconn\u001b[0m\u001b[1;33m.\u001b[0m\u001b[0murlopen\u001b[0m\u001b[1;33m(\u001b[0m\u001b[0mmethod\u001b[0m\u001b[1;33m,\u001b[0m \u001b[0murl\u001b[0m\u001b[1;33m,\u001b[0m \u001b[1;33m**\u001b[0m\u001b[0mkw\u001b[0m\u001b[1;33m)\u001b[0m\u001b[1;33m\u001b[0m\u001b[1;33m\u001b[0m\u001b[0m\n\u001b[0;32m    374\u001b[0m         \u001b[1;32melse\u001b[0m\u001b[1;33m:\u001b[0m\u001b[1;33m\u001b[0m\u001b[1;33m\u001b[0m\u001b[0m\n\u001b[1;32m--> 375\u001b[1;33m             \u001b[0mresponse\u001b[0m \u001b[1;33m=\u001b[0m \u001b[0mconn\u001b[0m\u001b[1;33m.\u001b[0m\u001b[0murlopen\u001b[0m\u001b[1;33m(\u001b[0m\u001b[0mmethod\u001b[0m\u001b[1;33m,\u001b[0m \u001b[0mu\u001b[0m\u001b[1;33m.\u001b[0m\u001b[0mrequest_uri\u001b[0m\u001b[1;33m,\u001b[0m \u001b[1;33m**\u001b[0m\u001b[0mkw\u001b[0m\u001b[1;33m)\u001b[0m\u001b[1;33m\u001b[0m\u001b[1;33m\u001b[0m\u001b[0m\n\u001b[0m\u001b[0;32m    376\u001b[0m \u001b[1;33m\u001b[0m\u001b[0m\n\u001b[0;32m    377\u001b[0m         \u001b[0mredirect_location\u001b[0m \u001b[1;33m=\u001b[0m \u001b[0mredirect\u001b[0m \u001b[1;32mand\u001b[0m \u001b[0mresponse\u001b[0m\u001b[1;33m.\u001b[0m\u001b[0mget_redirect_location\u001b[0m\u001b[1;33m(\u001b[0m\u001b[1;33m)\u001b[0m\u001b[1;33m\u001b[0m\u001b[1;33m\u001b[0m\u001b[0m\n",
      "\u001b[1;32m~\\anaconda3\\envs\\fencing_viz\\lib\\site-packages\\urllib3\\connectionpool.py\u001b[0m in \u001b[0;36murlopen\u001b[1;34m(self, method, url, body, headers, retries, redirect, assert_same_host, timeout, pool_timeout, release_conn, chunked, body_pos, **response_kw)\u001b[0m\n\u001b[0;32m    697\u001b[0m \u001b[1;33m\u001b[0m\u001b[0m\n\u001b[0;32m    698\u001b[0m             \u001b[1;31m# Make the request on the httplib connection object.\u001b[0m\u001b[1;33m\u001b[0m\u001b[1;33m\u001b[0m\u001b[0m\n\u001b[1;32m--> 699\u001b[1;33m             httplib_response = self._make_request(\n\u001b[0m\u001b[0;32m    700\u001b[0m                 \u001b[0mconn\u001b[0m\u001b[1;33m,\u001b[0m\u001b[1;33m\u001b[0m\u001b[1;33m\u001b[0m\u001b[0m\n\u001b[0;32m    701\u001b[0m                 \u001b[0mmethod\u001b[0m\u001b[1;33m,\u001b[0m\u001b[1;33m\u001b[0m\u001b[1;33m\u001b[0m\u001b[0m\n",
      "\u001b[1;32m~\\anaconda3\\envs\\fencing_viz\\lib\\site-packages\\urllib3\\connectionpool.py\u001b[0m in \u001b[0;36m_make_request\u001b[1;34m(self, conn, method, url, timeout, chunked, **httplib_request_kw)\u001b[0m\n\u001b[0;32m    443\u001b[0m                     \u001b[1;31m# Python 3 (including for exceptions like SystemExit).\u001b[0m\u001b[1;33m\u001b[0m\u001b[1;33m\u001b[0m\u001b[0m\n\u001b[0;32m    444\u001b[0m                     \u001b[1;31m# Otherwise it looks like a bug in the code.\u001b[0m\u001b[1;33m\u001b[0m\u001b[1;33m\u001b[0m\u001b[0m\n\u001b[1;32m--> 445\u001b[1;33m                     \u001b[0msix\u001b[0m\u001b[1;33m.\u001b[0m\u001b[0mraise_from\u001b[0m\u001b[1;33m(\u001b[0m\u001b[0me\u001b[0m\u001b[1;33m,\u001b[0m \u001b[1;32mNone\u001b[0m\u001b[1;33m)\u001b[0m\u001b[1;33m\u001b[0m\u001b[1;33m\u001b[0m\u001b[0m\n\u001b[0m\u001b[0;32m    446\u001b[0m         \u001b[1;32mexcept\u001b[0m \u001b[1;33m(\u001b[0m\u001b[0mSocketTimeout\u001b[0m\u001b[1;33m,\u001b[0m \u001b[0mBaseSSLError\u001b[0m\u001b[1;33m,\u001b[0m \u001b[0mSocketError\u001b[0m\u001b[1;33m)\u001b[0m \u001b[1;32mas\u001b[0m \u001b[0me\u001b[0m\u001b[1;33m:\u001b[0m\u001b[1;33m\u001b[0m\u001b[1;33m\u001b[0m\u001b[0m\n\u001b[0;32m    447\u001b[0m             \u001b[0mself\u001b[0m\u001b[1;33m.\u001b[0m\u001b[0m_raise_timeout\u001b[0m\u001b[1;33m(\u001b[0m\u001b[0merr\u001b[0m\u001b[1;33m=\u001b[0m\u001b[0me\u001b[0m\u001b[1;33m,\u001b[0m \u001b[0murl\u001b[0m\u001b[1;33m=\u001b[0m\u001b[0murl\u001b[0m\u001b[1;33m,\u001b[0m \u001b[0mtimeout_value\u001b[0m\u001b[1;33m=\u001b[0m\u001b[0mread_timeout\u001b[0m\u001b[1;33m)\u001b[0m\u001b[1;33m\u001b[0m\u001b[1;33m\u001b[0m\u001b[0m\n",
      "\u001b[1;32m~\\anaconda3\\envs\\fencing_viz\\lib\\site-packages\\urllib3\\packages\\six.py\u001b[0m in \u001b[0;36mraise_from\u001b[1;34m(value, from_value)\u001b[0m\n",
      "\u001b[1;32m~\\anaconda3\\envs\\fencing_viz\\lib\\site-packages\\urllib3\\connectionpool.py\u001b[0m in \u001b[0;36m_make_request\u001b[1;34m(self, conn, method, url, timeout, chunked, **httplib_request_kw)\u001b[0m\n\u001b[0;32m    438\u001b[0m                 \u001b[1;31m# Python 3\u001b[0m\u001b[1;33m\u001b[0m\u001b[1;33m\u001b[0m\u001b[0m\n\u001b[0;32m    439\u001b[0m                 \u001b[1;32mtry\u001b[0m\u001b[1;33m:\u001b[0m\u001b[1;33m\u001b[0m\u001b[1;33m\u001b[0m\u001b[0m\n\u001b[1;32m--> 440\u001b[1;33m                     \u001b[0mhttplib_response\u001b[0m \u001b[1;33m=\u001b[0m \u001b[0mconn\u001b[0m\u001b[1;33m.\u001b[0m\u001b[0mgetresponse\u001b[0m\u001b[1;33m(\u001b[0m\u001b[1;33m)\u001b[0m\u001b[1;33m\u001b[0m\u001b[1;33m\u001b[0m\u001b[0m\n\u001b[0m\u001b[0;32m    441\u001b[0m                 \u001b[1;32mexcept\u001b[0m \u001b[0mBaseException\u001b[0m \u001b[1;32mas\u001b[0m \u001b[0me\u001b[0m\u001b[1;33m:\u001b[0m\u001b[1;33m\u001b[0m\u001b[1;33m\u001b[0m\u001b[0m\n\u001b[0;32m    442\u001b[0m                     \u001b[1;31m# Remove the TypeError from the exception chain in\u001b[0m\u001b[1;33m\u001b[0m\u001b[1;33m\u001b[0m\u001b[0m\n",
      "\u001b[1;32m~\\anaconda3\\envs\\fencing_viz\\lib\\http\\client.py\u001b[0m in \u001b[0;36mgetresponse\u001b[1;34m(self)\u001b[0m\n\u001b[0;32m   1369\u001b[0m         \u001b[1;32mtry\u001b[0m\u001b[1;33m:\u001b[0m\u001b[1;33m\u001b[0m\u001b[1;33m\u001b[0m\u001b[0m\n\u001b[0;32m   1370\u001b[0m             \u001b[1;32mtry\u001b[0m\u001b[1;33m:\u001b[0m\u001b[1;33m\u001b[0m\u001b[1;33m\u001b[0m\u001b[0m\n\u001b[1;32m-> 1371\u001b[1;33m                 \u001b[0mresponse\u001b[0m\u001b[1;33m.\u001b[0m\u001b[0mbegin\u001b[0m\u001b[1;33m(\u001b[0m\u001b[1;33m)\u001b[0m\u001b[1;33m\u001b[0m\u001b[1;33m\u001b[0m\u001b[0m\n\u001b[0m\u001b[0;32m   1372\u001b[0m             \u001b[1;32mexcept\u001b[0m \u001b[0mConnectionError\u001b[0m\u001b[1;33m:\u001b[0m\u001b[1;33m\u001b[0m\u001b[1;33m\u001b[0m\u001b[0m\n\u001b[0;32m   1373\u001b[0m                 \u001b[0mself\u001b[0m\u001b[1;33m.\u001b[0m\u001b[0mclose\u001b[0m\u001b[1;33m(\u001b[0m\u001b[1;33m)\u001b[0m\u001b[1;33m\u001b[0m\u001b[1;33m\u001b[0m\u001b[0m\n",
      "\u001b[1;32m~\\anaconda3\\envs\\fencing_viz\\lib\\http\\client.py\u001b[0m in \u001b[0;36mbegin\u001b[1;34m(self)\u001b[0m\n\u001b[0;32m    317\u001b[0m         \u001b[1;31m# read until we get a non-100 response\u001b[0m\u001b[1;33m\u001b[0m\u001b[1;33m\u001b[0m\u001b[0m\n\u001b[0;32m    318\u001b[0m         \u001b[1;32mwhile\u001b[0m \u001b[1;32mTrue\u001b[0m\u001b[1;33m:\u001b[0m\u001b[1;33m\u001b[0m\u001b[1;33m\u001b[0m\u001b[0m\n\u001b[1;32m--> 319\u001b[1;33m             \u001b[0mversion\u001b[0m\u001b[1;33m,\u001b[0m \u001b[0mstatus\u001b[0m\u001b[1;33m,\u001b[0m \u001b[0mreason\u001b[0m \u001b[1;33m=\u001b[0m \u001b[0mself\u001b[0m\u001b[1;33m.\u001b[0m\u001b[0m_read_status\u001b[0m\u001b[1;33m(\u001b[0m\u001b[1;33m)\u001b[0m\u001b[1;33m\u001b[0m\u001b[1;33m\u001b[0m\u001b[0m\n\u001b[0m\u001b[0;32m    320\u001b[0m             \u001b[1;32mif\u001b[0m \u001b[0mstatus\u001b[0m \u001b[1;33m!=\u001b[0m \u001b[0mCONTINUE\u001b[0m\u001b[1;33m:\u001b[0m\u001b[1;33m\u001b[0m\u001b[1;33m\u001b[0m\u001b[0m\n\u001b[0;32m    321\u001b[0m                 \u001b[1;32mbreak\u001b[0m\u001b[1;33m\u001b[0m\u001b[1;33m\u001b[0m\u001b[0m\n",
      "\u001b[1;32m~\\anaconda3\\envs\\fencing_viz\\lib\\http\\client.py\u001b[0m in \u001b[0;36m_read_status\u001b[1;34m(self)\u001b[0m\n\u001b[0;32m    278\u001b[0m \u001b[1;33m\u001b[0m\u001b[0m\n\u001b[0;32m    279\u001b[0m     \u001b[1;32mdef\u001b[0m \u001b[0m_read_status\u001b[0m\u001b[1;33m(\u001b[0m\u001b[0mself\u001b[0m\u001b[1;33m)\u001b[0m\u001b[1;33m:\u001b[0m\u001b[1;33m\u001b[0m\u001b[1;33m\u001b[0m\u001b[0m\n\u001b[1;32m--> 280\u001b[1;33m         \u001b[0mline\u001b[0m \u001b[1;33m=\u001b[0m \u001b[0mstr\u001b[0m\u001b[1;33m(\u001b[0m\u001b[0mself\u001b[0m\u001b[1;33m.\u001b[0m\u001b[0mfp\u001b[0m\u001b[1;33m.\u001b[0m\u001b[0mreadline\u001b[0m\u001b[1;33m(\u001b[0m\u001b[0m_MAXLINE\u001b[0m \u001b[1;33m+\u001b[0m \u001b[1;36m1\u001b[0m\u001b[1;33m)\u001b[0m\u001b[1;33m,\u001b[0m \u001b[1;34m\"iso-8859-1\"\u001b[0m\u001b[1;33m)\u001b[0m\u001b[1;33m\u001b[0m\u001b[1;33m\u001b[0m\u001b[0m\n\u001b[0m\u001b[0;32m    281\u001b[0m         \u001b[1;32mif\u001b[0m \u001b[0mlen\u001b[0m\u001b[1;33m(\u001b[0m\u001b[0mline\u001b[0m\u001b[1;33m)\u001b[0m \u001b[1;33m>\u001b[0m \u001b[0m_MAXLINE\u001b[0m\u001b[1;33m:\u001b[0m\u001b[1;33m\u001b[0m\u001b[1;33m\u001b[0m\u001b[0m\n\u001b[0;32m    282\u001b[0m             \u001b[1;32mraise\u001b[0m \u001b[0mLineTooLong\u001b[0m\u001b[1;33m(\u001b[0m\u001b[1;34m\"status line\"\u001b[0m\u001b[1;33m)\u001b[0m\u001b[1;33m\u001b[0m\u001b[1;33m\u001b[0m\u001b[0m\n",
      "\u001b[1;32m~\\anaconda3\\envs\\fencing_viz\\lib\\socket.py\u001b[0m in \u001b[0;36mreadinto\u001b[1;34m(self, b)\u001b[0m\n\u001b[0;32m    702\u001b[0m         \u001b[1;32mwhile\u001b[0m \u001b[1;32mTrue\u001b[0m\u001b[1;33m:\u001b[0m\u001b[1;33m\u001b[0m\u001b[1;33m\u001b[0m\u001b[0m\n\u001b[0;32m    703\u001b[0m             \u001b[1;32mtry\u001b[0m\u001b[1;33m:\u001b[0m\u001b[1;33m\u001b[0m\u001b[1;33m\u001b[0m\u001b[0m\n\u001b[1;32m--> 704\u001b[1;33m                 \u001b[1;32mreturn\u001b[0m \u001b[0mself\u001b[0m\u001b[1;33m.\u001b[0m\u001b[0m_sock\u001b[0m\u001b[1;33m.\u001b[0m\u001b[0mrecv_into\u001b[0m\u001b[1;33m(\u001b[0m\u001b[0mb\u001b[0m\u001b[1;33m)\u001b[0m\u001b[1;33m\u001b[0m\u001b[1;33m\u001b[0m\u001b[0m\n\u001b[0m\u001b[0;32m    705\u001b[0m             \u001b[1;32mexcept\u001b[0m \u001b[0mtimeout\u001b[0m\u001b[1;33m:\u001b[0m\u001b[1;33m\u001b[0m\u001b[1;33m\u001b[0m\u001b[0m\n\u001b[0;32m    706\u001b[0m                 \u001b[0mself\u001b[0m\u001b[1;33m.\u001b[0m\u001b[0m_timeout_occurred\u001b[0m \u001b[1;33m=\u001b[0m \u001b[1;32mTrue\u001b[0m\u001b[1;33m\u001b[0m\u001b[1;33m\u001b[0m\u001b[0m\n",
      "\u001b[1;31mKeyboardInterrupt\u001b[0m: "
     ]
    }
   ],
   "source": [
    "SeniorEpee.scrape()"
   ]
  },
  {
   "cell_type": "code",
   "execution_count": null,
   "metadata": {},
   "outputs": [],
   "source": [
    "test_cases = [['SCHMIDT', 'Richard'],['KONGSTAD', 'Conrad', 'Seibaek'],['LIMARDO', 'GASCON', 'Ruben']] "
   ]
  },
  {
   "cell_type": "code",
   "execution_count": null,
   "metadata": {},
   "outputs": [],
   "source": [
    "for fencer in test_cases:\n",
    "    first_names = []\n",
    "    last_names = []\n",
    "    for name in fencer:\n",
    "        if name.isupper():\n",
    "            name = ''.join([name[0], name[1:].lower()])\n",
    "            last_names.append(name)\n",
    "        else: first_names.append(name)\n",
    "    first_name = ' '.join(first_names)\n",
    "    last_name = ' '.join(last_names)\n",
    "    print(first_name, last_name)\n"
   ]
  },
  {
   "cell_type": "code",
   "execution_count": null,
   "metadata": {},
   "outputs": [],
   "source": []
  }
 ],
 "metadata": {
  "interpreter": {
   "hash": "2272d772725abaa0e9a8171d57b4be3848b3cc5e0dc324a7986cfa1a76fee20b"
  },
  "kernelspec": {
   "display_name": "Python 3.9.7 ('fencing_viz')",
   "language": "python",
   "name": "python3"
  },
  "language_info": {
   "codemirror_mode": {
    "name": "ipython",
    "version": 3
   },
   "file_extension": ".py",
   "mimetype": "text/x-python",
   "name": "python",
   "nbconvert_exporter": "python",
   "pygments_lexer": "ipython3",
   "version": "3.9.7"
  },
  "orig_nbformat": 4
 },
 "nbformat": 4,
 "nbformat_minor": 2
}
=======
{
 "cells": [
  {
   "cell_type": "code",
   "execution_count": 1,
   "metadata": {},
   "outputs": [],
   "source": [
    "%load_ext autoreload\n",
    "%autoreload 2"
   ]
  },
  {
   "cell_type": "code",
   "execution_count": 2,
   "metadata": {},
   "outputs": [],
   "source": [
    "from app.database import SessionLocal, engine, Base\n",
    "from app.models import Fencer, Tournament, Bout\n",
    "import datetime"
   ]
  },
  {
   "cell_type": "code",
   "execution_count": 3,
   "metadata": {},
   "outputs": [],
   "source": [
    "Base.metadata.drop_all(engine)"
   ]
  },
  {
   "cell_type": "code",
   "execution_count": 4,
   "metadata": {},
   "outputs": [],
   "source": [
    "Base.metadata.create_all(engine)"
   ]
  },
  {
   "cell_type": "code",
   "execution_count": 5,
   "metadata": {},
   "outputs": [],
   "source": [
    "from web_scrapping_helpers import FIEPage, parse_metadata, parse_pool, pool_to_db, tournament_to_db"
   ]
  },
  {
   "cell_type": "code",
   "execution_count": 6,
   "metadata": {},
   "outputs": [
    {
     "name": "stdout",
     "output_type": "stream",
     "text": [
      "\n"
     ]
    },
    {
     "name": "stderr",
     "output_type": "stream",
     "text": [
      "[WDM] - ====== WebDriver manager ======\n",
      "[WDM] - Current google-chrome version is 102.0.5005\n",
      "[WDM] - Get LATEST chromedriver version for 102.0.5005 google-chrome\n",
      "[WDM] - Driver [C:\\Users\\liamc\\.wdm\\drivers\\chromedriver\\win32\\102.0.5005.61\\chromedriver.exe] found in cache\n"
     ]
    }
   ],
   "source": [
    "Scraper = FIEPage('epee', 's', 'A', 2)"
   ]
  },
  {
   "cell_type": "code",
   "execution_count": 7,
   "metadata": {},
   "outputs": [
    {
     "data": {
      "text/plain": [
       "<web_scrapping_helpers.FIEPage at 0x1f69ff404f0>"
      ]
     },
     "execution_count": 7,
     "metadata": {},
     "output_type": "execute_result"
    }
   ],
   "source": [
    "Scraper.open_competions().previous().age_group('s').comp_category('A').select_weapon('epee').select_gender('m').select_event_type()"
   ]
  },
  {
   "cell_type": "code",
   "execution_count": 9,
   "metadata": {},
   "outputs": [],
   "source": [
    "metadata = Scraper.get_competitions()"
   ]
  },
  {
   "cell_type": "code",
   "execution_count": 10,
   "metadata": {},
   "outputs": [],
   "source": [
    "comp = metadata[0]"
   ]
  },
  {
   "cell_type": "code",
   "execution_count": 11,
   "metadata": {},
   "outputs": [],
   "source": [
    "with SessionLocal as session, session.begin():\n",
    "    tourn_meta, link = comp\n",
    "    tournament = tournament_to_db(tourn_meta, session)\n",
    "    main = Scraper.open_window(link)\n",
    "    pool_data = Scraper.to_results().to_pools().get_pools_data()\n",
    "    for pool in pool_data:\n",
    "        bouts = parse_pool(pool)\n",
    "        pool_to_db(bouts, tournament, session)\n",
    "\n",
    "\n",
    "\n"
   ]
  },
  {
   "cell_type": "code",
   "execution_count": null,
   "metadata": {},
   "outputs": [],
   "source": [
    "for fencer in test_cases:\n",
    "    first_names = []\n",
    "    last_names = []\n",
    "    for name in fencer:\n",
    "        if name.isupper():\n",
    "            name = ''.join([name[0], name[1:].lower()])\n",
    "            last_names.append(name)\n",
    "        else: first_names.append(name)\n",
    "    first_name = ' '.join(first_names)\n",
    "    last_name = ' '.join(last_names)\n",
    "    print(first_name, last_name)\n"
   ]
  },
  {
   "cell_type": "code",
   "execution_count": 15,
   "metadata": {},
   "outputs": [],
   "source": [
    "# session = SessionLocal\n",
    "# session.begin()\n",
    "fencer_test = session.query(Fencer).filter_by(first_name = 'SAMUEL').all()"
   ]
  },
  {
   "cell_type": "code",
   "execution_count": 19,
   "metadata": {},
   "outputs": [
    {
     "data": {
      "text/plain": [
       "[PAUL ALLEGRE 5 to SAMUEL LARSEN 3,\n",
       " ALEXIS BAYARD 5 to SAMUEL LARSEN 0,\n",
       " MYEONGKI KIM 5 to SAMUEL LARSEN 3,\n",
       " YOHITO MASUDA 4 to SAMUEL LARSEN 3,\n",
       " JAKOB STYMNE 5 to SAMUEL LARSEN 2]"
      ]
     },
     "execution_count": 19,
     "metadata": {},
     "output_type": "execute_result"
    }
   ],
   "source": [
    "fencer_test[1].bout_lose"
   ]
  },
  {
   "cell_type": "code",
   "execution_count": 16,
   "metadata": {},
   "outputs": [
    {
     "data": {
      "text/plain": [
       "2"
      ]
     },
     "execution_count": 16,
     "metadata": {},
     "output_type": "execute_result"
    }
   ],
   "source": [
    "dc = {'a':[], 'b':[]}\n",
    "len(dc)"
   ]
  },
  {
   "cell_type": "code",
   "execution_count": 15,
   "metadata": {},
   "outputs": [
    {
     "name": "stdout",
     "output_type": "stream",
     "text": [
      "0\n",
      "0\n",
      "0\n",
      "0\n"
     ]
    },
    {
     "name": "stderr",
     "output_type": "stream",
     "text": [
      "[autoreload of app.models failed: Traceback (most recent call last):\n",
      "  File \"c:\\Users\\liamc\\anaconda3\\envs\\fencing_elo\\lib\\site-packages\\IPython\\extensions\\autoreload.py\", line 257, in check\n",
      "    superreload(m, reload, self.old_objects)\n",
      "  File \"c:\\Users\\liamc\\anaconda3\\envs\\fencing_elo\\lib\\site-packages\\IPython\\extensions\\autoreload.py\", line 455, in superreload\n",
      "    module = reload(module)\n",
      "  File \"c:\\Users\\liamc\\anaconda3\\envs\\fencing_elo\\lib\\importlib\\__init__.py\", line 169, in reload\n",
      "    _bootstrap._exec(spec, module)\n",
      "  File \"<frozen importlib._bootstrap>\", line 613, in _exec\n",
      "  File \"<frozen importlib._bootstrap_external>\", line 850, in exec_module\n",
      "  File \"<frozen importlib._bootstrap>\", line 228, in _call_with_frames_removed\n",
      "  File \"c:\\Users\\liamc\\Desktop\\fencing_elo\\app\\models.py\", line 13, in <module>\n",
      "    tourn_fen = Table(\n",
      "  File \"<string>\", line 2, in __new__\n",
      "  File \"c:\\Users\\liamc\\anaconda3\\envs\\fencing_elo\\lib\\site-packages\\sqlalchemy\\util\\deprecations.py\", line 309, in warned\n",
      "    return fn(*args, **kwargs)\n",
      "  File \"c:\\Users\\liamc\\anaconda3\\envs\\fencing_elo\\lib\\site-packages\\sqlalchemy\\sql\\schema.py\", line 593, in __new__\n",
      "    raise exc.InvalidRequestError(\n",
      "sqlalchemy.exc.InvalidRequestError: Table 'fencers_tournament' is already defined for this MetaData instance.  Specify 'extend_existing=True' to redefine options and columns on an existing Table object.\n",
      "]\n"
     ]
    }
   ],
   "source": [
    "win_bouts = fencer_test.bout_win\n",
    "for bout in win_bouts:\n",
    "    print(0)"
   ]
  },
  {
   "cell_type": "code",
   "execution_count": 16,
   "metadata": {},
   "outputs": [
    {
     "name": "stderr",
     "output_type": "stream",
     "text": [
      "[autoreload of app.models failed: Traceback (most recent call last):\n",
      "  File \"c:\\Users\\liamc\\anaconda3\\envs\\fencing_elo\\lib\\site-packages\\IPython\\extensions\\autoreload.py\", line 257, in check\n",
      "    superreload(m, reload, self.old_objects)\n",
      "  File \"c:\\Users\\liamc\\anaconda3\\envs\\fencing_elo\\lib\\site-packages\\IPython\\extensions\\autoreload.py\", line 455, in superreload\n",
      "    module = reload(module)\n",
      "  File \"c:\\Users\\liamc\\anaconda3\\envs\\fencing_elo\\lib\\importlib\\__init__.py\", line 169, in reload\n",
      "    _bootstrap._exec(spec, module)\n",
      "  File \"<frozen importlib._bootstrap>\", line 613, in _exec\n",
      "  File \"<frozen importlib._bootstrap_external>\", line 850, in exec_module\n",
      "  File \"<frozen importlib._bootstrap>\", line 228, in _call_with_frames_removed\n",
      "  File \"c:\\Users\\liamc\\Desktop\\fencing_elo\\app\\models.py\", line 13, in <module>\n",
      "    tourn_fen = Table(\n",
      "  File \"<string>\", line 2, in __new__\n",
      "  File \"c:\\Users\\liamc\\anaconda3\\envs\\fencing_elo\\lib\\site-packages\\sqlalchemy\\util\\deprecations.py\", line 309, in warned\n",
      "    return fn(*args, **kwargs)\n",
      "  File \"c:\\Users\\liamc\\anaconda3\\envs\\fencing_elo\\lib\\site-packages\\sqlalchemy\\sql\\schema.py\", line 593, in __new__\n",
      "    raise exc.InvalidRequestError(\n",
      "sqlalchemy.exc.InvalidRequestError: Table 'fencers_tournament' is already defined for this MetaData instance.  Specify 'extend_existing=True' to redefine options and columns on an existing Table object.\n",
      "]\n"
     ]
    },
    {
     "ename": "NameError",
     "evalue": "name 'win_bouts' is not defined",
     "output_type": "error",
     "traceback": [
      "\u001b[1;31m---------------------------------------------------------------------------\u001b[0m",
      "\u001b[1;31mNameError\u001b[0m                                 Traceback (most recent call last)",
      "\u001b[1;32mc:\\Users\\liamc\\Desktop\\fencing_elo\\scrapping_data.ipynb Cell 14'\u001b[0m in \u001b[0;36m<cell line: 1>\u001b[1;34m()\u001b[0m\n\u001b[1;32m----> <a href='vscode-notebook-cell:/c%3A/Users/liamc/Desktop/fencing_elo/scrapping_data.ipynb#ch0000042?line=0'>1</a>\u001b[0m win_bouts\n",
      "\u001b[1;31mNameError\u001b[0m: name 'win_bouts' is not defined"
     ]
    }
   ],
   "source": [
    "win_bouts"
   ]
  },
  {
   "cell_type": "code",
   "execution_count": null,
   "metadata": {},
   "outputs": [],
   "source": []
  }
 ],
 "metadata": {
  "interpreter": {
   "hash": "60dc42484e32e8f4af39d85bc16282b11910212f2ebede321b1f974abcd1918b"
  },
  "kernelspec": {
   "display_name": "Python 3.9.12 ('fencing_elo')",
   "language": "python",
   "name": "python3"
  },
  "language_info": {
   "codemirror_mode": {
    "name": "ipython",
    "version": 3
   },
   "file_extension": ".py",
   "mimetype": "text/x-python",
   "name": "python",
   "nbconvert_exporter": "python",
   "pygments_lexer": "ipython3",
   "version": "3.9.12"
  },
  "orig_nbformat": 4
 },
 "nbformat": 4,
 "nbformat_minor": 2
}
>>>>>>> dev

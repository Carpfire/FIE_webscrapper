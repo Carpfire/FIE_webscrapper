{
 "cells": [
  {
   "cell_type": "code",
   "execution_count": 243,
   "metadata": {},
   "outputs": [
    {
     "name": "stdout",
     "output_type": "stream",
     "text": [
      "The autoreload extension is already loaded. To reload it, use:\n",
      "  %reload_ext autoreload\n"
     ]
    }
   ],
   "source": [
    "%load_ext autoreload\n",
    "%autoreload 2"
   ]
  },
  {
   "cell_type": "code",
   "execution_count": 289,
   "metadata": {},
   "outputs": [],
   "source": [
    "from app.database import SessionLocal, engine, Base\n",
    "from app.models import Fencer, Tournament, Bout\n",
    "import datetime"
   ]
  },
  {
   "cell_type": "code",
   "execution_count": 290,
   "metadata": {},
   "outputs": [],
   "source": [
    "Base.metadata.drop_all(engine)"
   ]
  },
  {
   "cell_type": "code",
   "execution_count": 291,
   "metadata": {},
   "outputs": [],
   "source": [
    "Base.metadata.create_all(engine)"
   ]
  },
  {
   "cell_type": "code",
   "execution_count": 314,
   "metadata": {},
   "outputs": [],
   "source": [
    "from web_scrapping_helpers import FIEPage"
   ]
  },
  {
   "cell_type": "code",
   "execution_count": 315,
   "metadata": {},
   "outputs": [
    {
     "name": "stdout",
     "output_type": "stream",
     "text": [
      "\n"
     ]
    },
    {
     "name": "stderr",
     "output_type": "stream",
     "text": [
      "[WDM] - ====== WebDriver manager ======\n",
      "[WDM] - Current google-chrome version is 102.0.5005\n",
      "[WDM] - Get LATEST chromedriver version for 102.0.5005 google-chrome\n",
      "[WDM] - Driver [C:\\Users\\liamc\\.wdm\\drivers\\chromedriver\\win32\\102.0.5005.61\\chromedriver.exe] found in cache\n"
     ]
    }
   ],
   "source": [
    "Scraper = FIEPage('epee', 's', 'A', 2)"
   ]
  },
  {
   "cell_type": "code",
   "execution_count": 316,
   "metadata": {},
   "outputs": [
    {
     "data": {
      "text/plain": [
       "<web_scrapping_helpers.WebScrapper at 0x239cbcf48e0>"
      ]
     },
     "execution_count": 316,
     "metadata": {},
     "output_type": "execute_result"
    }
   ],
   "source": [
    "Scraper.open_competions().previous().age_group('s').comp_category('A').select_weapon('epee').select_gender('m').select_event_type()"
   ]
  },
  {
   "cell_type": "code",
   "execution_count": 310,
   "metadata": {},
   "outputs": [],
   "source": [
    "metadata = Scraper.get_competitions()"
   ]
  },
  {
   "cell_type": "code",
   "execution_count": 296,
   "metadata": {},
   "outputs": [
    {
     "data": {
      "text/plain": [
       "[(['Coupe du Monde par équipes',\n",
       "   'Katowice',\n",
       "   '(POL)',\n",
       "   'Start: 29-05-2022',\n",
       "   'End: 29-05-2022',\n",
       "   'epee',\n",
       "   'senior'],\n",
       "  'https://fie.org/competitions/2022/452'),\n",
       " (['Coupe du Monde par équipes',\n",
       "   'Tbilisi',\n",
       "   '(GEO)',\n",
       "   'Start: 29-05-2022',\n",
       "   'End: 29-05-2022',\n",
       "   'epee',\n",
       "   'senior'],\n",
       "  'https://fie.org/competitions/2022/489'),\n",
       " (['Coupe du Monde',\n",
       "   'Katowice',\n",
       "   '(POL)',\n",
       "   'Start: 27-05-2022',\n",
       "   'End: 28-05-2022',\n",
       "   'epee',\n",
       "   'senior'],\n",
       "  'https://fie.org/competitions/2022/97'),\n",
       " (['Coupe du Monde',\n",
       "   'Tbilisi',\n",
       "   '(GEO)',\n",
       "   'Start: 27-05-2022',\n",
       "   'End: 28-05-2022',\n",
       "   'epee',\n",
       "   'senior'],\n",
       "  'https://fie.org/competitions/2022/104'),\n",
       " (['Coupe du Monde par équipes',\n",
       "   'Fujairah',\n",
       "   '(UAE)',\n",
       "   'Start: 15-05-2022',\n",
       "   'End: 15-05-2022',\n",
       "   'epee',\n",
       "   'senior'],\n",
       "  'https://fie.org/competitions/2022/762'),\n",
       " (['Coupe du Monde par équipes',\n",
       "   'Heidenheim',\n",
       "   '(GER)',\n",
       "   'Start: 14-05-2022',\n",
       "   'End: 14-05-2022',\n",
       "   'epee',\n",
       "   'senior'],\n",
       "  'https://fie.org/competitions/2022/454'),\n",
       " (['Coupe du Monde',\n",
       "   'Fujairah',\n",
       "   '(UAE)',\n",
       "   'Start: 13-05-2022',\n",
       "   'End: 14-05-2022',\n",
       "   'epee',\n",
       "   'senior'],\n",
       "  'https://fie.org/competitions/2022/451'),\n",
       " (['Coupe du Monde',\n",
       "   'Heidenheim',\n",
       "   '(GER)',\n",
       "   'Start: 12-05-2022',\n",
       "   'End: 13-05-2022',\n",
       "   'epee',\n",
       "   'senior'],\n",
       "  'https://fie.org/competitions/2022/98'),\n",
       " (['Challenge MONAL',\n",
       "   'Paris',\n",
       "   '(FRA)',\n",
       "   'Start: 15-04-2022',\n",
       "   'End: 17-04-2022',\n",
       "   'epee',\n",
       "   'senior'],\n",
       "  None),\n",
       " ([''], 'https://fie.org/competitions/2022/753'),\n",
       " ([''], 'https://fie.org/competitions/2022/111'),\n",
       " (['Coupe du Monde par équipes',\n",
       "   'Barcelone',\n",
       "   '(ESP)',\n",
       "   'Start: 13-02-2022',\n",
       "   'End: 13-02-2022',\n",
       "   'epee',\n",
       "   'senior'],\n",
       "  'https://fie.org/competitions/2022/822'),\n",
       " (['Coupe du Monde par équipes',\n",
       "   'Sochi',\n",
       "   '(RUS)',\n",
       "   'Start: 13-02-2022',\n",
       "   'End: 13-02-2022',\n",
       "   'epee',\n",
       "   'senior'],\n",
       "  'https://fie.org/competitions/2022/823'),\n",
       " (['Coupe du Monde',\n",
       "   'Barcelone',\n",
       "   '(ESP)',\n",
       "   'Start: 11-02-2022',\n",
       "   'End: 12-02-2022',\n",
       "   'epee',\n",
       "   'senior'],\n",
       "  'https://fie.org/competitions/2022/85'),\n",
       " (['Coupe du Monde',\n",
       "   'Sochi',\n",
       "   '(RUS)',\n",
       "   'Start: 11-02-2022',\n",
       "   'End: 12-02-2022',\n",
       "   'epee',\n",
       "   'senior'],\n",
       "  'https://fie.org/competitions/2022/108'),\n",
       " (['Coupe du Monde par équipes',\n",
       "   'Berne',\n",
       "   '(SUI)',\n",
       "   'Start: 21-11-2021',\n",
       "   'End: 21-11-2021',\n",
       "   'epee',\n",
       "   'senior'],\n",
       "  'https://fie.org/competitions/2022/559'),\n",
       " (['Coupe du Monde par équipes',\n",
       "   'Tallin',\n",
       "   '(EST)',\n",
       "   'Start: 21-11-2021',\n",
       "   'End: 21-11-2021',\n",
       "   'epee',\n",
       "   'senior'],\n",
       "  'https://fie.org/competitions/2022/751'),\n",
       " (['Coupe du Monde',\n",
       "   'Tallin',\n",
       "   '(EST)',\n",
       "   'Start: 19-11-2021',\n",
       "   'End: 20-11-2021',\n",
       "   'epee',\n",
       "   'senior'],\n",
       "  'https://fie.org/competitions/2022/80'),\n",
       " (['Coupe du Monde',\n",
       "   'Berne',\n",
       "   '(SUI)',\n",
       "   'Start: 19-11-2021',\n",
       "   'End: 20-11-2021',\n",
       "   'epee',\n",
       "   'senior'],\n",
       "  'https://fie.org/competitions/2022/385'),\n",
       " (['Coupe du Monde par équipes',\n",
       "   'Kazan',\n",
       "   '(RUS)',\n",
       "   'Start: 22-03-2021',\n",
       "   'End: 23-03-2021',\n",
       "   'epee',\n",
       "   'senior'],\n",
       "  None),\n",
       " ([''], 'https://fie.org/competitions/2021/489'),\n",
       " ([''], 'https://fie.org/competitions/2021/750'),\n",
       " (['Coupe du Monde',\n",
       "   'Kazan',\n",
       "   '(RUS)',\n",
       "   'Start: 19-03-2021',\n",
       "   'End: 21-03-2021',\n",
       "   'epee',\n",
       "   'senior'],\n",
       "  None),\n",
       " ([''], 'https://fie.org/competitions/2021/92'),\n",
       " ([''], 'https://fie.org/competitions/2021/104'),\n",
       " (['Coupe du Monde par équipes',\n",
       "   'Vancouver',\n",
       "   '(CAN)',\n",
       "   'Start: 09-02-2020',\n",
       "   'End: 09-02-2020',\n",
       "   'epee',\n",
       "   'senior'],\n",
       "  'https://fie.org/competitions/2020/454')]"
      ]
     },
     "execution_count": 296,
     "metadata": {},
     "output_type": "execute_result"
    }
   ],
   "source": [
    "metadata"
   ]
  },
  {
   "cell_type": "code",
   "execution_count": 313,
   "metadata": {},
   "outputs": [],
   "source": [
    "for data, link in metadata:\n",
    "    with SessionLocal as session, session.begin():\n",
    "        tournament = Tournament()\n",
    "        tournament.country = data[2][1:3]\n",
    "        tournament.city = data[1]\n",
    "        tournament.bouts = []\n",
    "        s_day, s_month, s_year = data[3].split(' ')[1].split('-')\n",
    "        e_day, e_month, e_year = data[4].split(' ')[1].split('-')\n",
    "        tournament.start_date = datetime.date(year=int(s_year), month=int(s_month), day=int(s_day)) \n",
    "        tournament.end_date = datetime.date(year=int(e_year), month=int(e_month), day=int(e_day))\n",
    "        window = Scraper.open_window(link)\n",
    "        pool_data = Scraper.to_results().to_pools().get_pools_data()\n",
    "\n",
    "\n"
   ]
  },
  {
   "cell_type": "code",
   "execution_count": null,
   "metadata": {},
   "outputs": [],
   "source": [
    "for fencer in test_cases:\n",
    "    first_names = []\n",
    "    last_names = []\n",
    "    for name in fencer:\n",
    "        if name.isupper():\n",
    "            name = ''.join([name[0], name[1:].lower()])\n",
    "            last_names.append(name)\n",
    "        else: first_names.append(name)\n",
    "    first_name = ' '.join(first_names)\n",
    "    last_name = ' '.join(last_names)\n",
    "    print(first_name, last_name)\n"
   ]
  },
  {
   "cell_type": "code",
   "execution_count": null,
   "metadata": {},
   "outputs": [],
   "source": []
  }
 ],
 "metadata": {
  "interpreter": {
   "hash": "60dc42484e32e8f4af39d85bc16282b11910212f2ebede321b1f974abcd1918b"
  },
  "kernelspec": {
   "display_name": "Python 3.9.12 ('fencing_elo')",
   "language": "python",
   "name": "python3"
  },
  "language_info": {
   "codemirror_mode": {
    "name": "ipython",
    "version": 3
   },
   "file_extension": ".py",
   "mimetype": "text/x-python",
   "name": "python",
   "nbconvert_exporter": "python",
   "pygments_lexer": "ipython3",
   "version": "3.9.12"
  },
  "orig_nbformat": 4
 },
 "nbformat": 4,
 "nbformat_minor": 2
}

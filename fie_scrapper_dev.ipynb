{
 "cells": [
  {
   "cell_type": "code",
   "execution_count": 3,
   "metadata": {},
   "outputs": [],
   "source": [
    "from selenium import webdriver\n",
    "from selenium.webdriver.support.ui import Select\n",
    "from selenium.webdriver.chrome.service import Service\n",
    "from selenium.webdriver.common.action_chains import ActionChains\n",
    "import time \n",
    "import warnings\n",
    "from webdriver_manager.chrome import ChromeDriverManager\n",
    "warnings.filterwarnings('ignore')"
   ]
  },
  {
   "cell_type": "code",
   "execution_count": 4,
   "metadata": {},
   "outputs": [
    {
     "name": "stderr",
     "output_type": "stream",
     "text": [
      "\n",
      "\n",
      "====== WebDriver manager ======\n",
      "Current google-chrome version is 98.0.4758\n",
      "Get LATEST chromedriver version for 98.0.4758 google-chrome\n",
      "Driver [C:\\Users\\liamc\\.wdm\\drivers\\chromedriver\\win32\\98.0.4758.102\\chromedriver.exe] found in cache\n"
     ]
    }
   ],
   "source": [
    "service = Service(executable_path=ChromeDriverManager().install())"
   ]
  },
  {
   "cell_type": "code",
   "execution_count": 11,
   "metadata": {},
   "outputs": [],
   "source": [
    "main_page()\n"
   ]
  },
  {
   "cell_type": "markdown",
   "metadata": {},
   "source": [
    "# Going through results and clicking on links"
   ]
  },
  {
   "cell_type": "code",
   "execution_count": null,
   "metadata": {},
   "outputs": [],
   "source": [
    "ActionCh)"
   ]
  },
  {
   "cell_type": "code",
   "execution_count": 6,
   "metadata": {},
   "outputs": [],
   "source": []
  },
  {
   "cell_type": "markdown",
   "metadata": {},
   "source": [
    "for round in 64 to 32:\n",
    "    for i in range(32):\n",
    "    select defeated fencer \n",
    "    if exists in data base:\n",
    "        add bout\n",
    "    if not exists in data base;\n",
    "        add fencer and attributes\n",
    "        add bout \n",
    "    select victorious fencer\n",
    "    repeat\n",
    "\n",
    "    /html[@class='wf-franklingothicurw-n4-active wf-franklingothicurw-n5-active wf-franklingothicurw-n7-active wf-futurapt-n7-active wf-active']/body/div[@class='Section Section--pt-lg Section--pb-lg']/div[@class='Container Container--wider']/div[@class='Tabs Tabs--xl js-tabs']/div[@class='Tabs-itemsWrapper']/div[@class='Tabs-item js-tabs-item is-active']/div[@class='CompetitionContent']/div[@class='Subtabs Subtabs--xl js-subtabs']/div[@class='Subtabs-item js-subtabs-item is-active']/div[@class='Tableau-wrapper js-tableau']/div[@class='Tableau']/div[@class='Tableau-container']/div[@class='Tableau-elimination Tableau-elimination--64 Tableau-elimination--small Tableau-elimination--visible-2']\n",
    "\n",
    "    /html[@class='wf-franklingothicurw-n4-active wf-franklingothicurw-n5-active wf-franklingothicurw-n7-active wf-futurapt-n7-active wf-active']/body/div[@class='Section Section--pt-lg Section--pb-lg']/div[@class='Container Container--wider']/div[@class='Tabs Tabs--xl js-tabs']/div[@class='Tabs-itemsWrapper']/div[@class='Tabs-item js-tabs-item is-active']/div[@class='CompetitionContent']/div[@class='Subtabs Subtabs--xl js-subtabs']/div[@class='Subtabs-item js-subtabs-item is-active']/div[@class='Tableau-wrapper js-tableau']/div[@class='Tableau']/div[@class='Tableau-container']/div[@class='Tableau-elimination Tableau-elimination--32 Tableau-elimination--medium Tableau-elimination--visible-1']\n",
    "\n",
    "\n"
   ]
  },
  {
   "cell_type": "code",
   "execution_count": 7,
   "metadata": {},
   "outputs": [
    {
     "data": {
      "text/plain": [
       "[]"
      ]
     },
     "execution_count": 7,
     "metadata": {},
     "output_type": "execute_result"
    }
   ],
   "source": [
    "r_64_w = driver.find_elements_by_xpath(\"//html[@class='wf-franklingothicurw-n4-active wf-franklingothicurw-n5-active wf-franklingothicurw-n7-active wf-futurapt-n7-active wf-active']/body[@class='vsc-initialized']/div[@class='Section Section--pt-lg Section--pb-lg']/div[@class='Container Container--wider']/div[@class='Tabs Tabs--xl js-tabs']/div[@class='Tabs-itemsWrapper']/div[@class='Tabs-item js-tabs-item is-active']/div[@class='CompetitionContent']/div[@class='Subtabs Subtabs--xl js-subtabs']/div[@class='Subtabs-item js-subtabs-item is-active']/div[@class='Tableau-wrapper js-tableau']/div[@class='Tableau']/div[@class='Tableau-container']/div[@class='Tableau-elimination Tableau-elimination--4 Tableau-elimination--big Tableau-elimination--visible-1']/div[@class='Tableau-round'][1]/div[@class='Tableau-fencers']/div[@class='Tableau-fencer']\")\n",
    "#r_64_l = driver.find_elements_by_xpath(f\"/html[@class='wf-franklingothicurw-n4-active wf-franklingothicurw-n5-active wf-franklingothicurw-n7-active wf-futurapt-n7-active wf-active']/body/div[@class='Section Section--pt-lg Section--pb-lg']/div[@class='Container Container--wider']/div[@class='Tabs Tabs--xl js-tabs']/div[@class='Tabs-itemsWrapper']/div[@class='Tabs-item js-tabs-item is-active']/div[@class='CompetitionContent']/div[@class='Subtabs Subtabs--xl js-subtabs']/div[@class='Subtabs-item js-subtabs-item is-active']/div[@class='Tableau-wrapper js-tableau']/div[@class='Tableau']/div[@class='Tableau-container']/div[@class='Tableau-elimination Tableau-elimination--32 Tableau-elimination--medium Tableau-elimination--visible-1']/div[@class='Tableau-round']/div[@class='Tableau-fencers']\")\n",
    "[print(fencer.text) for fencer in r_64_w]"
   ]
  },
  {
   "cell_type": "code",
   "execution_count": 21,
   "metadata": {},
   "outputs": [
    {
     "name": "stderr",
     "output_type": "stream",
     "text": [
      "C:\\Users\\liamc\\AppData\\Local\\Temp/ipykernel_58472/4247057402.py:1: DeprecationWarning: find_element_by_* commands are deprecated. Please use find_element() instead\n",
      "  next_button = driver.find_element_by_xpath(\"//div[@class='Tableau-container']/div[@class='Tableau-directionSquare Tableau-directionSquare--next']/div[@class='Tableau-direction Tableau-direction--next Tableau-direction--square']\")\n"
     ]
    },
    {
     "ename": "ElementNotInteractableException",
     "evalue": "Message: element not interactable: [object HTMLDivElement] has no size and location\n  (Session info: chrome=97.0.4692.99)\nStacktrace:\nBacktrace:\n\tOrdinal0 [0x00A9FDC3+2555331]\n\tOrdinal0 [0x00A377F1+2127857]\n\tOrdinal0 [0x00932E08+1060360]\n\tOrdinal0 [0x00935524+1070372]\n\tOrdinal0 [0x009353EE+1070062]\n\tOrdinal0 [0x00935650+1070672]\n\tOrdinal0 [0x00963DCF+1261007]\n\tOrdinal0 [0x00963486+1258630]\n\tOrdinal0 [0x0098E69E+1435294]\n\tOrdinal0 [0x00977B0C+1342220]\n\tOrdinal0 [0x009875FA+1406458]\n\tOrdinal0 [0x00977976+1341814]\n\tOrdinal0 [0x009536B6+1193654]\n\tOrdinal0 [0x00954546+1197382]\n\tGetHandleVerifier [0x00C39622+1619522]\n\tGetHandleVerifier [0x00CE882C+2336844]\n\tGetHandleVerifier [0x00B323E1+541697]\n\tGetHandleVerifier [0x00B31443+537699]\n\tOrdinal0 [0x00A3D18E+2150798]\n\tOrdinal0 [0x00A41518+2168088]\n\tOrdinal0 [0x00A41660+2168416]\n\tOrdinal0 [0x00A4B330+2208560]\n\tBaseThreadInitThunk [0x75AC5749+25]\n\tRtlGetAppContainerNamedObjectPath [0x7752A0D0+288]\n\tRtlGetAppContainerNamedObjectPath [0x7752A09E+238]\n",
     "output_type": "error",
     "traceback": [
      "\u001b[1;31m---------------------------------------------------------------------------\u001b[0m",
      "\u001b[1;31mElementNotInteractableException\u001b[0m           Traceback (most recent call last)",
      "\u001b[1;32m~\\AppData\\Local\\Temp/ipykernel_58472/4247057402.py\u001b[0m in \u001b[0;36m<module>\u001b[1;34m\u001b[0m\n\u001b[0;32m      1\u001b[0m \u001b[0mnext_button\u001b[0m \u001b[1;33m=\u001b[0m \u001b[0mdriver\u001b[0m\u001b[1;33m.\u001b[0m\u001b[0mfind_element_by_xpath\u001b[0m\u001b[1;33m(\u001b[0m\u001b[1;34m\"//div[@class='Tableau-container']/div[@class='Tableau-directionSquare Tableau-directionSquare--next']/div[@class='Tableau-direction Tableau-direction--next Tableau-direction--square']\"\u001b[0m\u001b[1;33m)\u001b[0m\u001b[1;33m\u001b[0m\u001b[1;33m\u001b[0m\u001b[0m\n\u001b[0;32m      2\u001b[0m \u001b[0mdriver\u001b[0m\u001b[1;33m.\u001b[0m\u001b[0mimplicitly_wait\u001b[0m\u001b[1;33m(\u001b[0m\u001b[1;36m10\u001b[0m\u001b[1;33m)\u001b[0m\u001b[1;33m\u001b[0m\u001b[1;33m\u001b[0m\u001b[0m\n\u001b[1;32m----> 3\u001b[1;33m \u001b[0mActionChains\u001b[0m\u001b[1;33m(\u001b[0m\u001b[0mdriver\u001b[0m\u001b[1;33m)\u001b[0m\u001b[1;33m.\u001b[0m\u001b[0mmove_to_element\u001b[0m\u001b[1;33m(\u001b[0m\u001b[0mnext_button\u001b[0m\u001b[1;33m)\u001b[0m\u001b[1;33m.\u001b[0m\u001b[0mclick\u001b[0m\u001b[1;33m(\u001b[0m\u001b[0mnext_button\u001b[0m\u001b[1;33m)\u001b[0m\u001b[1;33m.\u001b[0m\u001b[0mperform\u001b[0m\u001b[1;33m(\u001b[0m\u001b[1;33m)\u001b[0m\u001b[1;33m\u001b[0m\u001b[1;33m\u001b[0m\u001b[0m\n\u001b[0m",
      "\u001b[1;32m~\\anaconda3\\envs\\fencing_viz\\lib\\site-packages\\selenium\\webdriver\\common\\action_chains.py\u001b[0m in \u001b[0;36mperform\u001b[1;34m(self)\u001b[0m\n\u001b[0;32m     73\u001b[0m         \u001b[0mPerforms\u001b[0m \u001b[0mall\u001b[0m \u001b[0mstored\u001b[0m \u001b[0mactions\u001b[0m\u001b[1;33m.\u001b[0m\u001b[1;33m\u001b[0m\u001b[1;33m\u001b[0m\u001b[0m\n\u001b[0;32m     74\u001b[0m         \"\"\"\n\u001b[1;32m---> 75\u001b[1;33m         \u001b[0mself\u001b[0m\u001b[1;33m.\u001b[0m\u001b[0mw3c_actions\u001b[0m\u001b[1;33m.\u001b[0m\u001b[0mperform\u001b[0m\u001b[1;33m(\u001b[0m\u001b[1;33m)\u001b[0m\u001b[1;33m\u001b[0m\u001b[1;33m\u001b[0m\u001b[0m\n\u001b[0m\u001b[0;32m     76\u001b[0m \u001b[1;33m\u001b[0m\u001b[0m\n\u001b[0;32m     77\u001b[0m     \u001b[1;32mdef\u001b[0m \u001b[0mreset_actions\u001b[0m\u001b[1;33m(\u001b[0m\u001b[0mself\u001b[0m\u001b[1;33m)\u001b[0m\u001b[1;33m:\u001b[0m\u001b[1;33m\u001b[0m\u001b[1;33m\u001b[0m\u001b[0m\n",
      "\u001b[1;32m~\\anaconda3\\envs\\fencing_viz\\lib\\site-packages\\selenium\\webdriver\\common\\actions\\action_builder.py\u001b[0m in \u001b[0;36mperform\u001b[1;34m(self)\u001b[0m\n\u001b[0;32m     75\u001b[0m                 \u001b[0menc\u001b[0m\u001b[1;33m[\u001b[0m\u001b[1;34m\"actions\"\u001b[0m\u001b[1;33m]\u001b[0m\u001b[1;33m.\u001b[0m\u001b[0mappend\u001b[0m\u001b[1;33m(\u001b[0m\u001b[0mencoded\u001b[0m\u001b[1;33m)\u001b[0m\u001b[1;33m\u001b[0m\u001b[1;33m\u001b[0m\u001b[0m\n\u001b[0;32m     76\u001b[0m                 \u001b[0mdevice\u001b[0m\u001b[1;33m.\u001b[0m\u001b[0mactions\u001b[0m \u001b[1;33m=\u001b[0m \u001b[1;33m[\u001b[0m\u001b[1;33m]\u001b[0m\u001b[1;33m\u001b[0m\u001b[1;33m\u001b[0m\u001b[0m\n\u001b[1;32m---> 77\u001b[1;33m         \u001b[0mself\u001b[0m\u001b[1;33m.\u001b[0m\u001b[0mdriver\u001b[0m\u001b[1;33m.\u001b[0m\u001b[0mexecute\u001b[0m\u001b[1;33m(\u001b[0m\u001b[0mCommand\u001b[0m\u001b[1;33m.\u001b[0m\u001b[0mW3C_ACTIONS\u001b[0m\u001b[1;33m,\u001b[0m \u001b[0menc\u001b[0m\u001b[1;33m)\u001b[0m\u001b[1;33m\u001b[0m\u001b[1;33m\u001b[0m\u001b[0m\n\u001b[0m\u001b[0;32m     78\u001b[0m \u001b[1;33m\u001b[0m\u001b[0m\n\u001b[0;32m     79\u001b[0m     \u001b[1;32mdef\u001b[0m \u001b[0mclear_actions\u001b[0m\u001b[1;33m(\u001b[0m\u001b[0mself\u001b[0m\u001b[1;33m)\u001b[0m\u001b[1;33m:\u001b[0m\u001b[1;33m\u001b[0m\u001b[1;33m\u001b[0m\u001b[0m\n",
      "\u001b[1;32m~\\anaconda3\\envs\\fencing_viz\\lib\\site-packages\\selenium\\webdriver\\remote\\webdriver.py\u001b[0m in \u001b[0;36mexecute\u001b[1;34m(self, driver_command, params)\u001b[0m\n\u001b[0;32m    422\u001b[0m         \u001b[0mresponse\u001b[0m \u001b[1;33m=\u001b[0m \u001b[0mself\u001b[0m\u001b[1;33m.\u001b[0m\u001b[0mcommand_executor\u001b[0m\u001b[1;33m.\u001b[0m\u001b[0mexecute\u001b[0m\u001b[1;33m(\u001b[0m\u001b[0mdriver_command\u001b[0m\u001b[1;33m,\u001b[0m \u001b[0mparams\u001b[0m\u001b[1;33m)\u001b[0m\u001b[1;33m\u001b[0m\u001b[1;33m\u001b[0m\u001b[0m\n\u001b[0;32m    423\u001b[0m         \u001b[1;32mif\u001b[0m \u001b[0mresponse\u001b[0m\u001b[1;33m:\u001b[0m\u001b[1;33m\u001b[0m\u001b[1;33m\u001b[0m\u001b[0m\n\u001b[1;32m--> 424\u001b[1;33m             \u001b[0mself\u001b[0m\u001b[1;33m.\u001b[0m\u001b[0merror_handler\u001b[0m\u001b[1;33m.\u001b[0m\u001b[0mcheck_response\u001b[0m\u001b[1;33m(\u001b[0m\u001b[0mresponse\u001b[0m\u001b[1;33m)\u001b[0m\u001b[1;33m\u001b[0m\u001b[1;33m\u001b[0m\u001b[0m\n\u001b[0m\u001b[0;32m    425\u001b[0m             response['value'] = self._unwrap_value(\n\u001b[0;32m    426\u001b[0m                 response.get('value', None))\n",
      "\u001b[1;32m~\\anaconda3\\envs\\fencing_viz\\lib\\site-packages\\selenium\\webdriver\\remote\\errorhandler.py\u001b[0m in \u001b[0;36mcheck_response\u001b[1;34m(self, response)\u001b[0m\n\u001b[0;32m    245\u001b[0m                 \u001b[0malert_text\u001b[0m \u001b[1;33m=\u001b[0m \u001b[0mvalue\u001b[0m\u001b[1;33m[\u001b[0m\u001b[1;34m'alert'\u001b[0m\u001b[1;33m]\u001b[0m\u001b[1;33m.\u001b[0m\u001b[0mget\u001b[0m\u001b[1;33m(\u001b[0m\u001b[1;34m'text'\u001b[0m\u001b[1;33m)\u001b[0m\u001b[1;33m\u001b[0m\u001b[1;33m\u001b[0m\u001b[0m\n\u001b[0;32m    246\u001b[0m             \u001b[1;32mraise\u001b[0m \u001b[0mexception_class\u001b[0m\u001b[1;33m(\u001b[0m\u001b[0mmessage\u001b[0m\u001b[1;33m,\u001b[0m \u001b[0mscreen\u001b[0m\u001b[1;33m,\u001b[0m \u001b[0mstacktrace\u001b[0m\u001b[1;33m,\u001b[0m \u001b[0malert_text\u001b[0m\u001b[1;33m)\u001b[0m  \u001b[1;31m# type: ignore[call-arg]  # mypy is not smart enough here\u001b[0m\u001b[1;33m\u001b[0m\u001b[1;33m\u001b[0m\u001b[0m\n\u001b[1;32m--> 247\u001b[1;33m         \u001b[1;32mraise\u001b[0m \u001b[0mexception_class\u001b[0m\u001b[1;33m(\u001b[0m\u001b[0mmessage\u001b[0m\u001b[1;33m,\u001b[0m \u001b[0mscreen\u001b[0m\u001b[1;33m,\u001b[0m \u001b[0mstacktrace\u001b[0m\u001b[1;33m)\u001b[0m\u001b[1;33m\u001b[0m\u001b[1;33m\u001b[0m\u001b[0m\n\u001b[0m\u001b[0;32m    248\u001b[0m \u001b[1;33m\u001b[0m\u001b[0m\n\u001b[0;32m    249\u001b[0m     \u001b[1;32mdef\u001b[0m \u001b[0m_value_or_default\u001b[0m\u001b[1;33m(\u001b[0m\u001b[0mself\u001b[0m\u001b[1;33m,\u001b[0m \u001b[0mobj\u001b[0m\u001b[1;33m:\u001b[0m \u001b[0mMapping\u001b[0m\u001b[1;33m[\u001b[0m\u001b[0m_KT\u001b[0m\u001b[1;33m,\u001b[0m \u001b[0m_VT\u001b[0m\u001b[1;33m]\u001b[0m\u001b[1;33m,\u001b[0m \u001b[0mkey\u001b[0m\u001b[1;33m:\u001b[0m \u001b[0m_KT\u001b[0m\u001b[1;33m,\u001b[0m \u001b[0mdefault\u001b[0m\u001b[1;33m:\u001b[0m \u001b[0m_VT\u001b[0m\u001b[1;33m)\u001b[0m \u001b[1;33m->\u001b[0m \u001b[0m_VT\u001b[0m\u001b[1;33m:\u001b[0m\u001b[1;33m\u001b[0m\u001b[1;33m\u001b[0m\u001b[0m\n",
      "\u001b[1;31mElementNotInteractableException\u001b[0m: Message: element not interactable: [object HTMLDivElement] has no size and location\n  (Session info: chrome=97.0.4692.99)\nStacktrace:\nBacktrace:\n\tOrdinal0 [0x00A9FDC3+2555331]\n\tOrdinal0 [0x00A377F1+2127857]\n\tOrdinal0 [0x00932E08+1060360]\n\tOrdinal0 [0x00935524+1070372]\n\tOrdinal0 [0x009353EE+1070062]\n\tOrdinal0 [0x00935650+1070672]\n\tOrdinal0 [0x00963DCF+1261007]\n\tOrdinal0 [0x00963486+1258630]\n\tOrdinal0 [0x0098E69E+1435294]\n\tOrdinal0 [0x00977B0C+1342220]\n\tOrdinal0 [0x009875FA+1406458]\n\tOrdinal0 [0x00977976+1341814]\n\tOrdinal0 [0x009536B6+1193654]\n\tOrdinal0 [0x00954546+1197382]\n\tGetHandleVerifier [0x00C39622+1619522]\n\tGetHandleVerifier [0x00CE882C+2336844]\n\tGetHandleVerifier [0x00B323E1+541697]\n\tGetHandleVerifier [0x00B31443+537699]\n\tOrdinal0 [0x00A3D18E+2150798]\n\tOrdinal0 [0x00A41518+2168088]\n\tOrdinal0 [0x00A41660+2168416]\n\tOrdinal0 [0x00A4B330+2208560]\n\tBaseThreadInitThunk [0x75AC5749+25]\n\tRtlGetAppContainerNamedObjectPath [0x7752A0D0+288]\n\tRtlGetAppContainerNamedObjectPath [0x7752A09E+238]\n"
     ]
    }
   ],
   "source": [
    "next_button = driver.find_element_by_xpath(\"//div[@class='Tableau-container']/div[@class='Tableau-directionSquare Tableau-directionSquare--next']/div[@class='Tableau-direction Tableau-direction--next Tableau-direction--square']\")\n",
    "driver.implicitly_wait(10)\n",
    "ActionChains(driver).move_to_element(next_button).click(next_button).perform()"
   ]
  },
  {
   "cell_type": "code",
   "execution_count": 18,
   "metadata": {},
   "outputs": [],
   "source": [
    "driver.find_elements_by_xpath(\"//div[@class='Tableau-elimination Tableau-elimination--{r} Tableau-elimination--{s} Tableau-elimination--visible-{i}']/div[@class='Tableau-round']/div[@class='Tableau-fencers']/div[@class='Tableau-fencer']\")"
   ]
  },
  {
   "cell_type": "code",
   "execution_count": 31,
   "metadata": {},
   "outputs": [],
   "source": [
    "next_button = driver.find_elements_by_xpath(\"//div[@class='Tableau-container']/div[@class='Tableau-directionSquare Tableau-directionSquare--next']/div[@class='Tableau-direction Tableau-direction--next Tableau-direction--square']\")\n",
    "driver.implicitly_wait(10)\n",
    "ActionChains(driver).move_to_element(next_button[1]).click(next_button[1]).perform()"
   ]
  },
  {
   "cell_type": "code",
   "execution_count": 19,
   "metadata": {},
   "outputs": [],
   "source": [
    "def add_to_db(bout, cursor, tournament, check = True):\n",
    "    #Bout elemen composed of fencer \\n country\\n score\n",
    "    #Check if fencer in database and add if not\n",
    "    #add bout and score \n",
    "    names = []\n",
    "    scores = []\n",
    "    for fencer in bout:\n",
    "        fencer = fencer.split('\\n')\n",
    "        name = fencer[0].split(' ')\n",
    "        last_name = ''.join([name[0][0], name[0][1:].lower()])\n",
    "        first_name = name[1]\n",
    "        full_name = ''.join([first_name, ' ', last_name])\n",
    "        country = fencer[1]\n",
    "        score = fencer[2]\n",
    "        cursor.execute(\"SELECT EXISTS(SELECT 1 FROM fencers WHERE name = (?))\", (full_name,))\n",
    "        exists = cursor.fetchall()[0][0]\n",
    "        if exists == 0 and check:\n",
    "            cursor.execute(\"INSERT INTO fencers VALUES (?,?)\", (full_name, country))\n",
    "        names.append(full_name)\n",
    "        scores.append(score)\n",
    "    cursor.execute(\"insert into bouts (tournament_name, win_fencer, lose_fencer, win_score, lose_score) values (?, ?, ?, ?, ?)\", (tournament, names[0], names[1], scores[0], scores[1]))\n",
    "\n",
    "    #[print(item) for item in bout]\n",
    "\n",
    "add_to_db(bouts[0], cursor, 'Bern_2021')"
   ]
  },
  {
   "cell_type": "code",
   "execution_count": 76,
   "metadata": {},
   "outputs": [
    {
     "data": {
      "text/plain": [
       "[('DI VEROLI Davide\\nITA\\n14', 'SANTARELLI Andrea\\nITA\\n13'),\n",
       " ('RAMIREZ Yeisser\\nUSA\\n15', 'BANYAI Zsombor\\nHUN\\n14'),\n",
       " ('ELKORD Houssam\\nMAR\\n11', 'DILIBERTO Luca\\nITA\\n9'),\n",
       " ('TULEN Tristan\\nNED\\n15', 'CIMINI Gabriele\\nITA\\n9'),\n",
       " ('ANOKHIN Vadim\\nRUS\\n15', 'ALEXANIN Dmitriy\\nKAZ\\n10'),\n",
       " ('YU Lefan\\nCHN\\n15', 'AN Sung Ho\\nKOR\\n14'),\n",
       " ('GLAZKOV Nikita\\nRUS\\n15', 'LAN Minghao\\nCHN\\n11'),\n",
       " ('SIKLOSI Gergely\\nHUN\\n15', 'FEROT Francois Xavier\\nBEL\\n11'),\n",
       " ('BELLMANN Lukas\\nGER\\n9', 'VERWIJLEN Bas\\nNED\\n8'),\n",
       " ('LUGONES RUGGERI Jesus Andres\\nARG\\n13', 'LIMARDO Francisco\\nVEN\\n12'),\n",
       " ('ANDRASFI Tibor\\nHUN\\n15', 'VUORINEN Niko\\nFIN\\n10'),\n",
       " ('PETERDI Andras\\nHUN\\n15', 'HOYLE Jacob\\nUSA\\n6'),\n",
       " ('LIMARDO GASCON Ruben\\nVEN\\n8', 'NAGY David\\nHUN\\n7'),\n",
       " ('REIN Stephan\\nGER\\n15', 'FREILICH Yuval Shalom\\nISR\\n8'),\n",
       " ('KUROCHKIN Andrey\\nRUS\\n15', 'SAKAMOTO Keisuke\\nJPN\\n10'),\n",
       " ('SVICHKAR Roman\\nUKR\\n15', 'KANO Koki\\nJPN\\n12'),\n",
       " ('BIDA Sergey\\nRUS\\n15', 'MALCOTTI Lucas\\nSUI\\n11'),\n",
       " ('JORGENSEN Patrick\\nDEN\\n15', 'WENGLARCZYK Jan\\nPOL\\n2'),\n",
       " ('BARDENET Alexandre\\nFRA\\n15', 'STANKEVYCH Volodymyr\\nUKR\\n7'),\n",
       " ('FICHERA Marco\\nITA\\n15', 'YAMADA Masaru\\nJPN\\n8'),\n",
       " ('PEREIRA Yulen\\nESP\\n15', 'BERAN Jiri\\nCZE\\n11'),\n",
       " ('KURBANOV Ruslan\\nKAZ\\n15', 'ELSAYED Mohamed\\nEGY\\n5'),\n",
       " ('GUSTIN Ronan\\nFRA\\n15', 'KAULL James\\nUSA\\n9'),\n",
       " ('NIKISHIN Bogdan\\nUKR\\n15', 'UYAMA Satoru\\nJPN\\n11'),\n",
       " ('BOREL Yannick\\nFRA\\n15', 'ZAWROTNIAK Radoslaw\\nPOL\\n14'),\n",
       " ('HEREY Anatolii\\nUKR\\n15', 'VISMARA Federico\\nITA\\n6'),\n",
       " ('BUZZI Lorenzo\\nITA\\n15', 'WANG Zijie\\nCHN\\n11'),\n",
       " ('PARK Sangyoung\\nKOR\\n15', 'FONG Hoi Sun\\nHKG\\n12'),\n",
       " ('HEINZER Max\\nSUI\\n15', 'MEDVEDIEV Vitalii\\nUKR\\n10'),\n",
       " ('CANNONE Romain\\nFRA\\n15', 'GIANNOTTE Flavio\\nLUX\\n14'),\n",
       " ('REIZLIN Igor\\nUKR\\n15', 'SOMFAI Peter\\nHUN\\n14'),\n",
       " ('MA Segeon\\nKOR\\n11', 'MINOBE Kazuyasu\\nJPN\\n10'),\n",
       " ('DI VEROLI Davide\\nITA\\n15', 'RAMIREZ Yeisser\\nUSA\\n11'),\n",
       " ('ELKORD Houssam\\nMAR\\n15', 'TULEN Tristan\\nNED\\n14'),\n",
       " ('ANOKHIN Vadim\\nRUS\\n13', 'YU Lefan\\nCHN\\n9'),\n",
       " ('GLAZKOV Nikita\\nRUS\\n15', 'SIKLOSI Gergely\\nHUN\\n12'),\n",
       " ('LUGONES RUGGERI Jesus Andres\\nARG\\n15', 'BELLMANN Lukas\\nGER\\n9'),\n",
       " ('ANDRASFI Tibor\\nHUN\\n15', 'PETERDI Andras\\nHUN\\n12'),\n",
       " ('LIMARDO GASCON Ruben\\nVEN\\n9', 'REIN Stephan\\nGER\\n8'),\n",
       " ('SVICHKAR Roman\\nUKR\\n15', 'KUROCHKIN Andrey\\nRUS\\n10'),\n",
       " ('BIDA Sergey\\nRUS\\n15', 'JORGENSEN Patrick\\nDEN\\n14'),\n",
       " ('BARDENET Alexandre\\nFRA\\n15', 'FICHERA Marco\\nITA\\n12'),\n",
       " ('PEREIRA Yulen\\nESP\\n13', 'KURBANOV Ruslan\\nKAZ\\n12'),\n",
       " ('NIKISHIN Bogdan\\nUKR\\n15', 'GUSTIN Ronan\\nFRA\\n7'),\n",
       " ('BOREL Yannick\\nFRA\\n15', 'HEREY Anatolii\\nUKR\\n13'),\n",
       " ('PARK Sangyoung\\nKOR\\n15', 'BUZZI Lorenzo\\nITA\\n9'),\n",
       " ('CANNONE Romain\\nFRA\\n15', 'HEINZER Max\\nSUI\\n11'),\n",
       " ('REIZLIN Igor\\nUKR\\n15', 'MA Segeon\\nKOR\\n9'),\n",
       " ('ELKORD Houssam\\nMAR\\n15', 'DI VEROLI Davide\\nITA\\n12'),\n",
       " ('ANOKHIN Vadim\\nRUS\\n15', 'GLAZKOV Nikita\\nRUS\\n9'),\n",
       " ('ANDRASFI Tibor\\nHUN\\n15', 'LUGONES RUGGERI Jesus Andres\\nARG\\n9'),\n",
       " ('SVICHKAR Roman\\nUKR\\n15', 'LIMARDO GASCON Ruben\\nVEN\\n11'),\n",
       " ('BARDENET Alexandre\\nFRA\\n15', 'BIDA Sergey\\nRUS\\n4'),\n",
       " ('NIKISHIN Bogdan\\nUKR\\n15', 'PEREIRA Yulen\\nESP\\n9'),\n",
       " ('BOREL Yannick\\nFRA\\n15', 'PARK Sangyoung\\nKOR\\n13'),\n",
       " ('REIZLIN Igor\\nUKR\\n15', 'CANNONE Romain\\nFRA\\n12'),\n",
       " ('ANOKHIN Vadim\\nRUS\\n15', 'ELKORD Houssam\\nMAR\\n5'),\n",
       " ('SVICHKAR Roman\\nUKR\\n15', 'ANDRASFI Tibor\\nHUN\\n11'),\n",
       " ('BARDENET Alexandre\\nFRA\\n15', 'NIKISHIN Bogdan\\nUKR\\n12'),\n",
       " ('REIZLIN Igor\\nUKR\\n15', 'BOREL Yannick\\nFRA\\n12'),\n",
       " ('ANOKHIN Vadim\\nRUS\\n15', 'SVICHKAR Roman\\nUKR\\n8'),\n",
       " ('REIZLIN Igor\\nUKR\\n15', 'BARDENET Alexandre\\nFRA\\n10'),\n",
       " ('REIZLIN Igor\\nUKR\\n11', 'ANOKHIN Vadim\\nRUS\\n10')]"
      ]
     },
     "execution_count": 76,
     "metadata": {},
     "output_type": "execute_result"
    }
   ],
   "source": [
    "bouts"
   ]
  },
  {
   "cell_type": "code",
   "execution_count": 28,
   "metadata": {},
   "outputs": [
    {
     "name": "stderr",
     "output_type": "stream",
     "text": [
      "C:\\Users\\liamc\\AppData\\Local\\Temp/ipykernel_30704/4267412848.py:2: DeprecationWarning: find_element_by_* commands are deprecated. Please use find_element() instead\n",
      "  win_fencer = driver.find_element_by_xpath(f\"/html[@class='wf-franklingothicurw-n4-active wf-franklingothicurw-n5-active wf-franklingothicurw-n7-active wf-futurapt-n7-active wf-active']/body/div[@class='Section Section--pt-lg Section--pb-lg']/div[@class='Container Container--wider']/div[@class='Tabs Tabs--xl js-tabs']/div[@class='Tabs-itemsWrapper']/div[@class='Tabs-item js-tabs-item is-active']/div[@class='CompetitionContent']/div[@class='Subtabs Subtabs--xl js-subtabs']/div[@class='Subtabs-item js-subtabs-item is-active']/div[@class='Tableau-wrapper js-tableau']/div[@class='Tableau']/div[@class='Tableau-container']/div[@class='Tableau-elimination Tableau-elimination--64 Tableau-elimination--small Tableau-elimination--visible-2']/div[@class='Tableau-round'][{i}]/div[@class='Tableau-fencers']/div[@class='Tableau-fencer']/div[@class='Tableau-fencerName']\")\n"
     ]
    },
    {
     "data": {
      "text/plain": [
       "'LEE Seunghyun'"
      ]
     },
     "execution_count": 28,
     "metadata": {},
     "output_type": "execute_result"
    }
   ],
   "source": [
    "i = 1\n",
    "win_fencer = driver.find_element_by_xpath(f\"/html[@class='wf-franklingothicurw-n4-active wf-franklingothicurw-n5-active wf-franklingothicurw-n7-active wf-futurapt-n7-active wf-active']/body/div[@class='Section Section--pt-lg Section--pb-lg']/div[@class='Container Container--wider']/div[@class='Tabs Tabs--xl js-tabs']/div[@class='Tabs-itemsWrapper']/div[@class='Tabs-item js-tabs-item is-active']/div[@class='CompetitionContent']/div[@class='Subtabs Subtabs--xl js-subtabs']/div[@class='Subtabs-item js-subtabs-item is-active']/div[@class='Tableau-wrapper js-tableau']/div[@class='Tableau']/div[@class='Tableau-container']/div[@class='Tableau-elimination Tableau-elimination--64 Tableau-elimination--small Tableau-elimination--visible-2']/div[@class='Tableau-round'][{i}]/div[@class='Tableau-fencers']/div[@class='Tableau-fencer']/div[@class='Tableau-fencerName']\")\n",
    "win_fencer.text"
   ]
  },
  {
   "cell_type": "code",
   "execution_count": 21,
   "metadata": {},
   "outputs": [
    {
     "name": "stderr",
     "output_type": "stream",
     "text": [
      "C:\\Users\\liamc\\AppData\\Local\\Temp/ipykernel_30704/2079491154.py:1: DeprecationWarning: find_elements_by_* commands are deprecated. Please use find_elements() instead\n",
      "  r64 = driver.find_elements_by_xpath(\"/html[@class='wf-franklingothicurw-n4-active wf-franklingothicurw-n5-active wf-franklingothicurw-n7-active wf-futurapt-n7-active wf-active']/body/div[@class='Section Section--pt-lg Section--pb-lg']/div[@class='Container Container--wider']/div[@class='Tabs Tabs--xl js-tabs']/div[@class='Tabs-itemsWrapper']/div[@class='Tabs-item js-tabs-item is-active']/div[@class='CompetitionContent']/div[@class='Subtabs Subtabs--xl js-subtabs']/div[@class='Subtabs-item js-subtabs-item is-active']/div[@class='Tableau-wrapper js-tableau']/div[@class='Tableau']/div[@class='Tableau-container']/div[@class='Tableau-elimination Tableau-elimination--64 Tableau-elimination--small Tableau-elimination--visible-2']/div[@class='Tableau-round'][1]/div[@class='Tableau-fencers']/div[@class='Tableau-fencer Tableau-fencer--defeated']\")\n"
     ]
    }
   ],
   "source": [
    "r64 = driver.find_elements_by_xpath(\"/html[@class='wf-franklingothicurw-n4-active wf-franklingothicurw-n5-active wf-franklingothicurw-n7-active wf-futurapt-n7-active wf-active']/body/div[@class='Section Section--pt-lg Section--pb-lg']/div[@class='Container Container--wider']/div[@class='Tabs Tabs--xl js-tabs']/div[@class='Tabs-itemsWrapper']/div[@class='Tabs-item js-tabs-item is-active']/div[@class='CompetitionContent']/div[@class='Subtabs Subtabs--xl js-subtabs']/div[@class='Subtabs-item js-subtabs-item is-active']/div[@class='Tableau-wrapper js-tableau']/div[@class='Tableau']/div[@class='Tableau-container']/div[@class='Tableau-elimination Tableau-elimination--64 Tableau-elimination--small Tableau-elimination--visible-2']/div[@class='Tableau-round'][1]/div[@class='Tableau-fencers']/div[@class='Tableau-fencer Tableau-fencer--defeated']\")"
   ]
  },
  {
   "cell_type": "code",
   "execution_count": 23,
   "metadata": {},
   "outputs": [
    {
     "data": {
      "text/plain": [
       "'YAMADA Masaru\\nJPN\\n14'"
      ]
     },
     "execution_count": 23,
     "metadata": {},
     "output_type": "execute_result"
    }
   ],
   "source": [
    "r64[0].text"
   ]
  },
  {
   "cell_type": "code",
   "execution_count": 3,
   "metadata": {},
   "outputs": [],
   "source": [
    "def find_world_cups():\n",
    "#Goes to tags with class Coupe du Monde, these will have video with them usually, returns list of elements withd desired text\n",
    "    elements = driver.find_elements_by_partial_link_text('Coupe du Monde')\n",
    "    driver.implicitly_wait(10)\n",
    "    return elements\n",
    "\n",
    "\n",
    "\n",
    "\n"
   ]
  },
  {
   "cell_type": "markdown",
   "metadata": {},
   "source": [
    "# Bringing it all together"
   ]
  },
  {
   "cell_type": "code",
   "execution_count": 2,
   "metadata": {},
   "outputs": [],
   "source": [
    "from app.models import Tournament, Bout, Fencer\n",
    "from app.database import SessionLocal, engine, Base\n",
    "import datetime"
   ]
  },
  {
   "cell_type": "code",
   "execution_count": 5,
   "metadata": {},
   "outputs": [],
   "source": [
    "Base.metadata.drop_all(engine)\n",
    "Base.metadata.create_all(engine)"
   ]
  },
  {
   "cell_type": "code",
   "execution_count": 24,
   "metadata": {},
   "outputs": [],
   "source": [
    "def get_links():\n",
    "    links_1 = driver.find_elements_by_xpath(\"//section[@class='athletes-rankings-table results-competitions-table']/section[@class='statistics-table']/div[@class='container small']/div[@class='row']/div[@class='col-xs-12 js-competitions-grid']/div[@class='table-parent']/table[@class='table']/a[@class='Table-row Table-row--hover CompetitionsTable-row CompetitionsTable-row--borderBottom']\")\n",
    "    driver.implicitly_wait(10)\n",
    "    results_2 = driver.find_elements_by_xpath(\"//div[@class='row']/div[@class='col-xs-12 js-competitions-grid']/div[@class='table-parent']/table[@class='table']/a[@class='Table-row Table-row--hover CompetitionsTable-row CompetitionsTable-row--borderBottom CompetitionsTable-row--even']/td[8]\")\n",
    "    driver.implicitly_wait(10)\n",
    "    links_2 = driver.find_elements_by_xpath(\"//section[@class='athletes-rankings-table results-competitions-table']/section[@class='statistics-table']/div[@class='container small']/div[@class='row']/div[@class='col-xs-12 js-competitions-grid']/div[@class='table-parent']/table[@class='table']/a[@class='Table-row Table-row--hover CompetitionsTable-row CompetitionsTable-row--borderBottom CompetitionsTable-row--even']\")\n",
    "    driver.implicitly_wait(10)\n",
    "    results_1 = driver.find_elements_by_xpath(\"//div[@class='row']/div[@class='col-xs-12 js-competitions-grid']/div[@class='table-parent']/table[@class='table']/a[@class='Table-row Table-row--hover CompetitionsTable-row CompetitionsTable-row--borderBottom']/td[8]\")\n",
    "    driver.implicitly_wait(10)\n",
    "    results_1.extend(results_2)\n",
    "    results = [result.text for result in results_1]\n",
    "    print(results)\n",
    "    links_1.extend(links_2)\n",
    "    hrefs = [link.get_attribute('href') for link, res in zip(links_1, results) if res == 'Results']\n",
    "    return hrefs"
   ]
  },
  {
   "cell_type": "code",
   "execution_count": 25,
   "metadata": {},
   "outputs": [],
   "source": [
    "\n",
    "def criterion():\n",
    "    #Desired tournament types, mens, epee, individual\n",
    "    #Checks Desired Conditions, eventIndividual box checked when window small\n",
    "    #other boxes checked when window maximized\n",
    "    element = driver.find_element_by_id('eventIndividual')\n",
    "    driver.implicitly_wait(10)\n",
    "    ActionChains(driver).move_to_element(element).click(element).perform()\n",
    "    driver.maximize_window()\n",
    "    ids = ['weaponEpee', 'genderMen']\n",
    "\n",
    "    for id in ids:\n",
    "\n",
    "        element = driver.find_element_by_id(id)\n",
    "        driver.implicitly_wait(10)\n",
    "        ActionChains(driver).move_to_element(element).click(element).perform()\n",
    "\n",
    "    select = Select(driver.find_element_by_id('ageCategory'))\n",
    "    select.select_by_value('s')\n",
    "    submit = driver.find_element_by_class_name('check-container')\n",
    "    driver.implicitly_wait(10)\n",
    "    ActionChains(driver).move_to_element(submit).click(submit).perform()\n",
    "\n",
    "def filters(weapon, age_cat, comp_type, gender, team = False):\n",
    "    #event: 1 == epee, 2 == foil, 3 == sabre\n",
    "    weapon_button = driver.find_element_by_xpath(f\"//div[@class='row']/div[@class='col-xs-12'][2]/form[@class='js-comp-form-search']/div[@class='filter-wrapper']/div[@class='sub-row']/div[@class='checkbox-row Search-options Search-options--open']/div[@class='indicators'][1]/label[{weapon}]/i\")\n",
    "    driver.implicitly_wait(10)\n",
    "    ActionChains(driver).move_to_element(weapon_button).click(weapon_button).perform()\n",
    "\n",
    "    team_button = driver.find_element_by_xpath(f\"//div[@class='row']/div[@class='col-xs-12'][2]/form[@class='js-comp-form-search']/div[@class='filter-wrapper']/div[@class='sub-row']/div[@class='checkbox-row Search-options Search-options--open']/div[@class='indicators'][2]/label[{2 if team == True else 1}]/i\")\n",
    "    driver.implicitly_wait(10)\n",
    "    ActionChains(driver).move_to_element(team_button).click(team_button).perform()\n",
    "\n",
    "    #1==women 2 == men\n",
    "    gender_button = driver.find_element_by_xpath(f\"//div[@class='row']/div[@class='col-xs-12'][2]/form[@class='js-comp-form-search']/div[@class='filter-wrapper']/div[@class='sub-row']/div[@class='checkbox-row Search-options Search-options--open']/div[@class='indicators'][3]/label[{gender}]/i\")\n",
    "    driver.implicitly_wait(10)\n",
    "    ActionChains(driver).move_to_element(gender_button).click(gender_button).perform()\n",
    "\n",
    "    #JO == Olympics, CHM == world championships, GP == Grand Prix, A == World Cup, SA == Sattelite, CHZ == Zonal Championships, OF == Official, NF == Non Official\n",
    "    type_button = driver.find_element_by_xpath(\"//div[@class='row']/div[@class='col-xs-12'][2]/form[@class='js-comp-form-search']/div[@class='filter-wrapper']/div[@class='sub-row']/div[@class='select-row Search-options Search-options--advanced Search-options--open']/select[@id='competitionType']\")\n",
    "    select = Select(type_button)\n",
    "    select.select_by_value(comp_type)\n",
    "\n",
    "    #Cadet === c, Junior == j, Senior== s, Vets == v\n",
    "    age_button = driver.find_element_by_xpath(\"//div[@class='row']/div[@class='col-xs-12'][2]/form[@class='js-comp-form-search']/div[@class='filter-wrapper']/div[@class='sub-row']/div[@class='select-row Search-options Search-options--advanced Search-options--open']/select[@id='ageCategory']\")\n",
    "    select = Select(age_button)\n",
    "    driver.implicitly_wait(10)\n",
    "    select.select_by_value(age_cat)\n",
    "\n",
    "    submit = driver.find_element_by_xpath(\"//div[@class='row']/div[@class='col-xs-12'][2]/form[@class='js-comp-form-search']/div[@class='filter-wrapper']/div[@class='top-row']/div[@class='row']/div[@class='col-xs-12 col-md-8']/div[@class='search-row']/div[@class='check-container']/input\")\n",
    "    time.sleep(5)\n",
    "    ActionChains(driver).move_to_element(submit).click(submit).perform()"
   ]
  },
  {
   "cell_type": "code",
   "execution_count": 26,
   "metadata": {},
   "outputs": [],
   "source": [
    "# Select Results tab\n",
    "def to_tableue():\n",
    "    results = driver.find_element_by_xpath(\"//div[@id='results']/div[@class='Tabs-nav-link js-tabs-nav-link']\")\n",
    "    driver.implicitly_wait(10)\n",
    "    ActionChains(driver).move_to_element(results).click(results).perform()\n",
    "    #navigate to round of 64 tableu\n",
    "    tab_items = driver.find_elements_by_xpath(\"//div[@class='Subtabs-nav-items Subtabs-nav-items--centered']/div[@class='Subtabs-nav-item js-subtabs-nav-item']\")\n",
    "    driver.implicitly_wait(10)\n",
    "    tab_labels = [tab_item.text for tab_item in tab_items]\n",
    "    if 'Tableau' in tab_labels:\n",
    "        ind = tab_labels.index('Tableau')\n",
    "        button = tab_items[ind]\n",
    "        ActionChains(driver).move_to_element(button).click(button).perform()\n",
    "        success = True\n",
    "    else: success = False\n",
    "    return success\n",
    "    \n",
    "\n",
    "    # ActionChains(driver).move_to_element(tableu[3]).click(tableu[3]).perform()"
   ]
  },
  {
   "cell_type": "code",
   "execution_count": 11,
   "metadata": {},
   "outputs": [],
   "source": [
    "\n",
    "def parse_tableue():\n",
    "\n",
    "    size = ['small', 'medium', 'medium', 'big', 'big', 'big']\n",
    "    rnd = ['64', '32', '16', '8', '4', '2']\n",
    "    nums = [\"2\", \"1\", \"0\"]*2\n",
    "    bouts = []\n",
    "    for i, s, r in zip(nums, size, rnd):\n",
    "        win = driver.find_elements_by_xpath(f\"//div[@class='Tableau-elimination Tableau-elimination--{r} Tableau-elimination--{s} Tableau-elimination--visible-{i}']/div[@class='Tableau-round']/div[@class='Tableau-fencers']/div[@class='Tableau-fencer']\")\n",
    "        driver.implicitly_wait(10)\n",
    "        lose = driver.find_elements_by_xpath(f\"//div[@class='Tableau-elimination Tableau-elimination--{r} Tableau-elimination--{s} Tableau-elimination--visible-{i}']/div[@class='Tableau-round']/div[@class='Tableau-fencers']/div[@class='Tableau-fencer Tableau-fencer--defeated']\")\n",
    "        driver.implicitly_wait(10)\n",
    "        for w_f, l_f in zip(win, lose):\n",
    "            bouts.append((w_f.text, l_f.text))\n",
    "        if int(i) == 0:\n",
    "            for i in range(3): \n",
    "                next_button = driver.find_elements_by_xpath(\"//div[@class='Tableau-container']/div[@class='Tableau-directionSquare Tableau-directionSquare--next']/div[@class='Tableau-direction Tableau-direction--next Tableau-direction--square']\")\n",
    "                driver.implicitly_wait(10)\n",
    "                ActionChains(driver).move_to_element(next_button[1]).click(next_button[1]).perform()\n",
    "    return bouts\n",
    "\n",
    "\n",
    "\n",
    "\n",
    "\n",
    "\n",
    "\n",
    "        "
   ]
  },
  {
   "cell_type": "code",
   "execution_count": 27,
   "metadata": {},
   "outputs": [],
   "source": [
    "def tournament_metadata():\n",
    "    month_to_num = {\n",
    "        'Jan':1, \n",
    "        'Feb':2,\n",
    "        'Mar':3,\n",
    "        'Apr':4,\n",
    "        'May':5,\n",
    "        'Jun':6,\n",
    "        'Jul':7,\n",
    "        'Aug':8,\n",
    "        'Sep':9,\n",
    "        'Oct':10,\n",
    "        'Nov':11,\n",
    "        'Dec':12,\n",
    "        }\n",
    "    date = driver.find_element_by_xpath(\"//span[@class='CompetitionHero-date']\")\n",
    "    driver.implicitly_wait(10)\n",
    "    city = driver.find_element_by_xpath(\"//div[@class='Overview-section']/div[@class='Overview-group'][1]/div[@class='Table-country Overview-country Overview-label--dark']/span[@class='Overview-country-name']\")\n",
    "    driver.implicitly_wait(10)\n",
    "    country = driver.find_element_by_xpath(\"//div[@class='Overview-section']/div[@class='Overview-group'][2]/div[@class='Table-country Overview-country Overview-label--dark']/span[@class='Overview-country-name']\")\n",
    "    driver.implicitly_wait(10)\n",
    "    country = country.text.split(' ')[0]\n",
    "    city = city.text\n",
    "    date = date.text\n",
    "    date = date.split(' ')\n",
    "    date = datetime.date(int(date[-1]), month_to_num[date[1]], int(date[0]))\n",
    "    \n",
    "    return date, country, city\n"
   ]
  },
  {
   "cell_type": "code",
   "execution_count": 28,
   "metadata": {},
   "outputs": [],
   "source": [
    "def populate_db(bouts, date, country, city):\n",
    "    tournament = Tournament(country=country, city=city, date=date)\n",
    "    fencers = []\n",
    "    with SessionLocal as session, session.begin():\n",
    "        for bout in bouts[:32]:\n",
    "            \n",
    "            rnd = 64\n",
    "            fencer_1, fencer_2 = bout\n",
    "            fencer_1, fencer_2 = fencer_1.split('\\n'), fencer_2.split('\\n')\n",
    "            name_1, name_2 = fencer_1[0].split(' '), fencer_2[0].split(' ')\n",
    "            last_name_1, last_name_2 = ''.join([name_1[0][0], name_1[0][1:].lower()]), ''.join([name_2[0][0], name_2[0][1:].lower()])\n",
    "            first_name_1, first_name_2 = name_1[1], name_2[1]\n",
    "            country_1, country_2 = fencer_1[1], fencer_2[1]\n",
    "            score_1, score_2 = fencer_1[2], fencer_2[2]\n",
    "            f1 = session.query(Fencer).filter_by(first_name = first_name_1).filter_by(last_name=last_name_1).first()\n",
    "            if not f1:\n",
    "                f1 = Fencer(first_name = first_name_1, last_name = last_name_1, country = country_1)\n",
    "                session.add(f1)\n",
    "            f2 = session.query(Fencer).filter_by(first_name = first_name_2).filter_by(last_name=last_name_2).first()\n",
    "            if not f2:\n",
    "                f2 = Fencer(first_name = first_name_2, last_name = last_name_2, country = country_2)\n",
    "                session.add(f2)\n",
    "            fencers.extend([f1, f2])\n",
    "            local_bout = Bout(fencer_1_score= score_1, fencer_2_score=score_2, rnd = rnd)\n",
    "            session.add(local_bout)\n",
    "            local_bout.fencers.extend([f1, f2])\n",
    "            tournament.bouts.append(local_bout)        \n",
    "\n",
    "        for bout in bouts[32:48]:\n",
    "            \n",
    "            rnd = 32\n",
    "            fencer_1, fencer_2 = bout\n",
    "            fencer_1, fencer_2 = fencer_1.split('\\n'), fencer_2.split('\\n')\n",
    "            name_1, name_2 = fencer_1[0].split(' '), fencer_2[0].split(' ')\n",
    "            last_name_1, last_name_2 = ''.join([name_1[0][0], name_1[0][1:].lower()]), ''.join([name_2[0][0], name_2[0][1:].lower()])\n",
    "            first_name_1, first_name_2 = name_1[1], name_2[1]\n",
    "            country_1, country_2 = fencer_1[1], fencer_2[1]\n",
    "            score_1, score_2 = fencer_1[2], fencer_2[2]\n",
    "            f1 = session.query(Fencer).filter_by(first_name = first_name_1).filter_by(last_name = last_name_1).first()         \n",
    "            f2 = session.query(Fencer).filter_by(first_name = first_name_2).filter_by(last_name = last_name_2).first()           \n",
    "            fencers.extend([f1, f2])\n",
    "            local_bout = Bout(fencer_1_score= score_1, fencer_2_score=score_2, rnd = rnd)\n",
    "            session.add(local_bout)\n",
    "            local_bout.fencers.extend([f1, f2])\n",
    "            tournament.bouts.append(local_bout)\n",
    "\n",
    "        for bout in bouts[48:56]:\n",
    "            \n",
    "            rnd=16\n",
    "            fencer_1, fencer_2 = bout\n",
    "            fencer_1, fencer_2 = fencer_1.split('\\n'), fencer_2.split('\\n')\n",
    "            name_1, name_2 = fencer_1[0].split(' '), fencer_2[0].split(' ')\n",
    "            last_name_1, last_name_2 = ''.join([name_1[0][0], name_1[0][1:].lower()]), ''.join([name_2[0][0], name_2[0][1:].lower()])\n",
    "            first_name_1, first_name_2 = name_1[1], name_2[1]\n",
    "            country_1, country_2 = fencer_1[1], fencer_2[1]\n",
    "            score_1, score_2 = fencer_1[2], fencer_2[2]\n",
    "            f1 = session.query(Fencer).filter_by(first_name = first_name_1).filter_by(last_name = last_name_1).first()         \n",
    "            f2 = session.query(Fencer).filter_by(first_name = first_name_2).filter_by(last_name = last_name_2).first()           \n",
    "            fencers.extend([f1, f2])\n",
    "            local_bout = Bout(fencer_1_score= score_1, fencer_2_score=score_2, rnd = rnd)\n",
    "            session.add(local_bout)\n",
    "            local_bout.fencers.extend([f1, f2])\n",
    "            tournament.bouts.append(local_bout)\n",
    "\n",
    "        for bout in bouts[56:60]:\n",
    "            rnd = 8\n",
    "            fencer_1, fencer_2 = bout\n",
    "            fencer_1, fencer_2 = fencer_1.split('\\n'), fencer_2.split('\\n')\n",
    "            name_1, name_2 = fencer_1[0].split(' '), fencer_2[0].split(' ')\n",
    "            last_name_1, last_name_2 = ''.join([name_1[0][0], name_1[0][1:].lower()]), ''.join([name_2[0][0], name_2[0][1:].lower()])\n",
    "            first_name_1, first_name_2 = name_1[1], name_2[1]\n",
    "            country_1, country_2 = fencer_1[1], fencer_2[1]\n",
    "            score_1, score_2 = fencer_1[2], fencer_2[2]\n",
    "            f1 = session.query(Fencer).filter_by(first_name = first_name_1).filter_by(last_name = last_name_1).first()         \n",
    "            f2 = session.query(Fencer).filter_by(first_name = first_name_2).filter_by(last_name = last_name_2).first()           \n",
    "            fencers.extend([f1, f2])\n",
    "            session.add(f1)\n",
    "            session.add(f2)\n",
    "            local_bout = Bout(fencer_1_score= score_1, fencer_2_score=score_2, rnd = rnd)\n",
    "            session.add(local_bout)\n",
    "            local_bout.fencers.extend([f1, f2])\n",
    "            tournament.bouts.append(local_bout)\n",
    "\n",
    "        for bout in bouts[60:62]:\n",
    "            \n",
    "            rnd = 4\n",
    "            fencer_1, fencer_2 = bout\n",
    "            fencer_1, fencer_2 = fencer_1.split('\\n'), fencer_2.split('\\n')\n",
    "            name_1, name_2 = fencer_1[0].split(' '), fencer_2[0].split(' ')\n",
    "            last_name_1, last_name_2 = ''.join([name_1[0][0], name_1[0][1:].lower()]), ''.join([name_2[0][0], name_2[0][1:].lower()])\n",
    "            first_name_1, first_name_2 = name_1[1], name_2[1]\n",
    "            country_1, country_2 = fencer_1[1], fencer_2[1]\n",
    "            score_1, score_2 = fencer_1[2], fencer_2[2]\n",
    "            f1 = session.query(Fencer).filter_by(first_name = first_name_1).filter_by(last_name = last_name_1).first()         \n",
    "            f2 = session.query(Fencer).filter_by(first_name = first_name_2).filter_by(last_name = last_name_2).first()           \n",
    "            fencers.extend([f1, f2])\n",
    "            session.add(f1)\n",
    "            session.add(f2)\n",
    "            local_bout = Bout(fencer_1_score= score_1, fencer_2_score=score_2, rnd = rnd)\n",
    "            session.add(local_bout)\n",
    "            local_bout.fencers.extend([f1, f2])\n",
    "            tournament.bouts.append(local_bout) \n",
    "        rnd = 2\n",
    "        fencer_1, fencer_2 = bouts[-1]\n",
    "        fencer_1, fencer_2 = fencer_1.split('\\n'), fencer_2.split('\\n')\n",
    "        name_1, name_2 = fencer_1[0].split(' '), fencer_2[0].split(' ')\n",
    "        last_name_1, last_name_2 = ''.join([name_1[0][0], name_1[0][1:].lower()]), ''.join([name_2[0][0], name_2[0][1:].lower()])\n",
    "        first_name_1, first_name_2 = name_1[1], name_2[1]\n",
    "        country_1, country_2 = fencer_1[1], fencer_2[1]\n",
    "        score_1, score_2 = fencer_1[2], fencer_2[2]\n",
    "        f1 = session.query(Fencer).filter_by(first_name = first_name_1).filter_by(last_name = last_name_1).first()         \n",
    "        f2 = session.query(Fencer).filter_by(first_name = first_name_2).filter_by(last_name = last_name_2).first()           \n",
    "        fencers.extend([f1, f2])\n",
    "        session.add(f1)\n",
    "        session.add(f2)\n",
    "        local_bout = Bout(fencer_1_score= score_1, fencer_2_score=score_2, rnd = rnd)\n",
    "        session.add(local_bout)\n",
    "        local_bout.fencers.extend([f1, f2])\n",
    "        tournament.bouts.append(local_bout) \n",
    "        tournament.fencers.extend(fencers)\n",
    "        \n",
    "        \n",
    "    #argument is an array of bouts from the parse tableue function\n",
    "    #each bout is a tuple with the fencers name, country and the score \n",
    "        "
   ]
  },
  {
   "cell_type": "code",
   "execution_count": 29,
   "metadata": {},
   "outputs": [],
   "source": [
    "def scrape(weapon, age_cat, comp_type, gender, team = False):\n",
    "    consecutive_fails = 0\n",
    "    filters(weapon, age_cat, comp_type, gender, team)\n",
    "    time.sleep(4)\n",
    "    while consecutive_fails < 5:\n",
    "        hrefs = get_links()\n",
    "        for link in hrefs:\n",
    "            #open link \n",
    "            driver.execute_script(f'''window.open(\"{link}\", '_blank')''')\n",
    "            main_window, new_window = driver.window_handles\n",
    "            driver.switch_to.window(new_window)\n",
    "            meta = tournament_metadata()\n",
    "            success = to_tableue()\n",
    "            if success == True:\n",
    "                consecutive_fails = 0\n",
    "                bouts = parse_tableue()\n",
    "                populate_db(bouts, *meta)\n",
    "\n",
    "            else: consecutive_fails += 1\n",
    "\n",
    "            driver.close()\n",
    "            driver.switch_to.window(main_window)\n",
    "        next_button = driver.find_element_by_xpath(\"//div[@class='table-parent']/div[@class='text-center']/ul[@class='pager']/li[7]/a\")\n",
    "        driver.implicitly_wait(10)\n",
    "        ActionChains(driver).move_to_element(next_button).click(next_button).perform()\n"
   ]
  },
  {
   "cell_type": "code",
   "execution_count": 32,
   "metadata": {},
   "outputs": [
    {
     "name": "stderr",
     "output_type": "stream",
     "text": [
      "\n",
      "\n",
      "====== WebDriver manager ======\n",
      "Current google-chrome version is 98.0.4758\n",
      "Get LATEST chromedriver version for 98.0.4758 google-chrome\n",
      "Driver [C:\\Users\\liamc\\.wdm\\drivers\\chromedriver\\win32\\98.0.4758.102\\chromedriver.exe] found in cache\n"
     ]
    }
   ],
   "source": [
    "#Navigate to desired filter and filter\n",
    "service = Service(executable_path=ChromeDriverManager().install())\n",
    "driver = webdriver.Chrome(service = service)\n",
    "driver.get('https://fie.org/competitions')"
   ]
  },
  {
   "cell_type": "code",
   "execution_count": 31,
   "metadata": {},
   "outputs": [
    {
     "name": "stdout",
     "output_type": "stream",
     "text": [
      "['', '', '', '', '', '', '', '', '', '', '', '', '', '', '', '', '', '', '', '']\n",
      "['', '', '', '', '', '', '', '', '', '', '', '', '', '', '', '', '', '', '', '']\n",
      "['', '', '', '', '', '', '', '', '', '', '', '', '', '', '', '', '', '', '', '']\n",
      "['', '', '', '', '', '', '', '', '', '', '', '', '', '', '', '', '', '', '', '']\n",
      "['', '', '', '', '', '', '', '', '', '', '', '', '', '', '', '', '', '', '', '']\n",
      "['', '', '', '', '', '', '', '', '', '', '', '', '', '', '', '', '', '', '', '']\n",
      "['', '', '', '', '', '', '', '', '', '', '', '', '', '', '']\n",
      "['', '', '', '', '', '', '', '', '', '', '', '', '', '', '']\n",
      "['', '', '', '', '', '', '', '', '', '', '', '', '', '', '']\n",
      "['', '', '', '', '', '', '', '', '', '', '', '', '', '', '']\n",
      "['', '', '', '', '', '', '', '', '', '', '', '', '', '', '']\n"
     ]
    },
    {
     "ename": "KeyboardInterrupt",
     "evalue": "",
     "output_type": "error",
     "traceback": [
      "\u001b[1;31m---------------------------------------------------------------------------\u001b[0m",
      "\u001b[1;31mKeyboardInterrupt\u001b[0m                         Traceback (most recent call last)",
      "\u001b[1;32m~\\AppData\\Local\\Temp/ipykernel_7840/3163390473.py\u001b[0m in \u001b[0;36m<module>\u001b[1;34m\u001b[0m\n\u001b[1;32m----> 1\u001b[1;33m \u001b[0mscrape\u001b[0m\u001b[1;33m(\u001b[0m\u001b[1;36m1\u001b[0m\u001b[1;33m,\u001b[0m \u001b[1;34m's'\u001b[0m\u001b[1;33m,\u001b[0m \u001b[1;34m'A'\u001b[0m\u001b[1;33m,\u001b[0m \u001b[1;36m2\u001b[0m\u001b[1;33m)\u001b[0m\u001b[1;33m\u001b[0m\u001b[1;33m\u001b[0m\u001b[0m\n\u001b[0m",
      "\u001b[1;32m~\\AppData\\Local\\Temp/ipykernel_7840/1440360916.py\u001b[0m in \u001b[0;36mscrape\u001b[1;34m(weapon, age_cat, comp_type, gender, team)\u001b[0m\n\u001b[0;32m     23\u001b[0m         \u001b[0mnext_button\u001b[0m \u001b[1;33m=\u001b[0m \u001b[0mdriver\u001b[0m\u001b[1;33m.\u001b[0m\u001b[0mfind_element_by_xpath\u001b[0m\u001b[1;33m(\u001b[0m\u001b[1;34m\"//div[@class='table-parent']/div[@class='text-center']/ul[@class='pager']/li[7]/a\"\u001b[0m\u001b[1;33m)\u001b[0m\u001b[1;33m\u001b[0m\u001b[1;33m\u001b[0m\u001b[0m\n\u001b[0;32m     24\u001b[0m         \u001b[0mdriver\u001b[0m\u001b[1;33m.\u001b[0m\u001b[0mimplicitly_wait\u001b[0m\u001b[1;33m(\u001b[0m\u001b[1;36m10\u001b[0m\u001b[1;33m)\u001b[0m\u001b[1;33m\u001b[0m\u001b[1;33m\u001b[0m\u001b[0m\n\u001b[1;32m---> 25\u001b[1;33m         \u001b[0mActionChains\u001b[0m\u001b[1;33m(\u001b[0m\u001b[0mdriver\u001b[0m\u001b[1;33m)\u001b[0m\u001b[1;33m.\u001b[0m\u001b[0mmove_to_element\u001b[0m\u001b[1;33m(\u001b[0m\u001b[0mnext_button\u001b[0m\u001b[1;33m)\u001b[0m\u001b[1;33m.\u001b[0m\u001b[0mclick\u001b[0m\u001b[1;33m(\u001b[0m\u001b[0mnext_button\u001b[0m\u001b[1;33m)\u001b[0m\u001b[1;33m.\u001b[0m\u001b[0mperform\u001b[0m\u001b[1;33m(\u001b[0m\u001b[1;33m)\u001b[0m\u001b[1;33m\u001b[0m\u001b[1;33m\u001b[0m\u001b[0m\n\u001b[0m",
      "\u001b[1;32m~\\anaconda3\\envs\\fencing_viz\\lib\\site-packages\\selenium\\webdriver\\common\\action_chains.py\u001b[0m in \u001b[0;36mperform\u001b[1;34m(self)\u001b[0m\n\u001b[0;32m     73\u001b[0m         \u001b[0mPerforms\u001b[0m \u001b[0mall\u001b[0m \u001b[0mstored\u001b[0m \u001b[0mactions\u001b[0m\u001b[1;33m.\u001b[0m\u001b[1;33m\u001b[0m\u001b[1;33m\u001b[0m\u001b[0m\n\u001b[0;32m     74\u001b[0m         \"\"\"\n\u001b[1;32m---> 75\u001b[1;33m         \u001b[0mself\u001b[0m\u001b[1;33m.\u001b[0m\u001b[0mw3c_actions\u001b[0m\u001b[1;33m.\u001b[0m\u001b[0mperform\u001b[0m\u001b[1;33m(\u001b[0m\u001b[1;33m)\u001b[0m\u001b[1;33m\u001b[0m\u001b[1;33m\u001b[0m\u001b[0m\n\u001b[0m\u001b[0;32m     76\u001b[0m \u001b[1;33m\u001b[0m\u001b[0m\n\u001b[0;32m     77\u001b[0m     \u001b[1;32mdef\u001b[0m \u001b[0mreset_actions\u001b[0m\u001b[1;33m(\u001b[0m\u001b[0mself\u001b[0m\u001b[1;33m)\u001b[0m\u001b[1;33m:\u001b[0m\u001b[1;33m\u001b[0m\u001b[1;33m\u001b[0m\u001b[0m\n",
      "\u001b[1;32m~\\anaconda3\\envs\\fencing_viz\\lib\\site-packages\\selenium\\webdriver\\common\\actions\\action_builder.py\u001b[0m in \u001b[0;36mperform\u001b[1;34m(self)\u001b[0m\n\u001b[0;32m     75\u001b[0m                 \u001b[0menc\u001b[0m\u001b[1;33m[\u001b[0m\u001b[1;34m\"actions\"\u001b[0m\u001b[1;33m]\u001b[0m\u001b[1;33m.\u001b[0m\u001b[0mappend\u001b[0m\u001b[1;33m(\u001b[0m\u001b[0mencoded\u001b[0m\u001b[1;33m)\u001b[0m\u001b[1;33m\u001b[0m\u001b[1;33m\u001b[0m\u001b[0m\n\u001b[0;32m     76\u001b[0m                 \u001b[0mdevice\u001b[0m\u001b[1;33m.\u001b[0m\u001b[0mactions\u001b[0m \u001b[1;33m=\u001b[0m \u001b[1;33m[\u001b[0m\u001b[1;33m]\u001b[0m\u001b[1;33m\u001b[0m\u001b[1;33m\u001b[0m\u001b[0m\n\u001b[1;32m---> 77\u001b[1;33m         \u001b[0mself\u001b[0m\u001b[1;33m.\u001b[0m\u001b[0mdriver\u001b[0m\u001b[1;33m.\u001b[0m\u001b[0mexecute\u001b[0m\u001b[1;33m(\u001b[0m\u001b[0mCommand\u001b[0m\u001b[1;33m.\u001b[0m\u001b[0mW3C_ACTIONS\u001b[0m\u001b[1;33m,\u001b[0m \u001b[0menc\u001b[0m\u001b[1;33m)\u001b[0m\u001b[1;33m\u001b[0m\u001b[1;33m\u001b[0m\u001b[0m\n\u001b[0m\u001b[0;32m     78\u001b[0m \u001b[1;33m\u001b[0m\u001b[0m\n\u001b[0;32m     79\u001b[0m     \u001b[1;32mdef\u001b[0m \u001b[0mclear_actions\u001b[0m\u001b[1;33m(\u001b[0m\u001b[0mself\u001b[0m\u001b[1;33m)\u001b[0m\u001b[1;33m:\u001b[0m\u001b[1;33m\u001b[0m\u001b[1;33m\u001b[0m\u001b[0m\n",
      "\u001b[1;32m~\\anaconda3\\envs\\fencing_viz\\lib\\site-packages\\selenium\\webdriver\\remote\\webdriver.py\u001b[0m in \u001b[0;36mexecute\u001b[1;34m(self, driver_command, params)\u001b[0m\n\u001b[0;32m    420\u001b[0m \u001b[1;33m\u001b[0m\u001b[0m\n\u001b[0;32m    421\u001b[0m         \u001b[0mparams\u001b[0m \u001b[1;33m=\u001b[0m \u001b[0mself\u001b[0m\u001b[1;33m.\u001b[0m\u001b[0m_wrap_value\u001b[0m\u001b[1;33m(\u001b[0m\u001b[0mparams\u001b[0m\u001b[1;33m)\u001b[0m\u001b[1;33m\u001b[0m\u001b[1;33m\u001b[0m\u001b[0m\n\u001b[1;32m--> 422\u001b[1;33m         \u001b[0mresponse\u001b[0m \u001b[1;33m=\u001b[0m \u001b[0mself\u001b[0m\u001b[1;33m.\u001b[0m\u001b[0mcommand_executor\u001b[0m\u001b[1;33m.\u001b[0m\u001b[0mexecute\u001b[0m\u001b[1;33m(\u001b[0m\u001b[0mdriver_command\u001b[0m\u001b[1;33m,\u001b[0m \u001b[0mparams\u001b[0m\u001b[1;33m)\u001b[0m\u001b[1;33m\u001b[0m\u001b[1;33m\u001b[0m\u001b[0m\n\u001b[0m\u001b[0;32m    423\u001b[0m         \u001b[1;32mif\u001b[0m \u001b[0mresponse\u001b[0m\u001b[1;33m:\u001b[0m\u001b[1;33m\u001b[0m\u001b[1;33m\u001b[0m\u001b[0m\n\u001b[0;32m    424\u001b[0m             \u001b[0mself\u001b[0m\u001b[1;33m.\u001b[0m\u001b[0merror_handler\u001b[0m\u001b[1;33m.\u001b[0m\u001b[0mcheck_response\u001b[0m\u001b[1;33m(\u001b[0m\u001b[0mresponse\u001b[0m\u001b[1;33m)\u001b[0m\u001b[1;33m\u001b[0m\u001b[1;33m\u001b[0m\u001b[0m\n",
      "\u001b[1;32m~\\anaconda3\\envs\\fencing_viz\\lib\\site-packages\\selenium\\webdriver\\remote\\remote_connection.py\u001b[0m in \u001b[0;36mexecute\u001b[1;34m(self, command, params)\u001b[0m\n\u001b[0;32m    419\u001b[0m         \u001b[0mdata\u001b[0m \u001b[1;33m=\u001b[0m \u001b[0mutils\u001b[0m\u001b[1;33m.\u001b[0m\u001b[0mdump_json\u001b[0m\u001b[1;33m(\u001b[0m\u001b[0mparams\u001b[0m\u001b[1;33m)\u001b[0m\u001b[1;33m\u001b[0m\u001b[1;33m\u001b[0m\u001b[0m\n\u001b[0;32m    420\u001b[0m         \u001b[0murl\u001b[0m \u001b[1;33m=\u001b[0m \u001b[1;34mf\"{self._url}{path}\"\u001b[0m\u001b[1;33m\u001b[0m\u001b[1;33m\u001b[0m\u001b[0m\n\u001b[1;32m--> 421\u001b[1;33m         \u001b[1;32mreturn\u001b[0m \u001b[0mself\u001b[0m\u001b[1;33m.\u001b[0m\u001b[0m_request\u001b[0m\u001b[1;33m(\u001b[0m\u001b[0mcommand_info\u001b[0m\u001b[1;33m[\u001b[0m\u001b[1;36m0\u001b[0m\u001b[1;33m]\u001b[0m\u001b[1;33m,\u001b[0m \u001b[0murl\u001b[0m\u001b[1;33m,\u001b[0m \u001b[0mbody\u001b[0m\u001b[1;33m=\u001b[0m\u001b[0mdata\u001b[0m\u001b[1;33m)\u001b[0m\u001b[1;33m\u001b[0m\u001b[1;33m\u001b[0m\u001b[0m\n\u001b[0m\u001b[0;32m    422\u001b[0m \u001b[1;33m\u001b[0m\u001b[0m\n\u001b[0;32m    423\u001b[0m     \u001b[1;32mdef\u001b[0m \u001b[0m_request\u001b[0m\u001b[1;33m(\u001b[0m\u001b[0mself\u001b[0m\u001b[1;33m,\u001b[0m \u001b[0mmethod\u001b[0m\u001b[1;33m,\u001b[0m \u001b[0murl\u001b[0m\u001b[1;33m,\u001b[0m \u001b[0mbody\u001b[0m\u001b[1;33m=\u001b[0m\u001b[1;32mNone\u001b[0m\u001b[1;33m)\u001b[0m\u001b[1;33m:\u001b[0m\u001b[1;33m\u001b[0m\u001b[1;33m\u001b[0m\u001b[0m\n",
      "\u001b[1;32m~\\anaconda3\\envs\\fencing_viz\\lib\\site-packages\\selenium\\webdriver\\remote\\remote_connection.py\u001b[0m in \u001b[0;36m_request\u001b[1;34m(self, method, url, body)\u001b[0m\n\u001b[0;32m    441\u001b[0m \u001b[1;33m\u001b[0m\u001b[0m\n\u001b[0;32m    442\u001b[0m         \u001b[1;32mif\u001b[0m \u001b[0mself\u001b[0m\u001b[1;33m.\u001b[0m\u001b[0mkeep_alive\u001b[0m\u001b[1;33m:\u001b[0m\u001b[1;33m\u001b[0m\u001b[1;33m\u001b[0m\u001b[0m\n\u001b[1;32m--> 443\u001b[1;33m             \u001b[0mresp\u001b[0m \u001b[1;33m=\u001b[0m \u001b[0mself\u001b[0m\u001b[1;33m.\u001b[0m\u001b[0m_conn\u001b[0m\u001b[1;33m.\u001b[0m\u001b[0mrequest\u001b[0m\u001b[1;33m(\u001b[0m\u001b[0mmethod\u001b[0m\u001b[1;33m,\u001b[0m \u001b[0murl\u001b[0m\u001b[1;33m,\u001b[0m \u001b[0mbody\u001b[0m\u001b[1;33m=\u001b[0m\u001b[0mbody\u001b[0m\u001b[1;33m,\u001b[0m \u001b[0mheaders\u001b[0m\u001b[1;33m=\u001b[0m\u001b[0mheaders\u001b[0m\u001b[1;33m)\u001b[0m\u001b[1;33m\u001b[0m\u001b[1;33m\u001b[0m\u001b[0m\n\u001b[0m\u001b[0;32m    444\u001b[0m             \u001b[0mstatuscode\u001b[0m \u001b[1;33m=\u001b[0m \u001b[0mresp\u001b[0m\u001b[1;33m.\u001b[0m\u001b[0mstatus\u001b[0m\u001b[1;33m\u001b[0m\u001b[1;33m\u001b[0m\u001b[0m\n\u001b[0;32m    445\u001b[0m         \u001b[1;32melse\u001b[0m\u001b[1;33m:\u001b[0m\u001b[1;33m\u001b[0m\u001b[1;33m\u001b[0m\u001b[0m\n",
      "\u001b[1;32m~\\anaconda3\\envs\\fencing_viz\\lib\\site-packages\\urllib3\\request.py\u001b[0m in \u001b[0;36mrequest\u001b[1;34m(self, method, url, fields, headers, **urlopen_kw)\u001b[0m\n\u001b[0;32m     76\u001b[0m             )\n\u001b[0;32m     77\u001b[0m         \u001b[1;32melse\u001b[0m\u001b[1;33m:\u001b[0m\u001b[1;33m\u001b[0m\u001b[1;33m\u001b[0m\u001b[0m\n\u001b[1;32m---> 78\u001b[1;33m             return self.request_encode_body(\n\u001b[0m\u001b[0;32m     79\u001b[0m                 \u001b[0mmethod\u001b[0m\u001b[1;33m,\u001b[0m \u001b[0murl\u001b[0m\u001b[1;33m,\u001b[0m \u001b[0mfields\u001b[0m\u001b[1;33m=\u001b[0m\u001b[0mfields\u001b[0m\u001b[1;33m,\u001b[0m \u001b[0mheaders\u001b[0m\u001b[1;33m=\u001b[0m\u001b[0mheaders\u001b[0m\u001b[1;33m,\u001b[0m \u001b[1;33m**\u001b[0m\u001b[0murlopen_kw\u001b[0m\u001b[1;33m\u001b[0m\u001b[1;33m\u001b[0m\u001b[0m\n\u001b[0;32m     80\u001b[0m             )\n",
      "\u001b[1;32m~\\anaconda3\\envs\\fencing_viz\\lib\\site-packages\\urllib3\\request.py\u001b[0m in \u001b[0;36mrequest_encode_body\u001b[1;34m(self, method, url, fields, headers, encode_multipart, multipart_boundary, **urlopen_kw)\u001b[0m\n\u001b[0;32m    168\u001b[0m         \u001b[0mextra_kw\u001b[0m\u001b[1;33m.\u001b[0m\u001b[0mupdate\u001b[0m\u001b[1;33m(\u001b[0m\u001b[0murlopen_kw\u001b[0m\u001b[1;33m)\u001b[0m\u001b[1;33m\u001b[0m\u001b[1;33m\u001b[0m\u001b[0m\n\u001b[0;32m    169\u001b[0m \u001b[1;33m\u001b[0m\u001b[0m\n\u001b[1;32m--> 170\u001b[1;33m         \u001b[1;32mreturn\u001b[0m \u001b[0mself\u001b[0m\u001b[1;33m.\u001b[0m\u001b[0murlopen\u001b[0m\u001b[1;33m(\u001b[0m\u001b[0mmethod\u001b[0m\u001b[1;33m,\u001b[0m \u001b[0murl\u001b[0m\u001b[1;33m,\u001b[0m \u001b[1;33m**\u001b[0m\u001b[0mextra_kw\u001b[0m\u001b[1;33m)\u001b[0m\u001b[1;33m\u001b[0m\u001b[1;33m\u001b[0m\u001b[0m\n\u001b[0m",
      "\u001b[1;32m~\\anaconda3\\envs\\fencing_viz\\lib\\site-packages\\urllib3\\poolmanager.py\u001b[0m in \u001b[0;36murlopen\u001b[1;34m(self, method, url, redirect, **kw)\u001b[0m\n\u001b[0;32m    373\u001b[0m             \u001b[0mresponse\u001b[0m \u001b[1;33m=\u001b[0m \u001b[0mconn\u001b[0m\u001b[1;33m.\u001b[0m\u001b[0murlopen\u001b[0m\u001b[1;33m(\u001b[0m\u001b[0mmethod\u001b[0m\u001b[1;33m,\u001b[0m \u001b[0murl\u001b[0m\u001b[1;33m,\u001b[0m \u001b[1;33m**\u001b[0m\u001b[0mkw\u001b[0m\u001b[1;33m)\u001b[0m\u001b[1;33m\u001b[0m\u001b[1;33m\u001b[0m\u001b[0m\n\u001b[0;32m    374\u001b[0m         \u001b[1;32melse\u001b[0m\u001b[1;33m:\u001b[0m\u001b[1;33m\u001b[0m\u001b[1;33m\u001b[0m\u001b[0m\n\u001b[1;32m--> 375\u001b[1;33m             \u001b[0mresponse\u001b[0m \u001b[1;33m=\u001b[0m \u001b[0mconn\u001b[0m\u001b[1;33m.\u001b[0m\u001b[0murlopen\u001b[0m\u001b[1;33m(\u001b[0m\u001b[0mmethod\u001b[0m\u001b[1;33m,\u001b[0m \u001b[0mu\u001b[0m\u001b[1;33m.\u001b[0m\u001b[0mrequest_uri\u001b[0m\u001b[1;33m,\u001b[0m \u001b[1;33m**\u001b[0m\u001b[0mkw\u001b[0m\u001b[1;33m)\u001b[0m\u001b[1;33m\u001b[0m\u001b[1;33m\u001b[0m\u001b[0m\n\u001b[0m\u001b[0;32m    376\u001b[0m \u001b[1;33m\u001b[0m\u001b[0m\n\u001b[0;32m    377\u001b[0m         \u001b[0mredirect_location\u001b[0m \u001b[1;33m=\u001b[0m \u001b[0mredirect\u001b[0m \u001b[1;32mand\u001b[0m \u001b[0mresponse\u001b[0m\u001b[1;33m.\u001b[0m\u001b[0mget_redirect_location\u001b[0m\u001b[1;33m(\u001b[0m\u001b[1;33m)\u001b[0m\u001b[1;33m\u001b[0m\u001b[1;33m\u001b[0m\u001b[0m\n",
      "\u001b[1;32m~\\anaconda3\\envs\\fencing_viz\\lib\\site-packages\\urllib3\\connectionpool.py\u001b[0m in \u001b[0;36murlopen\u001b[1;34m(self, method, url, body, headers, retries, redirect, assert_same_host, timeout, pool_timeout, release_conn, chunked, body_pos, **response_kw)\u001b[0m\n\u001b[0;32m    701\u001b[0m \u001b[1;33m\u001b[0m\u001b[0m\n\u001b[0;32m    702\u001b[0m             \u001b[1;31m# Make the request on the httplib connection object.\u001b[0m\u001b[1;33m\u001b[0m\u001b[1;33m\u001b[0m\u001b[0m\n\u001b[1;32m--> 703\u001b[1;33m             httplib_response = self._make_request(\n\u001b[0m\u001b[0;32m    704\u001b[0m                 \u001b[0mconn\u001b[0m\u001b[1;33m,\u001b[0m\u001b[1;33m\u001b[0m\u001b[1;33m\u001b[0m\u001b[0m\n\u001b[0;32m    705\u001b[0m                 \u001b[0mmethod\u001b[0m\u001b[1;33m,\u001b[0m\u001b[1;33m\u001b[0m\u001b[1;33m\u001b[0m\u001b[0m\n",
      "\u001b[1;32m~\\anaconda3\\envs\\fencing_viz\\lib\\site-packages\\urllib3\\connectionpool.py\u001b[0m in \u001b[0;36m_make_request\u001b[1;34m(self, conn, method, url, timeout, chunked, **httplib_request_kw)\u001b[0m\n\u001b[0;32m    447\u001b[0m                     \u001b[1;31m# Python 3 (including for exceptions like SystemExit).\u001b[0m\u001b[1;33m\u001b[0m\u001b[1;33m\u001b[0m\u001b[0m\n\u001b[0;32m    448\u001b[0m                     \u001b[1;31m# Otherwise it looks like a bug in the code.\u001b[0m\u001b[1;33m\u001b[0m\u001b[1;33m\u001b[0m\u001b[0m\n\u001b[1;32m--> 449\u001b[1;33m                     \u001b[0msix\u001b[0m\u001b[1;33m.\u001b[0m\u001b[0mraise_from\u001b[0m\u001b[1;33m(\u001b[0m\u001b[0me\u001b[0m\u001b[1;33m,\u001b[0m \u001b[1;32mNone\u001b[0m\u001b[1;33m)\u001b[0m\u001b[1;33m\u001b[0m\u001b[1;33m\u001b[0m\u001b[0m\n\u001b[0m\u001b[0;32m    450\u001b[0m         \u001b[1;32mexcept\u001b[0m \u001b[1;33m(\u001b[0m\u001b[0mSocketTimeout\u001b[0m\u001b[1;33m,\u001b[0m \u001b[0mBaseSSLError\u001b[0m\u001b[1;33m,\u001b[0m \u001b[0mSocketError\u001b[0m\u001b[1;33m)\u001b[0m \u001b[1;32mas\u001b[0m \u001b[0me\u001b[0m\u001b[1;33m:\u001b[0m\u001b[1;33m\u001b[0m\u001b[1;33m\u001b[0m\u001b[0m\n\u001b[0;32m    451\u001b[0m             \u001b[0mself\u001b[0m\u001b[1;33m.\u001b[0m\u001b[0m_raise_timeout\u001b[0m\u001b[1;33m(\u001b[0m\u001b[0merr\u001b[0m\u001b[1;33m=\u001b[0m\u001b[0me\u001b[0m\u001b[1;33m,\u001b[0m \u001b[0murl\u001b[0m\u001b[1;33m=\u001b[0m\u001b[0murl\u001b[0m\u001b[1;33m,\u001b[0m \u001b[0mtimeout_value\u001b[0m\u001b[1;33m=\u001b[0m\u001b[0mread_timeout\u001b[0m\u001b[1;33m)\u001b[0m\u001b[1;33m\u001b[0m\u001b[1;33m\u001b[0m\u001b[0m\n",
      "\u001b[1;32m~\\anaconda3\\envs\\fencing_viz\\lib\\site-packages\\urllib3\\packages\\six.py\u001b[0m in \u001b[0;36mraise_from\u001b[1;34m(value, from_value)\u001b[0m\n",
      "\u001b[1;32m~\\anaconda3\\envs\\fencing_viz\\lib\\site-packages\\urllib3\\connectionpool.py\u001b[0m in \u001b[0;36m_make_request\u001b[1;34m(self, conn, method, url, timeout, chunked, **httplib_request_kw)\u001b[0m\n\u001b[0;32m    442\u001b[0m                 \u001b[1;31m# Python 3\u001b[0m\u001b[1;33m\u001b[0m\u001b[1;33m\u001b[0m\u001b[0m\n\u001b[0;32m    443\u001b[0m                 \u001b[1;32mtry\u001b[0m\u001b[1;33m:\u001b[0m\u001b[1;33m\u001b[0m\u001b[1;33m\u001b[0m\u001b[0m\n\u001b[1;32m--> 444\u001b[1;33m                     \u001b[0mhttplib_response\u001b[0m \u001b[1;33m=\u001b[0m \u001b[0mconn\u001b[0m\u001b[1;33m.\u001b[0m\u001b[0mgetresponse\u001b[0m\u001b[1;33m(\u001b[0m\u001b[1;33m)\u001b[0m\u001b[1;33m\u001b[0m\u001b[1;33m\u001b[0m\u001b[0m\n\u001b[0m\u001b[0;32m    445\u001b[0m                 \u001b[1;32mexcept\u001b[0m \u001b[0mBaseException\u001b[0m \u001b[1;32mas\u001b[0m \u001b[0me\u001b[0m\u001b[1;33m:\u001b[0m\u001b[1;33m\u001b[0m\u001b[1;33m\u001b[0m\u001b[0m\n\u001b[0;32m    446\u001b[0m                     \u001b[1;31m# Remove the TypeError from the exception chain in\u001b[0m\u001b[1;33m\u001b[0m\u001b[1;33m\u001b[0m\u001b[0m\n",
      "\u001b[1;32m~\\anaconda3\\envs\\fencing_viz\\lib\\http\\client.py\u001b[0m in \u001b[0;36mgetresponse\u001b[1;34m(self)\u001b[0m\n\u001b[0;32m   1369\u001b[0m         \u001b[1;32mtry\u001b[0m\u001b[1;33m:\u001b[0m\u001b[1;33m\u001b[0m\u001b[1;33m\u001b[0m\u001b[0m\n\u001b[0;32m   1370\u001b[0m             \u001b[1;32mtry\u001b[0m\u001b[1;33m:\u001b[0m\u001b[1;33m\u001b[0m\u001b[1;33m\u001b[0m\u001b[0m\n\u001b[1;32m-> 1371\u001b[1;33m                 \u001b[0mresponse\u001b[0m\u001b[1;33m.\u001b[0m\u001b[0mbegin\u001b[0m\u001b[1;33m(\u001b[0m\u001b[1;33m)\u001b[0m\u001b[1;33m\u001b[0m\u001b[1;33m\u001b[0m\u001b[0m\n\u001b[0m\u001b[0;32m   1372\u001b[0m             \u001b[1;32mexcept\u001b[0m \u001b[0mConnectionError\u001b[0m\u001b[1;33m:\u001b[0m\u001b[1;33m\u001b[0m\u001b[1;33m\u001b[0m\u001b[0m\n\u001b[0;32m   1373\u001b[0m                 \u001b[0mself\u001b[0m\u001b[1;33m.\u001b[0m\u001b[0mclose\u001b[0m\u001b[1;33m(\u001b[0m\u001b[1;33m)\u001b[0m\u001b[1;33m\u001b[0m\u001b[1;33m\u001b[0m\u001b[0m\n",
      "\u001b[1;32m~\\anaconda3\\envs\\fencing_viz\\lib\\http\\client.py\u001b[0m in \u001b[0;36mbegin\u001b[1;34m(self)\u001b[0m\n\u001b[0;32m    317\u001b[0m         \u001b[1;31m# read until we get a non-100 response\u001b[0m\u001b[1;33m\u001b[0m\u001b[1;33m\u001b[0m\u001b[0m\n\u001b[0;32m    318\u001b[0m         \u001b[1;32mwhile\u001b[0m \u001b[1;32mTrue\u001b[0m\u001b[1;33m:\u001b[0m\u001b[1;33m\u001b[0m\u001b[1;33m\u001b[0m\u001b[0m\n\u001b[1;32m--> 319\u001b[1;33m             \u001b[0mversion\u001b[0m\u001b[1;33m,\u001b[0m \u001b[0mstatus\u001b[0m\u001b[1;33m,\u001b[0m \u001b[0mreason\u001b[0m \u001b[1;33m=\u001b[0m \u001b[0mself\u001b[0m\u001b[1;33m.\u001b[0m\u001b[0m_read_status\u001b[0m\u001b[1;33m(\u001b[0m\u001b[1;33m)\u001b[0m\u001b[1;33m\u001b[0m\u001b[1;33m\u001b[0m\u001b[0m\n\u001b[0m\u001b[0;32m    320\u001b[0m             \u001b[1;32mif\u001b[0m \u001b[0mstatus\u001b[0m \u001b[1;33m!=\u001b[0m \u001b[0mCONTINUE\u001b[0m\u001b[1;33m:\u001b[0m\u001b[1;33m\u001b[0m\u001b[1;33m\u001b[0m\u001b[0m\n\u001b[0;32m    321\u001b[0m                 \u001b[1;32mbreak\u001b[0m\u001b[1;33m\u001b[0m\u001b[1;33m\u001b[0m\u001b[0m\n",
      "\u001b[1;32m~\\anaconda3\\envs\\fencing_viz\\lib\\http\\client.py\u001b[0m in \u001b[0;36m_read_status\u001b[1;34m(self)\u001b[0m\n\u001b[0;32m    278\u001b[0m \u001b[1;33m\u001b[0m\u001b[0m\n\u001b[0;32m    279\u001b[0m     \u001b[1;32mdef\u001b[0m \u001b[0m_read_status\u001b[0m\u001b[1;33m(\u001b[0m\u001b[0mself\u001b[0m\u001b[1;33m)\u001b[0m\u001b[1;33m:\u001b[0m\u001b[1;33m\u001b[0m\u001b[1;33m\u001b[0m\u001b[0m\n\u001b[1;32m--> 280\u001b[1;33m         \u001b[0mline\u001b[0m \u001b[1;33m=\u001b[0m \u001b[0mstr\u001b[0m\u001b[1;33m(\u001b[0m\u001b[0mself\u001b[0m\u001b[1;33m.\u001b[0m\u001b[0mfp\u001b[0m\u001b[1;33m.\u001b[0m\u001b[0mreadline\u001b[0m\u001b[1;33m(\u001b[0m\u001b[0m_MAXLINE\u001b[0m \u001b[1;33m+\u001b[0m \u001b[1;36m1\u001b[0m\u001b[1;33m)\u001b[0m\u001b[1;33m,\u001b[0m \u001b[1;34m\"iso-8859-1\"\u001b[0m\u001b[1;33m)\u001b[0m\u001b[1;33m\u001b[0m\u001b[1;33m\u001b[0m\u001b[0m\n\u001b[0m\u001b[0;32m    281\u001b[0m         \u001b[1;32mif\u001b[0m \u001b[0mlen\u001b[0m\u001b[1;33m(\u001b[0m\u001b[0mline\u001b[0m\u001b[1;33m)\u001b[0m \u001b[1;33m>\u001b[0m \u001b[0m_MAXLINE\u001b[0m\u001b[1;33m:\u001b[0m\u001b[1;33m\u001b[0m\u001b[1;33m\u001b[0m\u001b[0m\n\u001b[0;32m    282\u001b[0m             \u001b[1;32mraise\u001b[0m \u001b[0mLineTooLong\u001b[0m\u001b[1;33m(\u001b[0m\u001b[1;34m\"status line\"\u001b[0m\u001b[1;33m)\u001b[0m\u001b[1;33m\u001b[0m\u001b[1;33m\u001b[0m\u001b[0m\n",
      "\u001b[1;32m~\\anaconda3\\envs\\fencing_viz\\lib\\socket.py\u001b[0m in \u001b[0;36mreadinto\u001b[1;34m(self, b)\u001b[0m\n\u001b[0;32m    702\u001b[0m         \u001b[1;32mwhile\u001b[0m \u001b[1;32mTrue\u001b[0m\u001b[1;33m:\u001b[0m\u001b[1;33m\u001b[0m\u001b[1;33m\u001b[0m\u001b[0m\n\u001b[0;32m    703\u001b[0m             \u001b[1;32mtry\u001b[0m\u001b[1;33m:\u001b[0m\u001b[1;33m\u001b[0m\u001b[1;33m\u001b[0m\u001b[0m\n\u001b[1;32m--> 704\u001b[1;33m                 \u001b[1;32mreturn\u001b[0m \u001b[0mself\u001b[0m\u001b[1;33m.\u001b[0m\u001b[0m_sock\u001b[0m\u001b[1;33m.\u001b[0m\u001b[0mrecv_into\u001b[0m\u001b[1;33m(\u001b[0m\u001b[0mb\u001b[0m\u001b[1;33m)\u001b[0m\u001b[1;33m\u001b[0m\u001b[1;33m\u001b[0m\u001b[0m\n\u001b[0m\u001b[0;32m    705\u001b[0m             \u001b[1;32mexcept\u001b[0m \u001b[0mtimeout\u001b[0m\u001b[1;33m:\u001b[0m\u001b[1;33m\u001b[0m\u001b[1;33m\u001b[0m\u001b[0m\n\u001b[0;32m    706\u001b[0m                 \u001b[0mself\u001b[0m\u001b[1;33m.\u001b[0m\u001b[0m_timeout_occurred\u001b[0m \u001b[1;33m=\u001b[0m \u001b[1;32mTrue\u001b[0m\u001b[1;33m\u001b[0m\u001b[1;33m\u001b[0m\u001b[0m\n",
      "\u001b[1;31mKeyboardInterrupt\u001b[0m: "
     ]
    }
   ],
   "source": [
    "scrape(1, 's', 'A', 2)"
   ]
  },
  {
   "cell_type": "code",
   "execution_count": 51,
   "metadata": {},
   "outputs": [],
   "source": [
    "from sqlalchemy import select\n"
   ]
  },
  {
   "cell_type": "code",
   "execution_count": 60,
   "metadata": {},
   "outputs": [],
   "source": [
    "fencer = SessionLocal.query(Fencer)[2]\n",
    "return_bout = SessionLocal.query(Bout).where(Bout.fencers.contains(fencer)).all()"
   ]
  },
  {
   "cell_type": "code",
   "execution_count": 62,
   "metadata": {},
   "outputs": [
    {
     "data": {
      "text/plain": [
       "('Gabriele', 'Cimini', 15, 14)"
      ]
     },
     "execution_count": 62,
     "metadata": {},
     "output_type": "execute_result"
    }
   ],
   "source": [
    "fencer.first_name, fencer.last_name, return_bout[1].fencer_1_score, return_bout[1].fencer_2_score"
   ]
  },
  {
   "cell_type": "code",
   "execution_count": 66,
   "metadata": {},
   "outputs": [],
   "source": [
    "tourn = SessionLocal.query(Tournament).all()"
   ]
  },
  {
   "cell_type": "code",
   "execution_count": 71,
   "metadata": {},
   "outputs": [
    {
     "data": {
      "text/plain": [
       "'Berne'"
      ]
     },
     "execution_count": 71,
     "metadata": {},
     "output_type": "execute_result"
    }
   ],
   "source": [
    "SessionLocal.query(Tournament).where(Tournament.fencers.contains(fencer)).all()[0].city"
   ]
  },
  {
   "cell_type": "markdown",
   "metadata": {},
   "source": [
    "# Testing Check Boxes"
   ]
  },
  {
   "cell_type": "code",
   "execution_count": 49,
   "metadata": {},
   "outputs": [
    {
     "name": "stderr",
     "output_type": "stream",
     "text": [
      "C:\\Users\\liamc\\AppData\\Local\\Temp/ipykernel_44368/234098867.py:1: DeprecationWarning: find_element_by_* commands are deprecated. Please use find_element() instead\n",
      "  ind_button = driver.find_element_by_id('weaponEpee')\n"
     ]
    }
   ],
   "source": [
    "ind_button = driver.find_element_by_id('weaponEpee')\n",
    "driver.implicitly_wait(10)\n",
    "ActionChains(driver).move_to_element(ind_button).click(ind_button).perform()"
   ]
  },
  {
   "cell_type": "code",
   "execution_count": 27,
   "metadata": {},
   "outputs": [
    {
     "name": "stderr",
     "output_type": "stream",
     "text": [
      "C:\\Users\\liamc\\AppData\\Local\\Temp/ipykernel_44368/4160549945.py:1: DeprecationWarning: find_element_by_* commands are deprecated. Please use find_element() instead\n",
      "  element = driver.find_element_by_id('weaponEpee')\n",
      "C:\\Users\\liamc\\AppData\\Local\\Temp/ipykernel_44368/4160549945.py:4: DeprecationWarning: find_element_by_* commands are deprecated. Please use find_element() instead\n",
      "  element = driver.find_element_by_id('eventTeam')\n",
      "C:\\Users\\liamc\\AppData\\Local\\Temp/ipykernel_44368/4160549945.py:7: DeprecationWarning: find_element_by_* commands are deprecated. Please use find_element() instead\n",
      "  select = Select(driver.find_element_by_id('ageCategory'))\n"
     ]
    }
   ],
   "source": [
    "element = driver.find_element_by_id('weaponEpee')\n",
    "driver.implicitly_wait(10)\n",
    "ActionChains(driver).move_to_element(element).click(element).perform()\n",
    "element = driver.find_element_by_id('eventTeam')\n",
    "driver.implicitly_wait(10)\n",
    "ActionChains(driver).move_to_element(element).click(element).perform()\n",
    "select = Select(driver.find_element_by_id('ageCategory'))\n",
    "select.select_by_value('s')\n"
   ]
  },
  {
   "cell_type": "code",
   "execution_count": 44,
   "metadata": {},
   "outputs": [
    {
     "name": "stderr",
     "output_type": "stream",
     "text": [
      "C:\\Users\\liamc\\AppData\\Local\\Temp/ipykernel_44368/3033914879.py:1: DeprecationWarning: find_element_by_* commands are deprecated. Please use find_element() instead\n",
      "  element = driver.find_element_by_id('eventIndividual')\n"
     ]
    }
   ],
   "source": [
    "element = driver.find_element_by_id('eventIndividual')\n",
    "driver.implicitly_wait(10)\n",
    "ActionChains(driver).move_to_element(element).click(element).perform()"
   ]
  },
  {
   "cell_type": "code",
   "execution_count": 43,
   "metadata": {},
   "outputs": [
    {
     "name": "stderr",
     "output_type": "stream",
     "text": [
      "C:\\Users\\liamc\\AppData\\Local\\Temp/ipykernel_44368/4208667.py:5: DeprecationWarning: find_element_by_* commands are deprecated. Please use find_element() instead\n",
      "  element = driver.find_element_by_id(id)\n",
      "C:\\Users\\liamc\\AppData\\Local\\Temp/ipykernel_44368/4208667.py:9: DeprecationWarning: find_element_by_* commands are deprecated. Please use find_element() instead\n",
      "  select = Select(driver.find_element_by_id('ageCategory'))\n"
     ]
    }
   ],
   "source": [
    "ids = ['weaponEpee', 'eventIndividual', 'genderMen']\n",
    "\n",
    "for id in ids:\n",
    "\n",
    "    element = driver.find_element_by_id(id)\n",
    "    driver.implicitly_wait(10)\n",
    "    ActionChains(driver).move_to_element(element).click(element).perform()\n",
    "\n",
    "select = Select(driver.find_element_by_id('ageCategory'))\n",
    "select.select_by_value('s')"
   ]
  },
  {
   "cell_type": "code",
   "execution_count": null,
   "metadata": {},
   "outputs": [],
   "source": [
    "in"
   ]
  },
  {
   "cell_type": "code",
   "execution_count": null,
   "metadata": {},
   "outputs": [],
   "source": []
  }
 ],
 "metadata": {
  "interpreter": {
   "hash": "2272d772725abaa0e9a8171d57b4be3848b3cc5e0dc324a7986cfa1a76fee20b"
  },
  "kernelspec": {
   "display_name": "Python 3.9.7 64-bit ('fencing_viz': conda)",
   "language": "python",
   "name": "python3"
  },
  "language_info": {
   "codemirror_mode": {
    "name": "ipython",
    "version": 3
   },
   "file_extension": ".py",
   "mimetype": "text/x-python",
   "name": "python",
   "nbconvert_exporter": "python",
   "pygments_lexer": "ipython3",
   "version": "3.9.7"
  },
  "orig_nbformat": 4
 },
 "nbformat": 4,
 "nbformat_minor": 2
}
